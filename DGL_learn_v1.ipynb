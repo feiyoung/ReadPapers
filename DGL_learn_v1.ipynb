{
  "nbformat": 4,
  "nbformat_minor": 0,
  "metadata": {
    "colab": {
      "provenance": [],
      "gpuType": "T4",
      "authorship_tag": "ABX9TyPWjdkQaIshN2g2ppIVXQjM",
      "include_colab_link": true
    },
    "kernelspec": {
      "name": "python3",
      "display_name": "Python 3"
    },
    "language_info": {
      "name": "python"
    },
    "accelerator": "GPU"
  },
  "cells": [
    {
      "cell_type": "markdown",
      "metadata": {
        "id": "view-in-github",
        "colab_type": "text"
      },
      "source": [
        "<a href=\"https://colab.research.google.com/github/feiyoung/ReadPapers/blob/master/DGL_learn_v1.ipynb\" target=\"_parent\"><img src=\"https://colab.research.google.com/assets/colab-badge.svg\" alt=\"Open In Colab\"/></a>"
      ]
    },
    {
      "cell_type": "code",
      "execution_count": 1,
      "metadata": {
        "colab": {
          "base_uri": "https://localhost:8080/"
        },
        "id": "dLvlvo1_RoRD",
        "outputId": "75d07887-fe41-4e08-8403-0ce37b1a3915"
      },
      "outputs": [
        {
          "output_type": "stream",
          "name": "stdout",
          "text": [
            "Collecting dgl\n",
            "  Downloading dgl-1.1.3-cp310-cp310-manylinux1_x86_64.whl (6.5 MB)\n",
            "\u001b[2K     \u001b[90m━━━━━━━━━━━━━━━━━━━━━━━━━━━━━━━━━━━━━━━━\u001b[0m \u001b[32m6.5/6.5 MB\u001b[0m \u001b[31m17.4 MB/s\u001b[0m eta \u001b[36m0:00:00\u001b[0m\n",
            "\u001b[?25hRequirement already satisfied: numpy>=1.14.0 in /usr/local/lib/python3.10/dist-packages (from dgl) (1.23.5)\n",
            "Requirement already satisfied: scipy>=1.1.0 in /usr/local/lib/python3.10/dist-packages (from dgl) (1.11.4)\n",
            "Requirement already satisfied: networkx>=2.1 in /usr/local/lib/python3.10/dist-packages (from dgl) (3.2.1)\n",
            "Requirement already satisfied: requests>=2.19.0 in /usr/local/lib/python3.10/dist-packages (from dgl) (2.31.0)\n",
            "Requirement already satisfied: tqdm in /usr/local/lib/python3.10/dist-packages (from dgl) (4.66.1)\n",
            "Requirement already satisfied: psutil>=5.8.0 in /usr/local/lib/python3.10/dist-packages (from dgl) (5.9.5)\n",
            "Requirement already satisfied: charset-normalizer<4,>=2 in /usr/local/lib/python3.10/dist-packages (from requests>=2.19.0->dgl) (3.3.2)\n",
            "Requirement already satisfied: idna<4,>=2.5 in /usr/local/lib/python3.10/dist-packages (from requests>=2.19.0->dgl) (3.6)\n",
            "Requirement already satisfied: urllib3<3,>=1.21.1 in /usr/local/lib/python3.10/dist-packages (from requests>=2.19.0->dgl) (2.0.7)\n",
            "Requirement already satisfied: certifi>=2017.4.17 in /usr/local/lib/python3.10/dist-packages (from requests>=2.19.0->dgl) (2023.11.17)\n",
            "Installing collected packages: dgl\n",
            "Successfully installed dgl-1.1.3\n"
          ]
        }
      ],
      "source": [
        "!pip install dgl\n",
        "#import dgl"
      ]
    },
    {
      "cell_type": "code",
      "source": [
        "import dgl"
      ],
      "metadata": {
        "colab": {
          "base_uri": "https://localhost:8080/"
        },
        "id": "WO6NTY4JR-ZH",
        "outputId": "c0c23348-9040-4e05-eb95-5dae3b2d1b46"
      },
      "execution_count": 2,
      "outputs": [
        {
          "output_type": "stream",
          "name": "stderr",
          "text": [
            "DGL backend not selected or invalid.  Assuming PyTorch for now.\n"
          ]
        },
        {
          "output_type": "stream",
          "name": "stdout",
          "text": [
            "Setting the default backend to \"pytorch\". You can change it in the ~/.dgl/config.json file or export the DGLBACKEND environment variable.  Valid options are: pytorch, mxnet, tensorflow (all lowercase)\n"
          ]
        }
      ]
    },
    {
      "cell_type": "code",
      "source": [
        "import torch as th"
      ],
      "metadata": {
        "id": "vID19tnySQX3"
      },
      "execution_count": 3,
      "outputs": []
    },
    {
      "cell_type": "code",
      "source": [
        "#u, v = th.tensor([0, 0, 0, 1]), th.tensor([1, 2, 3, 3])\n",
        "## Define edge using two groups of node IDs.\n",
        "u, v = th.tensor([0,0,0,1]), th.tensor([1,2,3,4])"
      ],
      "metadata": {
        "id": "h6MFmNEdSWuH"
      },
      "execution_count": 10,
      "outputs": []
    },
    {
      "cell_type": "code",
      "source": [
        "u"
      ],
      "metadata": {
        "colab": {
          "base_uri": "https://localhost:8080/"
        },
        "id": "Nk5KYSVdSlBL",
        "outputId": "f3b1c7be-f6fa-438f-f764-cafe4f6f2d26"
      },
      "execution_count": 5,
      "outputs": [
        {
          "output_type": "execute_result",
          "data": {
            "text/plain": [
              "tensor([0, 0, 0, 1])"
            ]
          },
          "metadata": {},
          "execution_count": 5
        }
      ]
    },
    {
      "cell_type": "code",
      "source": [
        "g = dgl.graph((u, v))"
      ],
      "metadata": {
        "id": "Ql0t6KQKSl65"
      },
      "execution_count": 11,
      "outputs": []
    },
    {
      "cell_type": "code",
      "source": [
        "print(g)"
      ],
      "metadata": {
        "colab": {
          "base_uri": "https://localhost:8080/"
        },
        "id": "dRxl7INQS9eC",
        "outputId": "d111d61c-e428-431e-e017-f2bb8f13646b"
      },
      "execution_count": 12,
      "outputs": [
        {
          "output_type": "stream",
          "name": "stdout",
          "text": [
            "Graph(num_nodes=5, num_edges=4,\n",
            "      ndata_schemes={}\n",
            "      edata_schemes={})\n"
          ]
        }
      ]
    },
    {
      "cell_type": "code",
      "source": [
        "# Access the node IDs in the graph\n",
        "print(g.nodes())"
      ],
      "metadata": {
        "colab": {
          "base_uri": "https://localhost:8080/"
        },
        "id": "8uc-M8ceTDqh",
        "outputId": "0e03986f-5177-4f02-d52c-ec6a189d24bc"
      },
      "execution_count": 13,
      "outputs": [
        {
          "output_type": "stream",
          "name": "stdout",
          "text": [
            "tensor([0, 1, 2, 3, 4])\n"
          ]
        }
      ]
    },
    {
      "cell_type": "code",
      "source": [
        "# Access the node ID of edges\n",
        "print(g.edges())"
      ],
      "metadata": {
        "colab": {
          "base_uri": "https://localhost:8080/"
        },
        "id": "Bqn0Dva6TOwR",
        "outputId": "cd06b1de-bd96-4f52-9d01-b0cbda6a7741"
      },
      "execution_count": 14,
      "outputs": [
        {
          "output_type": "stream",
          "name": "stdout",
          "text": [
            "(tensor([0, 0, 0, 1]), tensor([1, 2, 3, 4]))\n"
          ]
        }
      ]
    },
    {
      "cell_type": "code",
      "source": [
        "# Access all the node IDs of edges and the IDs of edges\n",
        "print(g.edges(form='all'))"
      ],
      "metadata": {
        "colab": {
          "base_uri": "https://localhost:8080/"
        },
        "id": "yvCdiB7rTdUn",
        "outputId": "58e55244-afb5-4ce0-e4f4-b82f936994de"
      },
      "execution_count": 15,
      "outputs": [
        {
          "output_type": "stream",
          "name": "stdout",
          "text": [
            "(tensor([0, 0, 0, 1]), tensor([1, 2, 3, 4]), tensor([0, 1, 2, 3]))\n"
          ]
        }
      ]
    },
    {
      "cell_type": "code",
      "source": [
        "# 如果具有最大ID的节点没有边，在创建图的时候，用户需要明确地指明节点的数量。\n",
        "g = dgl.graph((u, v), num_nodes=8)"
      ],
      "metadata": {
        "id": "e0m0p-ZpTqxz"
      },
      "execution_count": 16,
      "outputs": []
    },
    {
      "cell_type": "code",
      "source": [
        "print(g)"
      ],
      "metadata": {
        "colab": {
          "base_uri": "https://localhost:8080/"
        },
        "id": "TKLZAGylTywn",
        "outputId": "8a457636-9310-4cec-a897-d060c904050f"
      },
      "execution_count": 17,
      "outputs": [
        {
          "output_type": "stream",
          "name": "stdout",
          "text": [
            "Graph(num_nodes=8, num_edges=4,\n",
            "      ndata_schemes={}\n",
            "      edata_schemes={})\n"
          ]
        }
      ]
    },
    {
      "cell_type": "code",
      "source": [
        "print(g.edges(form='all'))"
      ],
      "metadata": {
        "colab": {
          "base_uri": "https://localhost:8080/"
        },
        "id": "DpRDwxHZTzoG",
        "outputId": "259022c2-5290-4bfd-d1ad-cbc96ae6c691"
      },
      "execution_count": 18,
      "outputs": [
        {
          "output_type": "stream",
          "name": "stdout",
          "text": [
            "(tensor([0, 0, 0, 1]), tensor([1, 2, 3, 4]), tensor([0, 1, 2, 3]))\n"
          ]
        }
      ]
    },
    {
      "cell_type": "code",
      "source": [
        "print(g.nodes()) # Now there are 8 nodes!!"
      ],
      "metadata": {
        "colab": {
          "base_uri": "https://localhost:8080/"
        },
        "id": "989i_szzT2ta",
        "outputId": "c09197a8-5a0b-4a5c-b053-6f76d05ed8d8"
      },
      "execution_count": 19,
      "outputs": [
        {
          "output_type": "stream",
          "name": "stdout",
          "text": [
            "tensor([0, 1, 2, 3, 4, 5, 6, 7])\n"
          ]
        }
      ]
    },
    {
      "cell_type": "code",
      "source": [
        "# 对于无向的图，用户需要为每条边都创建两个方向的边。可以使用 dgl.to_bidirected() 函数来实现这个目的。\n",
        "# 如下面的代码段所示，这个函数可以把原图转换成一个包含反向边的图。\n",
        "bg = dgl.to_bidirected(g)"
      ],
      "metadata": {
        "id": "wxXeSpddT8ev"
      },
      "execution_count": 20,
      "outputs": []
    },
    {
      "cell_type": "code",
      "source": [
        "print(bg) # Now there are 8 edges"
      ],
      "metadata": {
        "colab": {
          "base_uri": "https://localhost:8080/"
        },
        "id": "qPQr-0R1UJi_",
        "outputId": "b0107423-71fb-40a6-f581-b9044a5f7c3a"
      },
      "execution_count": 21,
      "outputs": [
        {
          "output_type": "stream",
          "name": "stdout",
          "text": [
            "Graph(num_nodes=8, num_edges=8,\n",
            "      ndata_schemes={}\n",
            "      edata_schemes={})\n"
          ]
        }
      ]
    },
    {
      "cell_type": "code",
      "source": [
        "print(bg.edges())"
      ],
      "metadata": {
        "colab": {
          "base_uri": "https://localhost:8080/"
        },
        "id": "1fh0MSW0ULIN",
        "outputId": "facdd95c-bfc5-4b95-e9b2-15dbb4844cd0"
      },
      "execution_count": 22,
      "outputs": [
        {
          "output_type": "stream",
          "name": "stdout",
          "text": [
            "(tensor([0, 0, 0, 1, 1, 2, 3, 4]), tensor([1, 2, 3, 0, 4, 0, 0, 1]))\n"
          ]
        }
      ]
    },
    {
      "cell_type": "markdown",
      "source": [
        "Note: 由于Tensor类内部使用C来存储，且显性定义了数据类型以及存储的设备信息，DGL推荐使用Tensor作为DGL API的输入。\n",
        "DGL支持使用 32\n",
        " 位或 64\n",
        " 位的整数作为节点ID和边ID。节点和边ID的数据类型必须一致。如果使用 64\n",
        " 位整数， DGL可以处理最多 263−1\n",
        " 个节点或边。不过，如果图里的节点或者边的数量小于 231−1\n",
        " ，用户最好使用 32\n",
        " 位整数。 这样不仅能提升速度，还能减少内存的使用。DGL提供了进行数据类型转换的方法，如下例所示。"
      ],
      "metadata": {
        "id": "RlnfuBD3UiEu"
      }
    },
    {
      "cell_type": "code",
      "source": [
        "edges = th.tensor([2, 5, 3]), th.tensor([3, 5, 0])  # 边：2->3, 5->5, 3->0\n",
        "g64 = dgl.graph(edges)\n",
        "print(g64.idtype)"
      ],
      "metadata": {
        "colab": {
          "base_uri": "https://localhost:8080/"
        },
        "id": "E3mYMZvdUTwr",
        "outputId": "934a8e20-6d92-4f8b-ebb5-76d912b740a6"
      },
      "execution_count": 24,
      "outputs": [
        {
          "output_type": "stream",
          "name": "stdout",
          "text": [
            "torch.int64\n"
          ]
        }
      ]
    },
    {
      "cell_type": "code",
      "source": [
        "g32 = dgl.graph(edges, idtype=th.int32)  # 使用int32构建图\n",
        "print(g32.idtype)"
      ],
      "metadata": {
        "colab": {
          "base_uri": "https://localhost:8080/"
        },
        "id": "tuyXf8_kVB-B",
        "outputId": "bf468231-3283-499e-aa41-5581641d896b"
      },
      "execution_count": 25,
      "outputs": [
        {
          "output_type": "stream",
          "name": "stdout",
          "text": [
            "torch.int32\n"
          ]
        }
      ]
    },
    {
      "cell_type": "code",
      "source": [
        "g64_2 = g32.long()  # 转换成int64\n",
        "g64_2.idtype"
      ],
      "metadata": {
        "colab": {
          "base_uri": "https://localhost:8080/"
        },
        "id": "kDeDNd4jVI41",
        "outputId": "422f08c6-6278-4f57-acf4-32d5ec5205ed"
      },
      "execution_count": 26,
      "outputs": [
        {
          "output_type": "execute_result",
          "data": {
            "text/plain": [
              "torch.int64"
            ]
          },
          "metadata": {},
          "execution_count": 26
        }
      ]
    },
    {
      "cell_type": "code",
      "source": [
        "g32_2 = g64.int()  # 转换成int32\n",
        "g32_2.idtype"
      ],
      "metadata": {
        "colab": {
          "base_uri": "https://localhost:8080/"
        },
        "id": "Oamwut09VQH8",
        "outputId": "d873bb3e-aeb1-4356-83b1-318bcee4469b"
      },
      "execution_count": 27,
      "outputs": [
        {
          "output_type": "execute_result",
          "data": {
            "text/plain": [
              "torch.int32"
            ]
          },
          "metadata": {},
          "execution_count": 27
        }
      ]
    },
    {
      "cell_type": "markdown",
      "source": [
        "Create attributes for nodes and edges of Graph"
      ],
      "metadata": {
        "id": "abx0KzB-WQyc"
      }
    },
    {
      "cell_type": "code",
      "source": [
        "print(g.num_nodes())"
      ],
      "metadata": {
        "colab": {
          "base_uri": "https://localhost:8080/"
        },
        "id": "hSbKf_4OWc1l",
        "outputId": "4e83a2cc-cf12-4e93-ca01-7e1cb86a67e8"
      },
      "execution_count": 28,
      "outputs": [
        {
          "output_type": "stream",
          "name": "stdout",
          "text": [
            "8\n"
          ]
        }
      ]
    },
    {
      "cell_type": "code",
      "source": [
        "g.ndata['x'] = th.ones(g.num_nodes(), 3) # each node have a vector [1,1,1] and the attribute name is 'x'"
      ],
      "metadata": {
        "id": "yrkfMNNbVROk"
      },
      "execution_count": 29,
      "outputs": []
    },
    {
      "cell_type": "code",
      "source": [
        "g.edata['x'] = th.ones(g.num_edges(), dtype=th.int32)  # each edge has a scalar 1 and integer type, and the attribute name is 'x'"
      ],
      "metadata": {
        "id": "nKPbWn2dWmr4"
      },
      "execution_count": 30,
      "outputs": []
    },
    {
      "cell_type": "code",
      "source": [
        "print(g)"
      ],
      "metadata": {
        "colab": {
          "base_uri": "https://localhost:8080/"
        },
        "id": "x7ge0nE5Wwgf",
        "outputId": "6e28a1a7-1c93-4469-bb2e-87da592239b7"
      },
      "execution_count": 31,
      "outputs": [
        {
          "output_type": "stream",
          "name": "stdout",
          "text": [
            "Graph(num_nodes=8, num_edges=4,\n",
            "      ndata_schemes={'x': Scheme(shape=(3,), dtype=torch.float32)}\n",
            "      edata_schemes={'x': Scheme(shape=(), dtype=torch.int32)})\n"
          ]
        }
      ]
    },
    {
      "cell_type": "code",
      "source": [
        "g.ndata['x'][2] #  # 获取节点2的特征"
      ],
      "metadata": {
        "colab": {
          "base_uri": "https://localhost:8080/"
        },
        "id": "fgWI-tNmXPoh",
        "outputId": "a7dbee24-3003-48f6-c5e6-10476d9e1e10"
      },
      "execution_count": 34,
      "outputs": [
        {
          "output_type": "execute_result",
          "data": {
            "text/plain": [
              "tensor([1., 1., 1.])"
            ]
          },
          "metadata": {},
          "execution_count": 34
        }
      ]
    },
    {
      "cell_type": "code",
      "source": [
        "g.ndata['y'] = th.randn(g.num_nodes(), 5) ## Add a new group of attributes named 'y' for nodes."
      ],
      "metadata": {
        "id": "JBfzX-U5W7vb"
      },
      "execution_count": 32,
      "outputs": []
    },
    {
      "cell_type": "code",
      "source": [
        "g.edata['x'][th.tensor([0, 3])]  # 获取边0和3的特征"
      ],
      "metadata": {
        "colab": {
          "base_uri": "https://localhost:8080/"
        },
        "id": "6oxLqaylXM9V",
        "outputId": "2d19e4c3-8957-492d-9051-a35f37738cd4"
      },
      "execution_count": 35,
      "outputs": [
        {
          "output_type": "execute_result",
          "data": {
            "text/plain": [
              "tensor([1, 1], dtype=torch.int32)"
            ]
          },
          "metadata": {},
          "execution_count": 35
        }
      ]
    },
    {
      "cell_type": "markdown",
      "source": [
        "关于 ndata 和 edata 接口的重要说明：仅允许使用数值类型（如单精度浮点型、双精度浮点型和整型）的特征。这些特征可以是标量、向量或多维张量。\n",
        "\n",
        "每个节点特征具有唯一名称，每个边特征也具有唯一名称。节点和边的特征可以具有相同的名称（如上述示例代码中的 'x' ）。\n",
        "\n",
        "通过张量分配创建特征时，DGL会将特征赋给图中的每个节点和每条边。该张量的第一维必须与图中节点或边的数量一致。 不能将特征赋给图中节点或边的子集。\n",
        "\n",
        "相同名称的特征必须具有相同的维度和数据类型。\n",
        "\n",
        "特征张量使用”行优先”的原则，即每个行切片储存1个节点或1条边的特征（参考上述示例代码的第16和18行）。"
      ],
      "metadata": {
        "id": "1lAr1zBtXj0j"
      }
    },
    {
      "cell_type": "markdown",
      "source": [
        "对于加权图，用户可以将权重储存为一个边特征，如下。"
      ],
      "metadata": {
        "id": "hRmGhxNSXznU"
      }
    },
    {
      "cell_type": "code",
      "source": [
        "# 边 0->1, 0->2, 0->3, 1->3\n",
        "edges = th.tensor([0, 0, 0, 1]), th.tensor([1, 2, 3, 3])\n",
        "weights = th.tensor([0.1, 0.6, 0.9, 0.7])  # 每条边的权重\n",
        "g = dgl.graph(edges)\n",
        "g.edata['w'] = weights  # 将其命名为 'w'\n",
        "print(g)\n"
      ],
      "metadata": {
        "colab": {
          "base_uri": "https://localhost:8080/"
        },
        "id": "tkT2GhugXcIh",
        "outputId": "aa234c47-ef6e-4a8f-ba91-c4ef521c5046"
      },
      "execution_count": 36,
      "outputs": [
        {
          "output_type": "stream",
          "name": "stdout",
          "text": [
            "Graph(num_nodes=4, num_edges=4,\n",
            "      ndata_schemes={}\n",
            "      edata_schemes={'w': Scheme(shape=(), dtype=torch.float32)})\n"
          ]
        }
      ]
    },
    {
      "cell_type": "markdown",
      "source": [
        "1.4 从外部源创建图¶"
      ],
      "metadata": {
        "id": "fiI0w02uYShz"
      }
    },
    {
      "cell_type": "code",
      "source": [
        "#可以从外部来源构造一个 DGLGraph 对象，包括：\n",
        "# 1.从用于图和稀疏矩阵的外部Python库（NetworkX 和 SciPy）创建而来。\n",
        "# 2. 从磁盘加载图数据。\n",
        "import dgl\n",
        "import torch as th\n",
        "import scipy.sparse as sp\n",
        "spmat = sp.rand(100, 100, density=0.05) # 5%非零项\n",
        "g2 = dgl.from_scipy(spmat)\n",
        "print(g2)"
      ],
      "metadata": {
        "colab": {
          "base_uri": "https://localhost:8080/"
        },
        "id": "w04v_gEVYTwu",
        "outputId": "89aa1934-8434-4966-dc39-3cba789a01b0"
      },
      "execution_count": 38,
      "outputs": [
        {
          "output_type": "stream",
          "name": "stdout",
          "text": [
            "Graph(num_nodes=100, num_edges=500,\n",
            "      ndata_schemes={}\n",
            "      edata_schemes={})\n"
          ]
        }
      ]
    },
    {
      "cell_type": "code",
      "source": [
        "print(g2.nodes())"
      ],
      "metadata": {
        "colab": {
          "base_uri": "https://localhost:8080/"
        },
        "id": "AW5U2pShYt-Z",
        "outputId": "8320722c-a7f1-4bd7-c3ca-2000fd68d206"
      },
      "execution_count": 39,
      "outputs": [
        {
          "output_type": "stream",
          "name": "stdout",
          "text": [
            "tensor([ 0,  1,  2,  3,  4,  5,  6,  7,  8,  9, 10, 11, 12, 13, 14, 15, 16, 17,\n",
            "        18, 19, 20, 21, 22, 23, 24, 25, 26, 27, 28, 29, 30, 31, 32, 33, 34, 35,\n",
            "        36, 37, 38, 39, 40, 41, 42, 43, 44, 45, 46, 47, 48, 49, 50, 51, 52, 53,\n",
            "        54, 55, 56, 57, 58, 59, 60, 61, 62, 63, 64, 65, 66, 67, 68, 69, 70, 71,\n",
            "        72, 73, 74, 75, 76, 77, 78, 79, 80, 81, 82, 83, 84, 85, 86, 87, 88, 89,\n",
            "        90, 91, 92, 93, 94, 95, 96, 97, 98, 99])\n"
          ]
        }
      ]
    },
    {
      "cell_type": "code",
      "source": [
        "print(g2.edges(form='all'))"
      ],
      "metadata": {
        "colab": {
          "base_uri": "https://localhost:8080/"
        },
        "id": "Q0GogsmDY3uU",
        "outputId": "e2c1ca10-f6f5-4358-f76d-ae5cc6f14cb1"
      },
      "execution_count": 40,
      "outputs": [
        {
          "output_type": "stream",
          "name": "stdout",
          "text": [
            "(tensor([45,  7, 13, 10, 25, 16, 95, 99, 71, 78, 97, 53, 42, 47, 15, 16, 23, 32,\n",
            "        48, 32, 31, 83, 58, 25, 42, 67, 22, 44, 31, 24,  9, 14, 69, 37, 66, 39,\n",
            "         2, 34, 35, 90, 74,  5, 45, 31, 26, 80, 96, 55, 82, 39, 11, 17, 14, 62,\n",
            "        52, 44, 16, 38, 96,  9, 72, 33, 49, 99, 14,  2, 89, 12, 15,  3, 84, 66,\n",
            "        28, 67, 92, 38, 71, 56, 86, 27, 93, 95, 22, 25, 44, 67,  5, 70, 69, 21,\n",
            "        32, 21, 10, 52, 99, 25, 68, 61, 44, 25, 29, 15, 64, 20, 69, 52, 77, 20,\n",
            "        60, 94, 24, 75, 38, 94,  6, 67, 46, 14, 43, 53, 79, 88, 17, 74, 50, 64,\n",
            "        73,  3, 75, 79, 30, 53, 12, 13, 39, 62, 66, 41, 34, 12, 20, 65, 89, 28,\n",
            "        38,  9, 82, 85, 53, 11, 67, 95, 19, 22, 23, 71,  4, 27, 34, 36,  6, 16,\n",
            "        93, 79, 82, 75, 91, 39, 12, 70, 40, 86, 24, 42, 70, 38, 50, 47, 60, 16,\n",
            "        48, 30, 96, 82, 24, 12, 93, 96,  0, 81, 74, 10, 48, 36, 58, 27, 56, 19,\n",
            "        45, 43,  5, 88, 97,  5, 20,  4, 17, 88, 27, 56, 41, 21, 47, 12, 23, 13,\n",
            "        56, 24, 84, 87, 43, 32,  5,  7,  2, 36, 84,  4, 92, 61, 24, 99, 97, 29,\n",
            "        69, 13, 70, 26, 27, 42, 52, 22, 45, 63, 54, 70, 35, 52, 10, 64, 49,  5,\n",
            "        35, 10, 53, 72, 66, 72, 78, 32,  3, 82, 86, 36,  2, 86, 87, 17, 61, 58,\n",
            "        89,  3, 14, 69, 61, 86,  0, 17,  7,  4, 13, 91, 91, 74, 41, 30, 29, 57,\n",
            "        21, 82, 35, 83, 10, 42,  2, 46, 54, 26, 40, 31, 58,  6, 68, 35, 15, 20,\n",
            "        44, 14, 96, 94, 99, 73, 34, 37, 24, 23, 91, 56, 27, 45, 72,  0, 24, 30,\n",
            "        81, 91, 52, 96, 92, 13, 74, 74, 46,  7, 97, 43,  7, 17, 12,  6, 68, 48,\n",
            "        88, 60, 50, 48, 83, 19,  2, 59, 15, 41, 28, 27, 28, 17, 15, 10, 19, 78,\n",
            "        55,  0, 82, 19,  6, 36, 20, 90, 30, 66, 54, 75, 40, 78, 46, 78, 91, 22,\n",
            "        82, 56, 10, 79, 79, 99, 30, 10, 61, 35, 36, 79, 42, 73, 48, 53, 45, 71,\n",
            "        72, 56, 88, 70, 95, 37, 58, 24, 44, 94, 98, 87, 96, 49, 88, 69, 29, 78,\n",
            "        50, 61, 48, 94, 57, 19, 34, 91, 63, 97, 27, 79, 69,  2,  9, 78, 84, 46,\n",
            "        46, 63, 70, 34, 47, 51, 53, 24, 83,  2, 55, 37, 89, 64, 21, 83, 12, 77,\n",
            "        56, 67, 88, 72, 47, 59, 11, 89, 87, 98, 60, 50, 39, 27, 20, 33, 46, 80,\n",
            "        22, 89, 92, 41,  4, 36, 53, 50, 30, 80,  8, 75, 91, 59, 97, 45, 82, 31,\n",
            "        14, 45, 34, 65,  2, 92, 42, 66, 52, 46, 11, 38, 63, 28]), tensor([32, 85, 68, 38, 64, 30, 37,  3, 66, 95, 20, 89, 70, 55, 40, 38, 87, 33,\n",
            "        81, 53, 73, 99, 44, 90, 69, 80, 35,  3, 11, 39, 17, 47,  0, 88, 88, 71,\n",
            "        66, 56,  6, 15, 48,  2, 41, 42, 45,  3,  4, 88, 30, 27, 94, 18, 16, 33,\n",
            "        99, 57, 67, 19, 19, 72, 89, 24, 64, 14, 24,  7, 49, 37, 36,  6, 24, 50,\n",
            "        49, 46, 53, 67, 41,  2, 61, 22, 72, 47, 57, 83, 22, 51, 98,  1, 33, 83,\n",
            "        66, 46, 41, 92, 47, 73, 99, 39, 61, 41, 76, 63, 45, 46, 35, 55, 28, 60,\n",
            "        35, 95, 41, 59, 86, 63, 29, 50, 58, 45,  9, 47, 60, 28, 95, 22, 78, 40,\n",
            "        73, 89, 73, 66, 43, 71, 64, 35, 54, 82, 13,  6, 30, 19, 59, 27, 38, 34,\n",
            "        62, 80,  4, 16, 59, 39, 77, 83, 71,  9, 11, 29, 16, 27, 24, 28, 70, 54,\n",
            "        61, 61, 43, 57, 49, 47, 76, 17, 72, 42, 76, 63, 23, 31, 15, 56, 27,  0,\n",
            "        86, 30, 92, 66, 52, 73, 29, 87, 81, 82, 40, 44, 34, 76, 97, 54, 84, 47,\n",
            "        10, 94, 36, 57, 42, 96, 83, 41, 38, 27, 62, 40, 12, 84, 38, 50, 38, 67,\n",
            "        64, 92, 50, 34,  1, 52, 95, 86, 10, 95, 68, 33, 60, 40, 46,  2, 73, 28,\n",
            "        36, 88, 42, 65, 98, 36, 13, 99, 81, 16,  5,  3, 73, 46, 42, 77, 42, 80,\n",
            "        62, 14, 68, 37, 45, 79, 69, 18,  7, 53, 43, 32,  6, 11, 88, 28, 53, 56,\n",
            "        36,  4, 27,  4, 79, 25, 14, 24, 66, 92, 44, 39, 12, 86, 54, 94, 16, 87,\n",
            "        28, 83, 53, 33, 23, 73, 77, 45, 58, 51, 19, 37, 85, 82, 44, 16, 76, 78,\n",
            "        19, 36, 95, 34, 86, 13, 51, 54,  2, 80, 94, 35, 86, 90,  7, 91,  7, 97,\n",
            "        33, 51, 97,  6,  5, 25, 12, 91, 33, 27, 54, 78, 45, 10, 17,  5, 34, 64,\n",
            "        96, 89, 64, 31, 45, 67, 47, 26,  3, 80, 84, 32, 48, 82,  6, 97, 10, 64,\n",
            "        71, 59, 69, 30, 57, 36, 72, 71, 86,  2, 22, 56, 73, 10, 40, 87, 56,  1,\n",
            "         1, 79,  0, 29, 80, 22, 72, 52, 11, 45, 92, 16, 64, 25, 28, 24, 60, 77,\n",
            "        43, 67,  7, 69, 33, 64, 63, 16, 86, 47, 38, 11, 81, 65,  8,  6, 82,  3,\n",
            "        46, 78, 75, 54, 19, 42, 40, 50,  7, 30, 23, 36, 24, 21, 99, 46, 37, 42,\n",
            "        89,  9, 65, 59, 40, 41, 74, 55, 53, 57, 82, 19, 35, 93, 67, 24, 92, 13,\n",
            "        57, 90, 29, 16, 88, 11, 10, 39, 58, 33, 78, 97, 39, 24, 94, 79, 93, 86,\n",
            "        11, 47, 91, 72, 50, 52, 30, 59, 65, 76, 31, 77, 65,  8, 64, 79, 65, 76,\n",
            "        98, 88, 86, 60,  2, 29, 61, 21,  0, 22, 38, 87, 67, 24]), tensor([  0,   1,   2,   3,   4,   5,   6,   7,   8,   9,  10,  11,  12,  13,\n",
            "         14,  15,  16,  17,  18,  19,  20,  21,  22,  23,  24,  25,  26,  27,\n",
            "         28,  29,  30,  31,  32,  33,  34,  35,  36,  37,  38,  39,  40,  41,\n",
            "         42,  43,  44,  45,  46,  47,  48,  49,  50,  51,  52,  53,  54,  55,\n",
            "         56,  57,  58,  59,  60,  61,  62,  63,  64,  65,  66,  67,  68,  69,\n",
            "         70,  71,  72,  73,  74,  75,  76,  77,  78,  79,  80,  81,  82,  83,\n",
            "         84,  85,  86,  87,  88,  89,  90,  91,  92,  93,  94,  95,  96,  97,\n",
            "         98,  99, 100, 101, 102, 103, 104, 105, 106, 107, 108, 109, 110, 111,\n",
            "        112, 113, 114, 115, 116, 117, 118, 119, 120, 121, 122, 123, 124, 125,\n",
            "        126, 127, 128, 129, 130, 131, 132, 133, 134, 135, 136, 137, 138, 139,\n",
            "        140, 141, 142, 143, 144, 145, 146, 147, 148, 149, 150, 151, 152, 153,\n",
            "        154, 155, 156, 157, 158, 159, 160, 161, 162, 163, 164, 165, 166, 167,\n",
            "        168, 169, 170, 171, 172, 173, 174, 175, 176, 177, 178, 179, 180, 181,\n",
            "        182, 183, 184, 185, 186, 187, 188, 189, 190, 191, 192, 193, 194, 195,\n",
            "        196, 197, 198, 199, 200, 201, 202, 203, 204, 205, 206, 207, 208, 209,\n",
            "        210, 211, 212, 213, 214, 215, 216, 217, 218, 219, 220, 221, 222, 223,\n",
            "        224, 225, 226, 227, 228, 229, 230, 231, 232, 233, 234, 235, 236, 237,\n",
            "        238, 239, 240, 241, 242, 243, 244, 245, 246, 247, 248, 249, 250, 251,\n",
            "        252, 253, 254, 255, 256, 257, 258, 259, 260, 261, 262, 263, 264, 265,\n",
            "        266, 267, 268, 269, 270, 271, 272, 273, 274, 275, 276, 277, 278, 279,\n",
            "        280, 281, 282, 283, 284, 285, 286, 287, 288, 289, 290, 291, 292, 293,\n",
            "        294, 295, 296, 297, 298, 299, 300, 301, 302, 303, 304, 305, 306, 307,\n",
            "        308, 309, 310, 311, 312, 313, 314, 315, 316, 317, 318, 319, 320, 321,\n",
            "        322, 323, 324, 325, 326, 327, 328, 329, 330, 331, 332, 333, 334, 335,\n",
            "        336, 337, 338, 339, 340, 341, 342, 343, 344, 345, 346, 347, 348, 349,\n",
            "        350, 351, 352, 353, 354, 355, 356, 357, 358, 359, 360, 361, 362, 363,\n",
            "        364, 365, 366, 367, 368, 369, 370, 371, 372, 373, 374, 375, 376, 377,\n",
            "        378, 379, 380, 381, 382, 383, 384, 385, 386, 387, 388, 389, 390, 391,\n",
            "        392, 393, 394, 395, 396, 397, 398, 399, 400, 401, 402, 403, 404, 405,\n",
            "        406, 407, 408, 409, 410, 411, 412, 413, 414, 415, 416, 417, 418, 419,\n",
            "        420, 421, 422, 423, 424, 425, 426, 427, 428, 429, 430, 431, 432, 433,\n",
            "        434, 435, 436, 437, 438, 439, 440, 441, 442, 443, 444, 445, 446, 447,\n",
            "        448, 449, 450, 451, 452, 453, 454, 455, 456, 457, 458, 459, 460, 461,\n",
            "        462, 463, 464, 465, 466, 467, 468, 469, 470, 471, 472, 473, 474, 475,\n",
            "        476, 477, 478, 479, 480, 481, 482, 483, 484, 485, 486, 487, 488, 489,\n",
            "        490, 491, 492, 493, 494, 495, 496, 497, 498, 499]))\n"
          ]
        }
      ]
    },
    {
      "cell_type": "code",
      "source": [
        "import networkx as nx\n",
        "nx_g = nx.path_graph(5) # 一条链路0-1-2-3-4\n",
        "dgl.from_networkx(nx_g) #"
      ],
      "metadata": {
        "colab": {
          "base_uri": "https://localhost:8080/"
        },
        "id": "13Biq0d9Ymi3",
        "outputId": "fe54ea8d-8510-421f-b3cb-8e9a528564b5"
      },
      "execution_count": 41,
      "outputs": [
        {
          "output_type": "execute_result",
          "data": {
            "text/plain": [
              "Graph(num_nodes=5, num_edges=8,\n",
              "      ndata_schemes={}\n",
              "      edata_schemes={})"
            ]
          },
          "metadata": {},
          "execution_count": 41
        }
      ]
    },
    {
      "cell_type": "markdown",
      "source": [
        "Note: 注意，当使用 nx.path_graph(5) 进行创建时， DGLGraph 对象有8条边，而非4条。 这是由于 nx.path_graph(5) 构建了一个无向的NetworkX图 networkx.Graph ，而 DGLGraph 的边总是有向的。 所以当将无向的NetworkX图转换为 DGLGraph 对象时，DGL会在内部将1条无向边转换为2条有向边。 使用有向的NetworkX图 networkx.DiGraph 可避免该行为。"
      ],
      "metadata": {
        "id": "Uwwva3sWbUcL"
      }
    },
    {
      "cell_type": "code",
      "source": [
        "nxg = nx.DiGraph([(2, 1), (1, 2), (2, 3), (0, 0)])\n",
        "dgl.from_networkx(nxg)"
      ],
      "metadata": {
        "colab": {
          "base_uri": "https://localhost:8080/"
        },
        "id": "9SVlJZMRYtEG",
        "outputId": "f7bb257c-3028-43f8-8e74-e81ffa264945"
      },
      "execution_count": 42,
      "outputs": [
        {
          "output_type": "execute_result",
          "data": {
            "text/plain": [
              "Graph(num_nodes=4, num_edges=4,\n",
              "      ndata_schemes={}\n",
              "      edata_schemes={})"
            ]
          },
          "metadata": {},
          "execution_count": 42
        }
      ]
    },
    {
      "cell_type": "markdown",
      "source": [
        "从磁盘加载图¶\n",
        "有多种文件格式可储存图，所以这里难以枚举所有选项。本节仅给出一些常见格式的一般情况。\n",
        "\n",
        "逗号分隔值（CSV）.CSV是一种常见的格式，以表格格式储存节点、边及其特征："
      ],
      "metadata": {
        "id": "Ndjs2ydsbnuN"
      }
    },
    {
      "cell_type": "markdown",
      "source": [
        "1.5 创建异构图"
      ],
      "metadata": {
        "id": "KhXtxbsic8wy"
      }
    },
    {
      "cell_type": "code",
      "source": [
        "import dgl\n",
        "import torch as th\n",
        "\n",
        "# 创建一个具有3种节点类型和3种边类型的异构图\n",
        "graph_data = {\n",
        "   ('drug', 'interacts', 'drug'): (th.tensor([0, 1]), th.tensor([1, 2])),\n",
        "   ('drug', 'interacts', 'gene'): (th.tensor([0, 1]), th.tensor([2, 3])),\n",
        "   ('drug', 'treats', 'disease'): (th.tensor([1]), th.tensor([2]))\n",
        "}\n",
        "g = dgl.heterograph(graph_data)\n",
        "g.ntypes"
      ],
      "metadata": {
        "colab": {
          "base_uri": "https://localhost:8080/"
        },
        "id": "uSpiXBvmbaDu",
        "outputId": "895fde69-f78e-4375-bcb6-4b41cb351aa8"
      },
      "execution_count": 43,
      "outputs": [
        {
          "output_type": "execute_result",
          "data": {
            "text/plain": [
              "['disease', 'drug', 'gene']"
            ]
          },
          "metadata": {},
          "execution_count": 43
        }
      ]
    },
    {
      "cell_type": "code",
      "source": [
        "print(g)"
      ],
      "metadata": {
        "colab": {
          "base_uri": "https://localhost:8080/"
        },
        "id": "yiNeDUo3dFQR",
        "outputId": "64c6cee9-06d9-41ff-fd83-583644d61d92"
      },
      "execution_count": 44,
      "outputs": [
        {
          "output_type": "stream",
          "name": "stdout",
          "text": [
            "Graph(num_nodes={'disease': 3, 'drug': 3, 'gene': 4},\n",
            "      num_edges={('drug', 'interacts', 'drug'): 2, ('drug', 'interacts', 'gene'): 2, ('drug', 'treats', 'disease'): 1},\n",
            "      metagraph=[('drug', 'drug', 'interacts'), ('drug', 'gene', 'interacts'), ('drug', 'disease', 'treats')])\n"
          ]
        }
      ]
    },
    {
      "cell_type": "code",
      "source": [
        "print(g.etypes) # print edge types"
      ],
      "metadata": {
        "colab": {
          "base_uri": "https://localhost:8080/"
        },
        "id": "B0dUa4CcdG3P",
        "outputId": "fb005de3-5fb2-412a-c4fa-5476339a6b49"
      },
      "execution_count": 45,
      "outputs": [
        {
          "output_type": "stream",
          "name": "stdout",
          "text": [
            "['interacts', 'interacts', 'treats']\n"
          ]
        }
      ]
    },
    {
      "cell_type": "code",
      "source": [
        "print(g.canonical_etypes) # output the canonical edge types."
      ],
      "metadata": {
        "colab": {
          "base_uri": "https://localhost:8080/"
        },
        "id": "4koOdgL_dXcc",
        "outputId": "f582f885-dcb8-40a4-b7e6-3d3df04277a2"
      },
      "execution_count": 46,
      "outputs": [
        {
          "output_type": "stream",
          "name": "stdout",
          "text": [
            "[('drug', 'interacts', 'drug'), ('drug', 'interacts', 'gene'), ('drug', 'treats', 'disease')]\n"
          ]
        }
      ]
    },
    {
      "cell_type": "code",
      "source": [],
      "metadata": {
        "id": "J0CGarnvdc5g"
      },
      "execution_count": null,
      "outputs": []
    }
  ]
}
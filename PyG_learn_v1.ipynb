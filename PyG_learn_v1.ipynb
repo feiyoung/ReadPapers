{
  "nbformat": 4,
  "nbformat_minor": 0,
  "metadata": {
    "colab": {
      "provenance": [],
      "gpuType": "T4",
      "authorship_tag": "ABX9TyMJhLwi0BYhobTSJhbla80y",
      "include_colab_link": true
    },
    "kernelspec": {
      "name": "python3",
      "display_name": "Python 3"
    },
    "language_info": {
      "name": "python"
    },
    "accelerator": "GPU"
  },
  "cells": [
    {
      "cell_type": "markdown",
      "metadata": {
        "id": "view-in-github",
        "colab_type": "text"
      },
      "source": [
        "<a href=\"https://colab.research.google.com/github/feiyoung/ReadPapers/blob/master/PyG_learn_v1.ipynb\" target=\"_parent\"><img src=\"https://colab.research.google.com/assets/colab-badge.svg\" alt=\"Open In Colab\"/></a>"
      ]
    },
    {
      "cell_type": "markdown",
      "source": [
        "Introduction by Example\n",
        "Data Handling of Graphs"
      ],
      "metadata": {
        "id": "veAtwoTpYCFZ"
      }
    },
    {
      "cell_type": "code",
      "source": [
        "!pip install torch_geometric"
      ],
      "metadata": {
        "colab": {
          "base_uri": "https://localhost:8080/"
        },
        "id": "wRL25cRfX8g_",
        "outputId": "80f145d2-37f9-441c-cd34-98ccd78b23a3"
      },
      "execution_count": 2,
      "outputs": [
        {
          "output_type": "stream",
          "name": "stdout",
          "text": [
            "Collecting torch_geometric\n",
            "  Downloading torch_geometric-2.4.0-py3-none-any.whl (1.0 MB)\n",
            "\u001b[2K     \u001b[90m━━━━━━━━━━━━━━━━━━━━━━━━━━━━━━━━━━━━━━━━\u001b[0m \u001b[32m1.0/1.0 MB\u001b[0m \u001b[31m11.3 MB/s\u001b[0m eta \u001b[36m0:00:00\u001b[0m\n",
            "\u001b[?25hRequirement already satisfied: tqdm in /usr/local/lib/python3.10/dist-packages (from torch_geometric) (4.66.1)\n",
            "Requirement already satisfied: numpy in /usr/local/lib/python3.10/dist-packages (from torch_geometric) (1.23.5)\n",
            "Requirement already satisfied: scipy in /usr/local/lib/python3.10/dist-packages (from torch_geometric) (1.11.4)\n",
            "Requirement already satisfied: jinja2 in /usr/local/lib/python3.10/dist-packages (from torch_geometric) (3.1.2)\n",
            "Requirement already satisfied: requests in /usr/local/lib/python3.10/dist-packages (from torch_geometric) (2.31.0)\n",
            "Requirement already satisfied: pyparsing in /usr/local/lib/python3.10/dist-packages (from torch_geometric) (3.1.1)\n",
            "Requirement already satisfied: scikit-learn in /usr/local/lib/python3.10/dist-packages (from torch_geometric) (1.2.2)\n",
            "Requirement already satisfied: psutil>=5.8.0 in /usr/local/lib/python3.10/dist-packages (from torch_geometric) (5.9.5)\n",
            "Requirement already satisfied: MarkupSafe>=2.0 in /usr/local/lib/python3.10/dist-packages (from jinja2->torch_geometric) (2.1.3)\n",
            "Requirement already satisfied: charset-normalizer<4,>=2 in /usr/local/lib/python3.10/dist-packages (from requests->torch_geometric) (3.3.2)\n",
            "Requirement already satisfied: idna<4,>=2.5 in /usr/local/lib/python3.10/dist-packages (from requests->torch_geometric) (3.6)\n",
            "Requirement already satisfied: urllib3<3,>=1.21.1 in /usr/local/lib/python3.10/dist-packages (from requests->torch_geometric) (2.0.7)\n",
            "Requirement already satisfied: certifi>=2017.4.17 in /usr/local/lib/python3.10/dist-packages (from requests->torch_geometric) (2023.11.17)\n",
            "Requirement already satisfied: joblib>=1.1.1 in /usr/local/lib/python3.10/dist-packages (from scikit-learn->torch_geometric) (1.3.2)\n",
            "Requirement already satisfied: threadpoolctl>=2.0.0 in /usr/local/lib/python3.10/dist-packages (from scikit-learn->torch_geometric) (3.2.0)\n",
            "Installing collected packages: torch_geometric\n",
            "Successfully installed torch_geometric-2.4.0\n"
          ]
        }
      ]
    },
    {
      "cell_type": "code",
      "source": [
        "import torch\n",
        "from torch_geometric.data import Data\n",
        "\n",
        "edge_index = torch.tensor([[0, 1, 1, 2],\n",
        "                           [1, 0, 2, 1]], dtype=torch.long)\n",
        "x = torch.tensor([[-1], [0], [1]], dtype=torch.float)\n",
        "\n",
        "data = Data(x=x, edge_index=edge_index)"
      ],
      "metadata": {
        "id": "mTIK4JPeXrIt"
      },
      "execution_count": 8,
      "outputs": []
    },
    {
      "cell_type": "markdown",
      "source": [],
      "metadata": {
        "id": "jd5OceyhXpdG"
      }
    },
    {
      "cell_type": "code",
      "source": [
        "print(data)"
      ],
      "metadata": {
        "colab": {
          "base_uri": "https://localhost:8080/"
        },
        "id": "rWY_p0oWYHpA",
        "outputId": "0d8c7791-8f94-4829-8da0-87a6a3cda310"
      },
      "execution_count": 4,
      "outputs": [
        {
          "output_type": "stream",
          "name": "stdout",
          "text": [
            "Data(x=[3, 1], edge_index=[2, 4])\n"
          ]
        }
      ]
    },
    {
      "cell_type": "code",
      "source": [
        "print(data.edge_index)"
      ],
      "metadata": {
        "colab": {
          "base_uri": "https://localhost:8080/"
        },
        "id": "MtZemow7YyUj",
        "outputId": "c7637ca5-bc03-41ee-95e8-3e7e4848fba3"
      },
      "execution_count": 9,
      "outputs": [
        {
          "output_type": "stream",
          "name": "stdout",
          "text": [
            "tensor([[0, 1, 1, 2],\n",
            "        [1, 0, 2, 1]])\n"
          ]
        }
      ]
    },
    {
      "cell_type": "code",
      "source": [
        "import torch\n",
        "from torch_geometric.data import Data\n",
        "\n",
        "edge_index = torch.tensor([[0, 1],\n",
        "                           [1, 0],\n",
        "                           [1, 2],\n",
        "                           [2, 1]], dtype=torch.long)\n",
        "x = torch.tensor([[-1], [0], [1]], dtype=torch.float)\n",
        "\n",
        "data = Data(x=x, edge_index=edge_index.t().contiguous())\n",
        "#>>> Data(edge_index=[2, 4], x=[3, 1])"
      ],
      "metadata": {
        "id": "wLqPf5zHYJad"
      },
      "execution_count": 10,
      "outputs": []
    },
    {
      "cell_type": "code",
      "source": [
        "print(data)"
      ],
      "metadata": {
        "colab": {
          "base_uri": "https://localhost:8080/"
        },
        "id": "llo4vC7xYbkf",
        "outputId": "602a4ec8-244d-4e25-8648-42b2325aee54"
      },
      "execution_count": 6,
      "outputs": [
        {
          "output_type": "stream",
          "name": "stdout",
          "text": [
            "Data(x=[3, 1], edge_index=[2, 4])\n"
          ]
        }
      ]
    },
    {
      "cell_type": "code",
      "source": [
        "data.edge_index"
      ],
      "metadata": {
        "colab": {
          "base_uri": "https://localhost:8080/"
        },
        "id": "X0uMQzlKYiOz",
        "outputId": "ea465f90-319f-4741-ab4c-997171232450"
      },
      "execution_count": 7,
      "outputs": [
        {
          "output_type": "execute_result",
          "data": {
            "text/plain": [
              "tensor([[0, 1, 1, 2],\n",
              "        [1, 0, 2, 1]])"
            ]
          },
          "metadata": {},
          "execution_count": 7
        }
      ]
    },
    {
      "cell_type": "code",
      "source": [
        "print(data.keys())"
      ],
      "metadata": {
        "colab": {
          "base_uri": "https://localhost:8080/"
        },
        "id": "X3Ok47UUYtAt",
        "outputId": "e99d2838-d28a-4c51-d028-f531e417eeee"
      },
      "execution_count": 11,
      "outputs": [
        {
          "output_type": "stream",
          "name": "stdout",
          "text": [
            "['x', 'edge_index']\n"
          ]
        }
      ]
    },
    {
      "cell_type": "code",
      "source": [
        "print(data['x'])"
      ],
      "metadata": {
        "colab": {
          "base_uri": "https://localhost:8080/"
        },
        "id": "bhurF1AZZAYg",
        "outputId": "151f8df2-5897-4b7d-b93e-adf4eba44d1a"
      },
      "execution_count": 12,
      "outputs": [
        {
          "output_type": "stream",
          "name": "stdout",
          "text": [
            "tensor([[-1.],\n",
            "        [ 0.],\n",
            "        [ 1.]])\n"
          ]
        }
      ]
    },
    {
      "cell_type": "code",
      "source": [
        "data.x"
      ],
      "metadata": {
        "colab": {
          "base_uri": "https://localhost:8080/"
        },
        "id": "lP3U7yELZDnz",
        "outputId": "a2ad11b6-f74f-471c-c9a4-c7405b04a132"
      },
      "execution_count": 13,
      "outputs": [
        {
          "output_type": "execute_result",
          "data": {
            "text/plain": [
              "tensor([[-1.],\n",
              "        [ 0.],\n",
              "        [ 1.]])"
            ]
          },
          "metadata": {},
          "execution_count": 13
        }
      ]
    },
    {
      "cell_type": "code",
      "source": [
        "type(data)"
      ],
      "metadata": {
        "colab": {
          "base_uri": "https://localhost:8080/"
        },
        "id": "kNPmDedUZESv",
        "outputId": "2e8ad3f7-df07-456d-90dc-4816195b9c85"
      },
      "execution_count": 14,
      "outputs": [
        {
          "output_type": "execute_result",
          "data": {
            "text/plain": [
              "torch_geometric.data.data.Data"
            ]
          },
          "metadata": {},
          "execution_count": 14
        }
      ]
    },
    {
      "cell_type": "code",
      "source": [
        "str(data)"
      ],
      "metadata": {
        "colab": {
          "base_uri": "https://localhost:8080/",
          "height": 35
        },
        "id": "mbc_VAgdZHHy",
        "outputId": "83815d97-708c-49fb-cff1-ba3157bc4abb"
      },
      "execution_count": 15,
      "outputs": [
        {
          "output_type": "execute_result",
          "data": {
            "text/plain": [
              "'Data(x=[3, 1], edge_index=[2, 4])'"
            ],
            "application/vnd.google.colaboratory.intrinsic+json": {
              "type": "string"
            }
          },
          "metadata": {},
          "execution_count": 15
        }
      ]
    },
    {
      "cell_type": "code",
      "source": [
        "for key, item in data: # 双变量循环\n",
        "    print(f'{key} found in data')\n",
        "    print(f'{item}')"
      ],
      "metadata": {
        "colab": {
          "base_uri": "https://localhost:8080/"
        },
        "id": "Uck5SnIeZInW",
        "outputId": "ba152a20-f831-419b-df0f-744c94107fd9"
      },
      "execution_count": 17,
      "outputs": [
        {
          "output_type": "stream",
          "name": "stdout",
          "text": [
            "x found in data\n",
            "tensor([[-1.],\n",
            "        [ 0.],\n",
            "        [ 1.]])\n",
            "edge_index found in data\n",
            "tensor([[0, 1, 1, 2],\n",
            "        [1, 0, 2, 1]])\n"
          ]
        }
      ]
    },
    {
      "cell_type": "code",
      "source": [
        "'edge_attr' in data"
      ],
      "metadata": {
        "colab": {
          "base_uri": "https://localhost:8080/"
        },
        "id": "nx594lM9ZQQu",
        "outputId": "0d088e3b-2635-42f2-d263-102df4651a18"
      },
      "execution_count": 18,
      "outputs": [
        {
          "output_type": "execute_result",
          "data": {
            "text/plain": [
              "False"
            ]
          },
          "metadata": {},
          "execution_count": 18
        }
      ]
    },
    {
      "cell_type": "code",
      "source": [
        "data.num_nodes"
      ],
      "metadata": {
        "colab": {
          "base_uri": "https://localhost:8080/"
        },
        "id": "2IX3pCCiZgcw",
        "outputId": "6bf737d1-ad40-4df4-d54a-8bd8d1d2f6ec"
      },
      "execution_count": 19,
      "outputs": [
        {
          "output_type": "execute_result",
          "data": {
            "text/plain": [
              "3"
            ]
          },
          "metadata": {},
          "execution_count": 19
        }
      ]
    },
    {
      "cell_type": "code",
      "source": [
        "data.num_edges"
      ],
      "metadata": {
        "colab": {
          "base_uri": "https://localhost:8080/"
        },
        "id": "GlEktaCQZiS9",
        "outputId": "b41f0a95-b650-4b46-b719-297d6a0e107d"
      },
      "execution_count": 20,
      "outputs": [
        {
          "output_type": "execute_result",
          "data": {
            "text/plain": [
              "4"
            ]
          },
          "metadata": {},
          "execution_count": 20
        }
      ]
    },
    {
      "cell_type": "code",
      "source": [
        "data.num_node_features"
      ],
      "metadata": {
        "colab": {
          "base_uri": "https://localhost:8080/"
        },
        "id": "gmT1Tw7WZkAM",
        "outputId": "3ad73e9f-a2f8-4c4c-9b0e-c918963d56b2"
      },
      "execution_count": 21,
      "outputs": [
        {
          "output_type": "execute_result",
          "data": {
            "text/plain": [
              "1"
            ]
          },
          "metadata": {},
          "execution_count": 21
        }
      ]
    },
    {
      "cell_type": "code",
      "source": [
        "data.has_isolated_nodes()"
      ],
      "metadata": {
        "colab": {
          "base_uri": "https://localhost:8080/"
        },
        "id": "zBeX8Km5ZmZI",
        "outputId": "8f0191dc-7bf8-4f9e-bc61-0c33374f158b"
      },
      "execution_count": 22,
      "outputs": [
        {
          "output_type": "execute_result",
          "data": {
            "text/plain": [
              "False"
            ]
          },
          "metadata": {},
          "execution_count": 22
        }
      ]
    },
    {
      "cell_type": "code",
      "source": [
        "data.has_self_loops()"
      ],
      "metadata": {
        "colab": {
          "base_uri": "https://localhost:8080/"
        },
        "id": "IKtpdNsrZoZ5",
        "outputId": "1c0bdbc1-dfb3-473d-824d-575545c55fbb"
      },
      "execution_count": 23,
      "outputs": [
        {
          "output_type": "execute_result",
          "data": {
            "text/plain": [
              "False"
            ]
          },
          "metadata": {},
          "execution_count": 23
        }
      ]
    },
    {
      "cell_type": "code",
      "source": [
        "data.is_directed()"
      ],
      "metadata": {
        "colab": {
          "base_uri": "https://localhost:8080/"
        },
        "id": "l6mcjEFBZqdm",
        "outputId": "25476d41-0283-410e-e403-87fdaf8f10a9"
      },
      "execution_count": 24,
      "outputs": [
        {
          "output_type": "execute_result",
          "data": {
            "text/plain": [
              "False"
            ]
          },
          "metadata": {},
          "execution_count": 24
        }
      ]
    },
    {
      "cell_type": "code",
      "source": [
        "device = torch.device('cuda')\n",
        "data = data.to(device)\n",
        "print(device)"
      ],
      "metadata": {
        "colab": {
          "base_uri": "https://localhost:8080/"
        },
        "id": "2anyRqLhZsFj",
        "outputId": "4b69ac6a-067c-4903-e0de-7487134cae0f"
      },
      "execution_count": 26,
      "outputs": [
        {
          "output_type": "stream",
          "name": "stdout",
          "text": [
            "cuda\n"
          ]
        }
      ]
    },
    {
      "cell_type": "markdown",
      "source": [
        "Common Benchmark Datasets"
      ],
      "metadata": {
        "id": "vQq5xxjMZ2hY"
      }
    },
    {
      "cell_type": "code",
      "source": [
        "## This a graph-classication task data\n",
        "from torch_geometric.datasets import TUDataset\n",
        "\n",
        "dataset = TUDataset(root='/tmp/ENZYMES', name='ENZYMES')"
      ],
      "metadata": {
        "colab": {
          "base_uri": "https://localhost:8080/"
        },
        "id": "VVyFmq75Ztwd",
        "outputId": "c68ed0c0-7509-47b4-ccbe-72dde6563c9f"
      },
      "execution_count": 27,
      "outputs": [
        {
          "output_type": "stream",
          "name": "stderr",
          "text": [
            "Downloading https://www.chrsmrrs.com/graphkerneldatasets/ENZYMES.zip\n",
            "Extracting /tmp/ENZYMES/ENZYMES/ENZYMES.zip\n",
            "Processing...\n",
            "Done!\n"
          ]
        }
      ]
    },
    {
      "cell_type": "code",
      "source": [
        "str(dataset)"
      ],
      "metadata": {
        "colab": {
          "base_uri": "https://localhost:8080/",
          "height": 35
        },
        "id": "X8W_ulO_aAD0",
        "outputId": "2a088246-8fa4-423f-ad67-02bf3032bee8"
      },
      "execution_count": 28,
      "outputs": [
        {
          "output_type": "execute_result",
          "data": {
            "text/plain": [
              "'ENZYMES(600)'"
            ],
            "application/vnd.google.colaboratory.intrinsic+json": {
              "type": "string"
            }
          },
          "metadata": {},
          "execution_count": 28
        }
      ]
    },
    {
      "cell_type": "code",
      "source": [
        "type(dataset)"
      ],
      "metadata": {
        "colab": {
          "base_uri": "https://localhost:8080/"
        },
        "id": "bxpQoyq-aI65",
        "outputId": "6e926cc6-ffcd-484e-d103-9386522f1ef6"
      },
      "execution_count": 29,
      "outputs": [
        {
          "output_type": "execute_result",
          "data": {
            "text/plain": [
              "torch_geometric.datasets.tu_dataset.TUDataset"
            ]
          },
          "metadata": {},
          "execution_count": 29
        }
      ]
    },
    {
      "cell_type": "code",
      "source": [
        "dataset.num_classes"
      ],
      "metadata": {
        "colab": {
          "base_uri": "https://localhost:8080/"
        },
        "id": "ymUuhgMSaCum",
        "outputId": "ef527f5d-8a7e-4db2-aae6-18040544f243"
      },
      "execution_count": 30,
      "outputs": [
        {
          "output_type": "execute_result",
          "data": {
            "text/plain": [
              "6"
            ]
          },
          "metadata": {},
          "execution_count": 30
        }
      ]
    },
    {
      "cell_type": "code",
      "source": [
        "type(dataset[0])"
      ],
      "metadata": {
        "colab": {
          "base_uri": "https://localhost:8080/"
        },
        "id": "kkC5ZB1WaLrT",
        "outputId": "88dcf394-e52d-452a-c3a1-8b53aa93a481"
      },
      "execution_count": 31,
      "outputs": [
        {
          "output_type": "execute_result",
          "data": {
            "text/plain": [
              "torch_geometric.data.data.Data"
            ]
          },
          "metadata": {},
          "execution_count": 31
        }
      ]
    },
    {
      "cell_type": "code",
      "source": [
        "dataset.num_node_features"
      ],
      "metadata": {
        "colab": {
          "base_uri": "https://localhost:8080/"
        },
        "id": "A3oTjQwCaN3S",
        "outputId": "599c2f4c-c892-499b-9ae9-708b176025c4"
      },
      "execution_count": 32,
      "outputs": [
        {
          "output_type": "execute_result",
          "data": {
            "text/plain": [
              "3"
            ]
          },
          "metadata": {},
          "execution_count": 32
        }
      ]
    },
    {
      "cell_type": "code",
      "source": [
        "str(dataset[0])\n",
        "# We can see that the first graph in the dataset contains 37 nodes, each one having 3 features.\n",
        "# There are 168/2 = 84 undirected edges and the graph is assigned to exactly one class.\n",
        "# In addition, the data object is holding exactly one graph-level target."
      ],
      "metadata": {
        "colab": {
          "base_uri": "https://localhost:8080/",
          "height": 35
        },
        "id": "zPtUbTHBaRwL",
        "outputId": "1616436c-85f6-46ff-cd61-bef067a07029"
      },
      "execution_count": 33,
      "outputs": [
        {
          "output_type": "execute_result",
          "data": {
            "text/plain": [
              "'Data(edge_index=[2, 168], x=[37, 3], y=[1])'"
            ],
            "application/vnd.google.colaboratory.intrinsic+json": {
              "type": "string"
            }
          },
          "metadata": {},
          "execution_count": 33
        }
      ]
    },
    {
      "cell_type": "code",
      "source": [
        "data = dataset[0]\n",
        "data.is_undirected()"
      ],
      "metadata": {
        "colab": {
          "base_uri": "https://localhost:8080/"
        },
        "id": "Ny5OOQZ1aTAU",
        "outputId": "d79362b3-c9a4-45dc-d2d0-09dbe4bae4db"
      },
      "execution_count": 34,
      "outputs": [
        {
          "output_type": "execute_result",
          "data": {
            "text/plain": [
              "True"
            ]
          },
          "metadata": {},
          "execution_count": 34
        }
      ]
    },
    {
      "cell_type": "code",
      "source": [
        "train_dataset = dataset[:540]\n",
        "str(train_dataset)"
      ],
      "metadata": {
        "colab": {
          "base_uri": "https://localhost:8080/",
          "height": 35
        },
        "id": "IV9cAqCfb9M1",
        "outputId": "c23cdb01-af26-4db9-f716-07a8dd4ce02e"
      },
      "execution_count": 36,
      "outputs": [
        {
          "output_type": "execute_result",
          "data": {
            "text/plain": [
              "'ENZYMES(540)'"
            ],
            "application/vnd.google.colaboratory.intrinsic+json": {
              "type": "string"
            }
          },
          "metadata": {},
          "execution_count": 36
        }
      ]
    },
    {
      "cell_type": "code",
      "source": [
        "test_dataset = dataset[540:]\n",
        "str(test_dataset)"
      ],
      "metadata": {
        "colab": {
          "base_uri": "https://localhost:8080/",
          "height": 35
        },
        "id": "xCeBozURcP-Q",
        "outputId": "e9a515e1-3671-46b4-828a-eb2f8b319dc9"
      },
      "execution_count": 39,
      "outputs": [
        {
          "output_type": "execute_result",
          "data": {
            "text/plain": [
              "'ENZYMES(60)'"
            ],
            "application/vnd.google.colaboratory.intrinsic+json": {
              "type": "string"
            }
          },
          "metadata": {},
          "execution_count": 39
        }
      ]
    },
    {
      "cell_type": "code",
      "source": [
        "## Permute all graphs\n",
        "dataset = dataset.shuffle()\n",
        "print(dataset)"
      ],
      "metadata": {
        "colab": {
          "base_uri": "https://localhost:8080/"
        },
        "id": "PCUZXstKcXX5",
        "outputId": "e80db2a7-cf62-4920-937a-8534c87e9648"
      },
      "execution_count": 41,
      "outputs": [
        {
          "output_type": "stream",
          "name": "stdout",
          "text": [
            "ENZYMES(600)\n"
          ]
        }
      ]
    },
    {
      "cell_type": "code",
      "source": [
        "perm = torch.randperm(len(dataset))\n",
        "print(perm)\n",
        "dataset = dataset[perm]\n",
        "print(dataset)"
      ],
      "metadata": {
        "colab": {
          "base_uri": "https://localhost:8080/"
        },
        "id": "b_pEAofKcj2X",
        "outputId": "3ad2efb8-697c-42bb-f7e3-595406dd4a9a"
      },
      "execution_count": 42,
      "outputs": [
        {
          "output_type": "stream",
          "name": "stdout",
          "text": [
            "tensor([106, 579, 327, 260, 119, 325, 529, 172, 413, 368, 475, 444,  79, 467,\n",
            "        559, 421, 456, 422, 423, 509, 152, 515, 316,   4, 191, 461, 232, 465,\n",
            "        218,  85, 177, 160, 244, 301, 326,   9, 540, 440,  12,  81, 286, 155,\n",
            "        378, 102, 269, 330, 376, 418, 103, 575,  82, 582, 549, 497, 168, 110,\n",
            "         50, 332, 498, 312,  97, 410, 565, 357, 210, 213, 587, 292, 288, 123,\n",
            "        573, 564,  46, 131, 463, 425, 144, 415, 132, 527, 533, 333, 580, 454,\n",
            "        151, 397, 343, 209, 313, 489, 287, 520, 212, 462, 537, 249,  90, 250,\n",
            "        473,  83, 129, 530, 162, 178, 328, 101, 445, 451, 389, 359, 262, 128,\n",
            "        113, 118, 174, 558,   2, 270, 185, 583, 195, 496,  89, 369, 570,  64,\n",
            "        417, 183, 547, 289, 450, 395,  14, 519, 335, 293, 362, 478,  38,  99,\n",
            "         76, 455, 483,  22, 192,  94,  73, 240, 349, 424,   0,  20, 223, 446,\n",
            "        517, 159, 227, 563,  88, 516, 271, 367, 348, 510, 584, 390, 382, 392,\n",
            "        407, 137, 352, 525,  17, 474, 290, 284, 411, 460, 534, 169, 355,  68,\n",
            "        321, 536, 346,  86, 545, 310, 282,  24,  57,  18, 225,  28, 521,  91,\n",
            "        193,   1, 153,   7, 111,  52, 347, 542, 322, 468, 258,  78, 482, 471,\n",
            "         21,  77, 124,  75, 448, 381, 354, 278, 267, 163, 266, 538, 254, 404,\n",
            "        433,  95, 320, 591, 235,  93, 279, 112, 416,  31,  67, 281,  39, 276,\n",
            "        585, 179, 104,  36, 268, 443, 116, 403, 171, 220,   5, 205, 553, 377,\n",
            "        149, 419, 164, 356, 503, 541, 388, 297, 303, 594, 408, 127, 373, 472,\n",
            "        294,   3, 374, 442, 449, 263, 311, 145, 176, 238, 566, 364, 458,  32,\n",
            "        380, 230,  65, 588, 574, 420, 126, 224, 228, 480, 197, 108, 350,  80,\n",
            "        539, 158, 308, 486, 246, 391, 557, 141, 567, 548,  54, 170, 351,  43,\n",
            "        560, 493, 528,  56,   8, 248, 261, 107, 561, 255, 526, 477, 375, 206,\n",
            "        203, 453, 597, 295, 329, 432, 173, 241, 459, 200,  35, 342,  59, 196,\n",
            "        337, 457, 598,  87, 430, 522, 396, 167, 175, 121, 146, 222, 233, 360,\n",
            "         23, 134, 202, 188, 464,  48, 114, 386, 242, 105, 576, 221,  44, 398,\n",
            "        479, 393,  42, 307, 484, 590, 551,  27, 291, 184, 166, 319, 405, 186,\n",
            "        562, 402, 256, 217, 204, 476, 345, 245, 136,  29, 315, 383, 596, 306,\n",
            "        431, 161, 523, 504, 535, 157,  16, 139, 154,  62, 247, 331, 309, 572,\n",
            "        190, 400, 302,  71, 495,  69, 414, 231, 437, 130, 466, 511, 435,  49,\n",
            "         98, 513, 599, 234, 257, 569, 109, 208, 554, 138, 581, 147, 592, 426,\n",
            "        556, 189, 339, 428,  30, 181,  33, 361, 469, 296, 500, 150, 371, 452,\n",
            "         25,  58, 379, 502, 239, 531, 434, 201, 409, 219, 275, 518, 264, 198,\n",
            "        441, 344,  34, 499, 207,  63, 253, 182, 336, 506, 300, 358, 341, 251,\n",
            "        577, 595,  26, 555, 490, 323,  66, 552, 481, 406, 243, 317, 100, 485,\n",
            "        470, 365,  51, 571,  11, 259, 514, 589,  84, 429,  72, 363, 494, 578,\n",
            "        180, 412, 272, 508, 385, 544, 439, 273, 215, 229, 318, 568, 338, 427,\n",
            "         47, 384, 550, 299, 187, 216, 512,  60, 438,  55, 117,  40, 366, 226,\n",
            "        120, 156, 340, 133, 546,  19, 285,  96, 524,  13, 314,  70, 394, 140,\n",
            "         74, 142, 265, 372, 593, 401, 283, 586, 252, 199, 492, 543, 236, 447,\n",
            "        274, 487, 122, 214, 353,  92, 324, 115, 507, 436, 305, 505, 370,  10,\n",
            "        211, 135, 277, 194, 237,   6, 165,  41, 334,  37,  53, 143, 488,  45,\n",
            "        387, 491,  61,  15, 304, 298, 501, 148, 280, 399, 532, 125])\n",
            "ENZYMES(600)\n"
          ]
        }
      ]
    },
    {
      "cell_type": "code",
      "source": [
        "from torch_geometric.datasets import Planetoid\n",
        "\n",
        "dataset = Planetoid(root='/tmp/Cora', name='Cora')"
      ],
      "metadata": {
        "colab": {
          "base_uri": "https://localhost:8080/"
        },
        "id": "IGZOzK9fcrke",
        "outputId": "6ecca9fd-cf75-486d-8793-35f5d717afcf"
      },
      "execution_count": 43,
      "outputs": [
        {
          "output_type": "stream",
          "name": "stderr",
          "text": [
            "Downloading https://github.com/kimiyoung/planetoid/raw/master/data/ind.cora.x\n",
            "Downloading https://github.com/kimiyoung/planetoid/raw/master/data/ind.cora.tx\n",
            "Downloading https://github.com/kimiyoung/planetoid/raw/master/data/ind.cora.allx\n",
            "Downloading https://github.com/kimiyoung/planetoid/raw/master/data/ind.cora.y\n",
            "Downloading https://github.com/kimiyoung/planetoid/raw/master/data/ind.cora.ty\n",
            "Downloading https://github.com/kimiyoung/planetoid/raw/master/data/ind.cora.ally\n",
            "Downloading https://github.com/kimiyoung/planetoid/raw/master/data/ind.cora.graph\n",
            "Downloading https://github.com/kimiyoung/planetoid/raw/master/data/ind.cora.test.index\n",
            "Processing...\n",
            "Done!\n"
          ]
        }
      ]
    },
    {
      "cell_type": "code",
      "source": [
        "len(dataset)\n",
        "print(dataset[0])"
      ],
      "metadata": {
        "colab": {
          "base_uri": "https://localhost:8080/"
        },
        "id": "WGTLQaIlcwvE",
        "outputId": "ed88d18d-7ba4-4164-cba6-35d73e1bdc98"
      },
      "execution_count": 45,
      "outputs": [
        {
          "output_type": "stream",
          "name": "stdout",
          "text": [
            "Data(x=[2708, 1433], edge_index=[2, 10556], y=[2708], train_mask=[2708], val_mask=[2708], test_mask=[2708])\n"
          ]
        }
      ]
    },
    {
      "cell_type": "code",
      "source": [
        "dataset.num_classes"
      ],
      "metadata": {
        "colab": {
          "base_uri": "https://localhost:8080/"
        },
        "id": "KrsIaEzoc1Wm",
        "outputId": "60cd16ec-d603-4ec0-de9f-d17f16259377"
      },
      "execution_count": 46,
      "outputs": [
        {
          "output_type": "execute_result",
          "data": {
            "text/plain": [
              "7"
            ]
          },
          "metadata": {},
          "execution_count": 46
        }
      ]
    },
    {
      "cell_type": "code",
      "source": [
        "data = dataset[0]\n",
        "data.is_undirected()"
      ],
      "metadata": {
        "colab": {
          "base_uri": "https://localhost:8080/"
        },
        "id": "VCpTFkpBc-ea",
        "outputId": "64b7558a-7e0d-47a7-f081-82802204fc05"
      },
      "execution_count": 48,
      "outputs": [
        {
          "output_type": "execute_result",
          "data": {
            "text/plain": [
              "True"
            ]
          },
          "metadata": {},
          "execution_count": 48
        }
      ]
    },
    {
      "cell_type": "code",
      "source": [
        "data.train_mask # mask is a bool value"
      ],
      "metadata": {
        "colab": {
          "base_uri": "https://localhost:8080/"
        },
        "id": "MmBoJIHEdUE_",
        "outputId": "2d7971ef-f6f9-49e2-8a33-61d24d8bb800"
      },
      "execution_count": 50,
      "outputs": [
        {
          "output_type": "execute_result",
          "data": {
            "text/plain": [
              "tensor([ True,  True,  True,  ..., False, False, False])"
            ]
          },
          "metadata": {},
          "execution_count": 50
        }
      ]
    },
    {
      "cell_type": "code",
      "source": [
        "data.train_mask.sum().item()"
      ],
      "metadata": {
        "colab": {
          "base_uri": "https://localhost:8080/"
        },
        "id": "6PoTKrlpdJsi",
        "outputId": "c38572ba-0486-4c75-a6ec-6a737016cae9"
      },
      "execution_count": 49,
      "outputs": [
        {
          "output_type": "execute_result",
          "data": {
            "text/plain": [
              "140"
            ]
          },
          "metadata": {},
          "execution_count": 49
        }
      ]
    },
    {
      "cell_type": "code",
      "source": [
        "data.val_mask.sum().item() # The validation set is similar to the data that help select the tuning parameters, to guide the training process."
      ],
      "metadata": {
        "colab": {
          "base_uri": "https://localhost:8080/"
        },
        "id": "XISstXMFdQHC",
        "outputId": "79210bde-0dd4-438f-d3e9-8db2b4ae9c10"
      },
      "execution_count": 51,
      "outputs": [
        {
          "output_type": "execute_result",
          "data": {
            "text/plain": [
              "500"
            ]
          },
          "metadata": {},
          "execution_count": 51
        }
      ]
    },
    {
      "cell_type": "code",
      "source": [
        "data.test_mask.sum().item()"
      ],
      "metadata": {
        "colab": {
          "base_uri": "https://localhost:8080/"
        },
        "id": "H2TBBCgTdfkp",
        "outputId": "adf4b25e-2309-4858-8c50-fb86d95bbca7"
      },
      "execution_count": 52,
      "outputs": [
        {
          "output_type": "execute_result",
          "data": {
            "text/plain": [
              "1000"
            ]
          },
          "metadata": {},
          "execution_count": 52
        }
      ]
    },
    {
      "cell_type": "markdown",
      "source": [
        "Mini-batches"
      ],
      "metadata": {
        "id": "RSdGTcN3dq56"
      }
    },
    {
      "cell_type": "code",
      "source": [
        "from torch_geometric.datasets import TUDataset\n",
        "from torch_geometric.loader import DataLoader\n",
        "dataset = TUDataset(root='/tmp/ENZYMES', name='ENZYMES', use_node_attr=True)\n",
        "loader = DataLoader(dataset, batch_size=32, shuffle=True)\n",
        "print(loader)"
      ],
      "metadata": {
        "colab": {
          "base_uri": "https://localhost:8080/"
        },
        "id": "YOiMK2a_dh8u",
        "outputId": "2a3f26ea-a62f-4dea-a4a1-6ceeddf638c4"
      },
      "execution_count": 53,
      "outputs": [
        {
          "output_type": "stream",
          "name": "stdout",
          "text": [
            "<torch_geometric.loader.dataloader.DataLoader object at 0x7b0f9aa2b340>\n"
          ]
        }
      ]
    },
    {
      "cell_type": "code",
      "source": [
        "for batch in loader:\n",
        "    print(batch)"
      ],
      "metadata": {
        "colab": {
          "base_uri": "https://localhost:8080/"
        },
        "id": "Ci4BcyMTeAhS",
        "outputId": "abaaf5ff-a311-4ed3-c6a0-04488aa7ee53"
      },
      "execution_count": 55,
      "outputs": [
        {
          "output_type": "stream",
          "name": "stdout",
          "text": [
            "DataBatch(edge_index=[2, 4048], x=[1077, 21], y=[32], batch=[1077], ptr=[33])\n",
            "DataBatch(edge_index=[2, 4474], x=[1135, 21], y=[32], batch=[1135], ptr=[33])\n",
            "DataBatch(edge_index=[2, 4534], x=[1191, 21], y=[32], batch=[1191], ptr=[33])\n",
            "DataBatch(edge_index=[2, 4150], x=[1090, 21], y=[32], batch=[1090], ptr=[33])\n",
            "DataBatch(edge_index=[2, 4168], x=[1081, 21], y=[32], batch=[1081], ptr=[33])\n",
            "DataBatch(edge_index=[2, 3794], x=[977, 21], y=[32], batch=[977], ptr=[33])\n",
            "DataBatch(edge_index=[2, 3340], x=[948, 21], y=[32], batch=[948], ptr=[33])\n",
            "DataBatch(edge_index=[2, 3952], x=[1029, 21], y=[32], batch=[1029], ptr=[33])\n",
            "DataBatch(edge_index=[2, 3670], x=[964, 21], y=[32], batch=[964], ptr=[33])\n",
            "DataBatch(edge_index=[2, 3522], x=[924, 21], y=[32], batch=[924], ptr=[33])\n",
            "DataBatch(edge_index=[2, 4408], x=[1135, 21], y=[32], batch=[1135], ptr=[33])\n",
            "DataBatch(edge_index=[2, 4378], x=[1283, 21], y=[32], batch=[1283], ptr=[33])\n",
            "DataBatch(edge_index=[2, 4002], x=[1062, 21], y=[32], batch=[1062], ptr=[33])\n",
            "DataBatch(edge_index=[2, 3734], x=[940, 21], y=[32], batch=[940], ptr=[33])\n",
            "DataBatch(edge_index=[2, 3722], x=[947, 21], y=[32], batch=[947], ptr=[33])\n",
            "DataBatch(edge_index=[2, 3944], x=[1023, 21], y=[32], batch=[1023], ptr=[33])\n",
            "DataBatch(edge_index=[2, 3874], x=[1006, 21], y=[32], batch=[1006], ptr=[33])\n",
            "DataBatch(edge_index=[2, 3986], x=[1058, 21], y=[32], batch=[1058], ptr=[33])\n",
            "DataBatch(edge_index=[2, 2864], x=[710, 21], y=[24], batch=[710], ptr=[25])\n"
          ]
        }
      ]
    },
    {
      "cell_type": "markdown",
      "source": [
        "Data Transforms"
      ],
      "metadata": {
        "id": "2pmTBuzHekfo"
      }
    },
    {
      "cell_type": "code",
      "source": [
        "from torch_geometric.datasets import ShapeNet\n",
        "\n",
        "dataset = ShapeNet(root='/tmp/ShapeNet', categories=['Airplane'])\n",
        "\n",
        "dataset[0]"
      ],
      "metadata": {
        "colab": {
          "base_uri": "https://localhost:8080/"
        },
        "id": "9pwoD-9seJB-",
        "outputId": "80cfcfdf-80f1-4469-8493-9e4eaa4b2079"
      },
      "execution_count": 56,
      "outputs": [
        {
          "output_type": "stream",
          "name": "stderr",
          "text": [
            "Downloading https://shapenet.cs.stanford.edu/media/shapenetcore_partanno_segmentation_benchmark_v0_normal.zip\n",
            "Extracting /tmp/ShapeNet/shapenetcore_partanno_segmentation_benchmark_v0_normal.zip\n",
            "Processing...\n",
            "Done!\n"
          ]
        },
        {
          "output_type": "execute_result",
          "data": {
            "text/plain": [
              "Data(x=[2518, 3], y=[2518], pos=[2518, 3], category=[1])"
            ]
          },
          "metadata": {},
          "execution_count": 56
        }
      ]
    },
    {
      "cell_type": "code",
      "source": [
        "import torch_geometric.transforms as T\n",
        "from torch_geometric.datasets import ShapeNet\n",
        "\n",
        "dataset = ShapeNet(root='/tmp/ShapeNet', categories=['Airplane'],\n",
        "                    pre_transform=T.KNNGraph(k=6))\n",
        "\n",
        "dataset[0]"
      ],
      "metadata": {
        "colab": {
          "base_uri": "https://localhost:8080/"
        },
        "id": "KFVWo0ajeo4e",
        "outputId": "1c1b3118-a716-4610-e490-08bff5b62c5c"
      },
      "execution_count": 57,
      "outputs": [
        {
          "output_type": "stream",
          "name": "stderr",
          "text": [
            "/usr/local/lib/python3.10/dist-packages/torch_geometric/data/dataset.py:214: UserWarning: The `pre_transform` argument differs from the one used in the pre-processed version of this dataset. If you want to make use of another pre-processing technique, make sure to delete '/tmp/ShapeNet/processed' first\n",
            "  warnings.warn(\n"
          ]
        },
        {
          "output_type": "execute_result",
          "data": {
            "text/plain": [
              "Data(x=[2518, 3], y=[2518], pos=[2518, 3], category=[1])"
            ]
          },
          "metadata": {},
          "execution_count": 57
        }
      ]
    },
    {
      "cell_type": "code",
      "source": [
        "import torch_geometric.transforms as T\n",
        "from torch_geometric.datasets import ShapeNet\n",
        "\n",
        "dataset = ShapeNet(root='/tmp/ShapeNet', categories=['Airplane'],\n",
        "                    pre_transform=T.KNNGraph(k=6),\n",
        "                    transform=T.RandomJitter(0.01))\n",
        "\n",
        "dataset[0]"
      ],
      "metadata": {
        "colab": {
          "base_uri": "https://localhost:8080/"
        },
        "id": "0s47SBlrexoe",
        "outputId": "46517755-f9f0-4ecc-84d5-a0f697b1ac81"
      },
      "execution_count": 58,
      "outputs": [
        {
          "output_type": "execute_result",
          "data": {
            "text/plain": [
              "Data(x=[2518, 3], y=[2518], pos=[2518, 3], category=[1])"
            ]
          },
          "metadata": {},
          "execution_count": 58
        }
      ]
    },
    {
      "cell_type": "markdown",
      "source": [
        "Learning Methods on Graphs"
      ],
      "metadata": {
        "id": "aDhoYtlne2F2"
      }
    },
    {
      "cell_type": "code",
      "source": [
        "from torch_geometric.datasets import Planetoid\n",
        "\n",
        "dataset = Planetoid(root='/tmp/Cora', name='Cora')"
      ],
      "metadata": {
        "id": "oRWDJLnYe7d-"
      },
      "execution_count": 59,
      "outputs": []
    },
    {
      "cell_type": "code",
      "source": [
        "import torch\n",
        "import torch.nn.functional as F\n",
        "from torch_geometric.nn import GCNConv"
      ],
      "metadata": {
        "id": "k0hjTJENhAQn"
      },
      "execution_count": 62,
      "outputs": []
    },
    {
      "cell_type": "code",
      "source": [
        "class GCN(torch.nn.Module):\n",
        "    def __init__(self):\n",
        "        super().__init__()\n",
        "        self.conv1 = GCNConv(dataset.num_node_features, 16)\n",
        "        self.conv2 = GCNConv(16, dataset.num_classes)\n",
        "\n",
        "    def forward(self, data):\n",
        "        x, edge_index = data.x, data.edge_index\n",
        "\n",
        "        x = self.conv1(x, edge_index)\n",
        "        x = F.relu(x)\n",
        "        x = F.dropout(x, training=self.training)\n",
        "        x = self.conv2(x, edge_index)\n",
        "\n",
        "        return F.log_softmax(x, dim=1)"
      ],
      "metadata": {
        "id": "URwF5PVhgqtD"
      },
      "execution_count": 63,
      "outputs": []
    },
    {
      "cell_type": "code",
      "source": [
        "device = torch.device('cuda' if torch.cuda.is_available() else 'cpu')\n",
        "model = GCN().to(device)\n",
        "data = dataset[0].to(device)\n",
        "optimizer = torch.optim.Adam(model.parameters(), lr=0.01, weight_decay=5e-4)\n"
      ],
      "metadata": {
        "id": "Jq7nbSy8hw9u"
      },
      "execution_count": 64,
      "outputs": []
    },
    {
      "cell_type": "code",
      "source": [
        "print(optimizer)"
      ],
      "metadata": {
        "colab": {
          "base_uri": "https://localhost:8080/"
        },
        "id": "aPehjMqNiBrf",
        "outputId": "07e49ec5-333c-4409-9987-e8033c666ebf"
      },
      "execution_count": 65,
      "outputs": [
        {
          "output_type": "stream",
          "name": "stdout",
          "text": [
            "Adam (\n",
            "Parameter Group 0\n",
            "    amsgrad: False\n",
            "    betas: (0.9, 0.999)\n",
            "    capturable: False\n",
            "    differentiable: False\n",
            "    eps: 1e-08\n",
            "    foreach: None\n",
            "    fused: None\n",
            "    lr: 0.01\n",
            "    maximize: False\n",
            "    weight_decay: 0.0005\n",
            ")\n"
          ]
        }
      ]
    },
    {
      "cell_type": "code",
      "source": [
        "print(model)"
      ],
      "metadata": {
        "colab": {
          "base_uri": "https://localhost:8080/"
        },
        "id": "TgrJsW1kiLe9",
        "outputId": "b75b8634-edda-4b15-b2db-bf93c7d2ed77"
      },
      "execution_count": 66,
      "outputs": [
        {
          "output_type": "stream",
          "name": "stdout",
          "text": [
            "GCN(\n",
            "  (conv1): GCNConv(1433, 16)\n",
            "  (conv2): GCNConv(16, 7)\n",
            ")\n"
          ]
        }
      ]
    },
    {
      "cell_type": "code",
      "source": [
        "100 % 50"
      ],
      "metadata": {
        "colab": {
          "base_uri": "https://localhost:8080/"
        },
        "id": "dpQfXm_ajzR6",
        "outputId": "6a893ba0-595d-488f-f2ee-3b7a6e562534"
      },
      "execution_count": 75,
      "outputs": [
        {
          "output_type": "execute_result",
          "data": {
            "text/plain": [
              "0"
            ]
          },
          "metadata": {},
          "execution_count": 75
        }
      ]
    },
    {
      "cell_type": "code",
      "source": [
        "model.train()\n",
        "for epoch in range(200):\n",
        "    optimizer.zero_grad()\n",
        "    out = model(data)\n",
        "    if epoch ==1:\n",
        "      print(out)\n",
        "    loss = F.nll_loss(out[data.train_mask], data.y[data.train_mask])\n",
        "    if epoch % 50 == 0:\n",
        "      print(f'epoch={epoch},loss value is: {loss},\\n')\n",
        "    loss.backward()\n",
        "    optimizer.step()"
      ],
      "metadata": {
        "colab": {
          "base_uri": "https://localhost:8080/"
        },
        "id": "FZ4RLlSIh1s5",
        "outputId": "526ccaf6-ddd2-49cb-e0b4-db336f1d32c2"
      },
      "execution_count": 76,
      "outputs": [
        {
          "output_type": "stream",
          "name": "stdout",
          "text": [
            "epoch=0,loss value is: 0.014416670426726341,\n",
            "\n",
            "tensor([[-1.0044e+01, -1.0165e+01, -8.8782e+00,  ..., -7.8491e+00,\n",
            "         -8.2734e+00, -1.0062e+01],\n",
            "        [-8.4510e+00, -1.3572e+01, -1.2559e+01,  ..., -4.6266e-04,\n",
            "         -1.2581e+01, -8.7553e+00],\n",
            "        [-1.1686e+01, -2.0217e+01, -1.7014e+01,  ..., -4.2676e-05,\n",
            "         -1.8325e+01, -1.6904e+01],\n",
            "        ...,\n",
            "        [-2.0096e+00, -2.2957e-01, -7.9513e+00,  ..., -7.2688e+00,\n",
            "         -5.6494e+00, -6.3931e+00],\n",
            "        [-8.4112e+00, -7.9774e+00, -7.6068e+00,  ..., -7.7642e+00,\n",
            "         -9.7363e+00, -1.2046e+01],\n",
            "        [-8.3248e+00, -7.8859e+00, -7.6521e+00,  ..., -7.3621e+00,\n",
            "         -8.0687e+00, -1.2362e+01]], device='cuda:0',\n",
            "       grad_fn=<LogSoftmaxBackward0>)\n",
            "epoch=50,loss value is: 0.017802931368350983,\n",
            "\n",
            "epoch=100,loss value is: 0.017094748094677925,\n",
            "\n",
            "epoch=150,loss value is: 0.018516769632697105,\n",
            "\n"
          ]
        }
      ]
    },
    {
      "cell_type": "code",
      "source": [
        "model.eval()\n",
        "print(model(data).shape) # compute the prediction for all nodes\n",
        "print(model(data))"
      ],
      "metadata": {
        "colab": {
          "base_uri": "https://localhost:8080/"
        },
        "id": "xbNjQG88ivHd",
        "outputId": "ba598587-6e86-495c-ac29-9d9fe5f568fc"
      },
      "execution_count": 72,
      "outputs": [
        {
          "output_type": "stream",
          "name": "stdout",
          "text": [
            "torch.Size([2708, 7])\n",
            "tensor([[-8.6938e+00, -8.7502e+00, -9.2916e+00,  ..., -8.2936e+00,\n",
            "         -9.8322e+00, -9.9873e+00],\n",
            "        [-1.2680e+01, -1.3262e+01, -1.3678e+01,  ..., -1.3709e-05,\n",
            "         -1.5348e+01, -1.1957e+01],\n",
            "        [-1.0908e+01, -1.0998e+01, -1.2009e+01,  ..., -1.5687e-04,\n",
            "         -1.3238e+01, -1.0556e+01],\n",
            "        ...,\n",
            "        [-7.5489e-01, -1.1072e+00, -7.4873e+00,  ..., -7.3959e+00,\n",
            "         -1.7942e+00, -3.8324e+00],\n",
            "        [-8.0189e+00, -6.8850e+00, -8.2132e+00,  ..., -6.5319e+00,\n",
            "         -8.9948e+00, -1.0606e+01],\n",
            "        [-7.1159e+00, -6.1808e+00, -7.3517e+00,  ..., -6.3592e+00,\n",
            "         -7.9447e+00, -9.7197e+00]], device='cuda:0',\n",
            "       grad_fn=<LogSoftmaxBackward0>)\n"
          ]
        }
      ]
    },
    {
      "cell_type": "code",
      "source": [
        "pred = model(data).argmax(dim=1)\n",
        "correct = (pred[data.test_mask] == data.y[data.test_mask]).sum()\n",
        "acc = int(correct) / int(data.test_mask.sum())\n",
        "print(f'Accuracy: {acc:.4f}')"
      ],
      "metadata": {
        "colab": {
          "base_uri": "https://localhost:8080/"
        },
        "id": "74gsdB0Fi-nV",
        "outputId": "d6a24111-9647-4d6c-9e17-1318ec728a70"
      },
      "execution_count": 73,
      "outputs": [
        {
          "output_type": "stream",
          "name": "stdout",
          "text": [
            "Accuracy: 0.8040\n"
          ]
        }
      ]
    },
    {
      "cell_type": "markdown",
      "source": [
        "Excerse"
      ],
      "metadata": {
        "id": "Mz10cTyDjibc"
      }
    },
    {
      "cell_type": "code",
      "source": [
        "#from torch_geometric.datasets import IMDB-BINARY\n",
        "#dataset = Planetoid(root='/tmp/Cora', name='Cora')\n",
        "dataset = TUDataset(root='/tmp/IMDB-BINARY', name='IMDB-BINARY')"
      ],
      "metadata": {
        "colab": {
          "base_uri": "https://localhost:8080/"
        },
        "id": "7WoxAef2jZuJ",
        "outputId": "36198d93-11eb-4354-82cf-3ef0c83d5c2e"
      },
      "execution_count": 77,
      "outputs": [
        {
          "output_type": "stream",
          "name": "stderr",
          "text": [
            "Downloading https://www.chrsmrrs.com/graphkerneldatasets/IMDB-BINARY.zip\n",
            "Extracting /tmp/IMDB-BINARY/IMDB-BINARY/IMDB-BINARY.zip\n",
            "Processing...\n",
            "Done!\n"
          ]
        }
      ]
    },
    {
      "cell_type": "code",
      "source": [
        "print(dataset)"
      ],
      "metadata": {
        "colab": {
          "base_uri": "https://localhost:8080/"
        },
        "id": "E01-4LoEkdeI",
        "outputId": "78379c11-72cd-4133-b663-b810fda354ea"
      },
      "execution_count": 78,
      "outputs": [
        {
          "output_type": "stream",
          "name": "stdout",
          "text": [
            "IMDB-BINARY(1000)\n"
          ]
        }
      ]
    },
    {
      "cell_type": "code",
      "source": [
        "data = dataset[0]\n",
        "print(data)"
      ],
      "metadata": {
        "colab": {
          "base_uri": "https://localhost:8080/"
        },
        "id": "Gic0PziFkgvZ",
        "outputId": "6511957a-ad6e-43d3-d0c8-fd9719055830"
      },
      "execution_count": 79,
      "outputs": [
        {
          "output_type": "stream",
          "name": "stdout",
          "text": [
            "Data(edge_index=[2, 146], y=[1], num_nodes=20)\n"
          ]
        }
      ]
    },
    {
      "cell_type": "code",
      "source": [
        "import torch as th\n",
        "dataset.train_mask = th.tensor([True] * 1000)"
      ],
      "metadata": {
        "id": "e7P_OLlOkj7d"
      },
      "execution_count": 82,
      "outputs": []
    },
    {
      "cell_type": "code",
      "source": [
        "dataset[0]"
      ],
      "metadata": {
        "colab": {
          "base_uri": "https://localhost:8080/"
        },
        "id": "aiwWmZCQk25h",
        "outputId": "3bebdc4c-73a3-475c-f29f-030c9038cf83"
      },
      "execution_count": 85,
      "outputs": [
        {
          "output_type": "execute_result",
          "data": {
            "text/plain": [
              "Data(edge_index=[2, 146], y=[1], num_nodes=20)"
            ]
          },
          "metadata": {},
          "execution_count": 85
        }
      ]
    },
    {
      "cell_type": "code",
      "source": [
        "import torch\n",
        "from torch_geometric.datasets import TUDataset\n",
        "from torch_geometric.data import DataLoader\n",
        "from torch.utils.data import random_split\n",
        "\n",
        "# Set seed for reproducibility\n",
        "seed = 42\n",
        "torch.manual_seed(seed)\n",
        "\n",
        "# Load IMDB-BINARY dataset\n",
        "dataset = TUDataset(root='data/IMDB-BINARY', name='IMDB-BINARY')\n",
        "\n",
        "# Define sizes for training, validation, and test sets\n",
        "num_data = len(dataset)\n",
        "train_ratio, val_ratio, test_ratio = 0.8, 0.1, 0.1\n",
        "num_train = int(train_ratio * num_data)\n",
        "num_val = int(val_ratio * num_data)\n",
        "num_test = num_data - num_train - num_val\n",
        "\n",
        "# Split dataset into training, validation, and test sets\n",
        "train_dataset, val_dataset, test_dataset = random_split(\n",
        "    dataset, [num_train, num_val, num_test], generator=torch.manual_seed(seed)\n",
        ")\n",
        "\n",
        "# Create DataLoader for each set\n",
        "train_loader = DataLoader(train_dataset, batch_size=64, shuffle=True)\n",
        "val_loader = DataLoader(val_dataset, batch_size=64, shuffle=False)\n",
        "test_loader = DataLoader(test_dataset, batch_size=64, shuffle=False)\n",
        "\n",
        "# Example usage of the loaders\n",
        "for batch in train_loader:\n",
        "    # Perform training operations\n",
        "    pass\n",
        "\n",
        "for batch in val_loader:\n",
        "    # Perform validation operations\n",
        "    pass\n",
        "\n",
        "for batch in test_loader:\n",
        "    # Perform test operations\n",
        "    pass\n"
      ],
      "metadata": {
        "colab": {
          "base_uri": "https://localhost:8080/"
        },
        "id": "yzbz1uEZlFGw",
        "outputId": "3b0075d9-5089-47d5-cecb-81252f60d06d"
      },
      "execution_count": 87,
      "outputs": [
        {
          "output_type": "stream",
          "name": "stderr",
          "text": [
            "Downloading https://www.chrsmrrs.com/graphkerneldatasets/IMDB-BINARY.zip\n",
            "Extracting data/IMDB-BINARY/IMDB-BINARY/IMDB-BINARY.zip\n",
            "Processing...\n",
            "Done!\n",
            "/usr/local/lib/python3.10/dist-packages/torch_geometric/deprecation.py:22: UserWarning: 'data.DataLoader' is deprecated, use 'loader.DataLoader' instead\n",
            "  warnings.warn(out)\n"
          ]
        }
      ]
    },
    {
      "cell_type": "code",
      "source": [
        "train_dataset[0]"
      ],
      "metadata": {
        "colab": {
          "base_uri": "https://localhost:8080/"
        },
        "id": "dl595dCalTne",
        "outputId": "d8182434-a53c-4405-80cb-e5d63df8a380"
      },
      "execution_count": 89,
      "outputs": [
        {
          "output_type": "execute_result",
          "data": {
            "text/plain": [
              "Data(edge_index=[2, 66], y=[1], num_nodes=13)"
            ]
          },
          "metadata": {},
          "execution_count": 89
        }
      ]
    },
    {
      "cell_type": "code",
      "source": [],
      "metadata": {
        "id": "ql794h51l41S"
      },
      "execution_count": null,
      "outputs": []
    }
  ]
}
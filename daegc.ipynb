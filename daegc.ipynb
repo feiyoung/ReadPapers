{
  "nbformat": 4,
  "nbformat_minor": 0,
  "metadata": {
    "colab": {
      "provenance": [],
      "toc_visible": true,
      "include_colab_link": true
    },
    "kernelspec": {
      "name": "python3",
      "display_name": "Python 3"
    },
    "accelerator": "GPU"
  },
  "cells": [
    {
      "cell_type": "markdown",
      "metadata": {
        "id": "view-in-github",
        "colab_type": "text"
      },
      "source": [
        "<a href=\"https://colab.research.google.com/github/feiyoung/ReadPapers/blob/master/daegc.ipynb\" target=\"_parent\"><img src=\"https://colab.research.google.com/assets/colab-badge.svg\" alt=\"Open In Colab\"/></a>"
      ]
    },
    {
      "cell_type": "markdown",
      "metadata": {
        "id": "wgfADKF32LZf"
      },
      "source": [
        "# DAEGC by pytorch"
      ]
    },
    {
      "cell_type": "markdown",
      "metadata": {
        "id": "6ZaditPc2S8G"
      },
      "source": [
        "A PyTorch implement of [Attributed Graph Clustering: A Deep Attentional Embedding Approach](https://www.ijcai.org/Proceedings/2019/0509.pdf)"
      ]
    },
    {
      "cell_type": "markdown",
      "metadata": {
        "id": "i1N3sx9JfJGM"
      },
      "source": [
        "## Result On Cora"
      ]
    },
    {
      "cell_type": "markdown",
      "metadata": {
        "id": "O2vBPxWgfFnT"
      },
      "source": [
        "|Model|ACC|NMI|F-score|ARI|\n",
        "|---|---|---|---|---|\n",
        "|DAEGC|0.704|0.528|0.682|0.496|\n",
        "|my DAEGC|0.707|0.543|0.693|0.484|\n",
        "\n",
        "*Didn't run kmeans 50 times to get average score for my implement*\n",
        "\n",
        "*Just take the best score*"
      ]
    },
    {
      "cell_type": "markdown",
      "metadata": {
        "id": "RswNIuEZfNtq"
      },
      "source": [
        "## Result On Citeseer"
      ]
    },
    {
      "cell_type": "markdown",
      "metadata": {
        "id": "iRws_N7dfIdc"
      },
      "source": [
        "|Model|ACC|NMI|F-score|ARI|\n",
        "|---|---|---|---|---|\n",
        "|DAEGC|0.672|0.397|0.636|0.410|\n",
        "|my DAEGC|0.687|0.417|0.643|0.441|\n",
        "\n",
        "*Didn't run kmeans 50 times to get average score for my implement*\n",
        "\n",
        "*Just take the best score*"
      ]
    },
    {
      "cell_type": "markdown",
      "metadata": {
        "id": "TFmZsic5fjEh"
      },
      "source": [
        "## Prepare"
      ]
    },
    {
      "cell_type": "markdown",
      "metadata": {
        "id": "peSnz3431xAp"
      },
      "source": [
        "### Check GPU and CUDA version"
      ]
    },
    {
      "cell_type": "code",
      "metadata": {
        "colab": {
          "base_uri": "https://localhost:8080/"
        },
        "id": "dofbUbVnmqCJ",
        "outputId": "17043724-b646-4c8e-854a-6fd218c3321a"
      },
      "source": [
        "!nvidia-smi"
      ],
      "execution_count": null,
      "outputs": [
        {
          "output_type": "stream",
          "text": [
            "Mon Mar 22 01:45:00 2021       \n",
            "+-----------------------------------------------------------------------------+\n",
            "| NVIDIA-SMI 460.56       Driver Version: 460.32.03    CUDA Version: 11.2     |\n",
            "|-------------------------------+----------------------+----------------------+\n",
            "| GPU  Name        Persistence-M| Bus-Id        Disp.A | Volatile Uncorr. ECC |\n",
            "| Fan  Temp  Perf  Pwr:Usage/Cap|         Memory-Usage | GPU-Util  Compute M. |\n",
            "|                               |                      |               MIG M. |\n",
            "|===============================+======================+======================|\n",
            "|   0  Tesla T4            Off  | 00000000:00:04.0 Off |                    0 |\n",
            "| N/A   44C    P8    10W /  70W |      0MiB / 15109MiB |      0%      Default |\n",
            "|                               |                      |                  N/A |\n",
            "+-------------------------------+----------------------+----------------------+\n",
            "                                                                               \n",
            "+-----------------------------------------------------------------------------+\n",
            "| Processes:                                                                  |\n",
            "|  GPU   GI   CI        PID   Type   Process name                  GPU Memory |\n",
            "|        ID   ID                                                   Usage      |\n",
            "|=============================================================================|\n",
            "|  No running processes found                                                 |\n",
            "+-----------------------------------------------------------------------------+\n"
          ],
          "name": "stdout"
        }
      ]
    },
    {
      "cell_type": "code",
      "metadata": {
        "colab": {
          "base_uri": "https://localhost:8080/"
        },
        "id": "6QNDfMOLRLmH",
        "outputId": "ec9ffa5d-4fcc-4dd1-ab22-c63e457688da"
      },
      "source": [
        "!nvcc --version"
      ],
      "execution_count": null,
      "outputs": [
        {
          "output_type": "stream",
          "text": [
            "nvcc: NVIDIA (R) Cuda compiler driver\n",
            "Copyright (c) 2005-2020 NVIDIA Corporation\n",
            "Built on Wed_Jul_22_19:09:09_PDT_2020\n",
            "Cuda compilation tools, release 11.0, V11.0.221\n",
            "Build cuda_11.0_bu.TC445_37.28845127_0\n"
          ],
          "name": "stdout"
        }
      ]
    },
    {
      "cell_type": "markdown",
      "metadata": {
        "id": "Bdr0P3S2113f"
      },
      "source": [
        "### Install requirement"
      ]
    },
    {
      "cell_type": "code",
      "metadata": {
        "colab": {
          "base_uri": "https://localhost:8080/"
        },
        "id": "al2YJ_D1UOXN",
        "outputId": "fa193125-dca3-4c82-d6d4-50b3ec43dce8"
      },
      "source": [
        "%%bash\n",
        "#CUDA=cpu\n",
        "CUDA=cu110\n",
        "TORCH=1.7.0\n",
        "TORCHVISION=0.8.1\n",
        "\n",
        "echo BUILDING WITH CUDA===${CUDA} AND TORCH===${TORCH}\n",
        "python3 -m pip install torch==${TORCH}+${CUDA} torchvision==${TORCHVISION}+${CUDA} -f https://download.pytorch.org/whl/torch_stable.html\n",
        "\n",
        "python3 -m pip install torch-scatter==latest+${CUDA} -f https://pytorch-geometric.com/whl/torch-${TORCH}.html\n",
        "python3 -m pip install torch-sparse==latest+${CUDA} -f https://pytorch-geometric.com/whl/torch-${TORCH}.html\n",
        "python3 -m pip install torch-cluster==latest+${CUDA} -f https://pytorch-geometric.com/whl/torch-${TORCH}.html\n",
        "python3 -m pip install torch-spline-conv==latest+${CUDA} -f https://pytorch-geometric.com/whl/torch-${TORCH}.html\n",
        "python3 -m pip install torch-geometric"
      ],
      "execution_count": null,
      "outputs": [
        {
          "output_type": "stream",
          "text": [
            "BUILDING WITH CUDA===cu110 AND TORCH===1.7.0\n",
            "Looking in links: https://download.pytorch.org/whl/torch_stable.html\n",
            "Collecting torch==1.7.0+cu110\n",
            "  Downloading https://download.pytorch.org/whl/cu110/torch-1.7.0%2Bcu110-cp37-cp37m-linux_x86_64.whl (1137.1MB)\n",
            "Collecting torchvision==0.8.1+cu110\n",
            "  Downloading https://download.pytorch.org/whl/cu110/torchvision-0.8.1%2Bcu110-cp37-cp37m-linux_x86_64.whl (12.9MB)\n",
            "Requirement already satisfied: numpy in /usr/local/lib/python3.7/dist-packages (from torch==1.7.0+cu110) (1.19.5)\n",
            "Requirement already satisfied: future in /usr/local/lib/python3.7/dist-packages (from torch==1.7.0+cu110) (0.16.0)\n",
            "Collecting dataclasses\n",
            "  Downloading https://files.pythonhosted.org/packages/26/2f/1095cdc2868052dd1e64520f7c0d5c8c550ad297e944e641dbf1ffbb9a5d/dataclasses-0.6-py3-none-any.whl\n",
            "Requirement already satisfied: typing-extensions in /usr/local/lib/python3.7/dist-packages (from torch==1.7.0+cu110) (3.7.4.3)\n",
            "Requirement already satisfied: pillow>=4.1.1 in /usr/local/lib/python3.7/dist-packages (from torchvision==0.8.1+cu110) (7.0.0)\n",
            "Installing collected packages: dataclasses, torch, torchvision\n",
            "  Found existing installation: torch 1.8.0+cu101\n",
            "    Uninstalling torch-1.8.0+cu101:\n",
            "      Successfully uninstalled torch-1.8.0+cu101\n",
            "  Found existing installation: torchvision 0.9.0+cu101\n",
            "    Uninstalling torchvision-0.9.0+cu101:\n",
            "      Successfully uninstalled torchvision-0.9.0+cu101\n",
            "Successfully installed dataclasses-0.6 torch-1.7.0+cu110 torchvision-0.8.1+cu110\n",
            "Looking in links: https://pytorch-geometric.com/whl/torch-1.7.0.html\n",
            "Collecting torch-scatter==latest+cu110\n",
            "  Downloading https://pytorch-geometric.com/whl/torch-1.7.0/torch_scatter-latest%2Bcu110-cp37-cp37m-linux_x86_64.whl (12.0MB)\n",
            "Installing collected packages: torch-scatter\n",
            "Successfully installed torch-scatter-2.0.5\n",
            "Looking in links: https://pytorch-geometric.com/whl/torch-1.7.0.html\n",
            "Collecting torch-sparse==latest+cu110\n",
            "  Downloading https://pytorch-geometric.com/whl/torch-1.7.0/torch_sparse-latest%2Bcu110-cp37-cp37m-linux_x86_64.whl (24.3MB)\n",
            "Requirement already satisfied: scipy in /usr/local/lib/python3.7/dist-packages (from torch-sparse==latest+cu110) (1.4.1)\n",
            "Requirement already satisfied: numpy>=1.13.3 in /usr/local/lib/python3.7/dist-packages (from scipy->torch-sparse==latest+cu110) (1.19.5)\n",
            "Installing collected packages: torch-sparse\n",
            "Successfully installed torch-sparse-0.6.8\n",
            "Looking in links: https://pytorch-geometric.com/whl/torch-1.7.0.html\n",
            "Collecting torch-cluster==latest+cu110\n",
            "  Downloading https://pytorch-geometric.com/whl/torch-1.7.0/torch_cluster-latest%2Bcu110-cp37-cp37m-linux_x86_64.whl (21.5MB)\n",
            "Installing collected packages: torch-cluster\n",
            "Successfully installed torch-cluster-1.5.8\n",
            "Looking in links: https://pytorch-geometric.com/whl/torch-1.7.0.html\n",
            "Collecting torch-spline-conv==latest+cu110\n",
            "  Downloading https://pytorch-geometric.com/whl/torch-1.7.0/torch_spline_conv-latest%2Bcu110-cp37-cp37m-linux_x86_64.whl (6.4MB)\n",
            "Installing collected packages: torch-spline-conv\n",
            "Successfully installed torch-spline-conv-1.2.0\n",
            "Collecting torch-geometric\n",
            "  Downloading https://files.pythonhosted.org/packages/59/5c/3e95b76321fb14f24cc2ace392075717f645c4632e796ee0db1bc7d17231/torch_geometric-1.6.3.tar.gz (186kB)\n",
            "Requirement already satisfied: torch in /usr/local/lib/python3.7/dist-packages (from torch-geometric) (1.7.0+cu110)\n",
            "Requirement already satisfied: numpy in /usr/local/lib/python3.7/dist-packages (from torch-geometric) (1.19.5)\n",
            "Requirement already satisfied: tqdm in /usr/local/lib/python3.7/dist-packages (from torch-geometric) (4.41.1)\n",
            "Requirement already satisfied: scipy in /usr/local/lib/python3.7/dist-packages (from torch-geometric) (1.4.1)\n",
            "Requirement already satisfied: networkx in /usr/local/lib/python3.7/dist-packages (from torch-geometric) (2.5)\n",
            "Requirement already satisfied: python-louvain in /usr/local/lib/python3.7/dist-packages (from torch-geometric) (0.15)\n",
            "Requirement already satisfied: scikit-learn in /usr/local/lib/python3.7/dist-packages (from torch-geometric) (0.22.2.post1)\n",
            "Requirement already satisfied: numba in /usr/local/lib/python3.7/dist-packages (from torch-geometric) (0.51.2)\n",
            "Requirement already satisfied: requests in /usr/local/lib/python3.7/dist-packages (from torch-geometric) (2.23.0)\n",
            "Requirement already satisfied: pandas in /usr/local/lib/python3.7/dist-packages (from torch-geometric) (1.1.5)\n",
            "Collecting rdflib\n",
            "  Downloading https://files.pythonhosted.org/packages/d0/6b/6454aa1db753c0f8bc265a5bd5c10b5721a4bb24160fb4faf758cf6be8a1/rdflib-5.0.0-py3-none-any.whl (231kB)\n",
            "Requirement already satisfied: h5py in /usr/local/lib/python3.7/dist-packages (from torch-geometric) (2.10.0)\n",
            "Requirement already satisfied: googledrivedownloader in /usr/local/lib/python3.7/dist-packages (from torch-geometric) (0.4)\n",
            "Collecting ase\n",
            "  Downloading https://files.pythonhosted.org/packages/a5/36/de17e79f29e06d9a92746d0dd9ec4636487ab03f6af10e78586aae533f7a/ase-3.21.1-py3-none-any.whl (2.2MB)\n",
            "Requirement already satisfied: jinja2 in /usr/local/lib/python3.7/dist-packages (from torch-geometric) (2.11.3)\n",
            "Requirement already satisfied: future in /usr/local/lib/python3.7/dist-packages (from torch->torch-geometric) (0.16.0)\n",
            "Requirement already satisfied: typing-extensions in /usr/local/lib/python3.7/dist-packages (from torch->torch-geometric) (3.7.4.3)\n",
            "Requirement already satisfied: dataclasses in /usr/local/lib/python3.7/dist-packages (from torch->torch-geometric) (0.6)\n",
            "Requirement already satisfied: decorator>=4.3.0 in /usr/local/lib/python3.7/dist-packages (from networkx->torch-geometric) (4.4.2)\n",
            "Requirement already satisfied: joblib>=0.11 in /usr/local/lib/python3.7/dist-packages (from scikit-learn->torch-geometric) (1.0.1)\n",
            "Requirement already satisfied: setuptools in /usr/local/lib/python3.7/dist-packages (from numba->torch-geometric) (54.1.2)\n",
            "Requirement already satisfied: llvmlite<0.35,>=0.34.0.dev0 in /usr/local/lib/python3.7/dist-packages (from numba->torch-geometric) (0.34.0)\n",
            "Requirement already satisfied: chardet<4,>=3.0.2 in /usr/local/lib/python3.7/dist-packages (from requests->torch-geometric) (3.0.4)\n",
            "Requirement already satisfied: idna<3,>=2.5 in /usr/local/lib/python3.7/dist-packages (from requests->torch-geometric) (2.10)\n",
            "Requirement already satisfied: urllib3!=1.25.0,!=1.25.1,<1.26,>=1.21.1 in /usr/local/lib/python3.7/dist-packages (from requests->torch-geometric) (1.24.3)\n",
            "Requirement already satisfied: certifi>=2017.4.17 in /usr/local/lib/python3.7/dist-packages (from requests->torch-geometric) (2020.12.5)\n",
            "Requirement already satisfied: python-dateutil>=2.7.3 in /usr/local/lib/python3.7/dist-packages (from pandas->torch-geometric) (2.8.1)\n",
            "Requirement already satisfied: pytz>=2017.2 in /usr/local/lib/python3.7/dist-packages (from pandas->torch-geometric) (2018.9)\n",
            "Requirement already satisfied: pyparsing in /usr/local/lib/python3.7/dist-packages (from rdflib->torch-geometric) (2.4.7)\n",
            "Requirement already satisfied: six in /usr/local/lib/python3.7/dist-packages (from rdflib->torch-geometric) (1.15.0)\n",
            "Collecting isodate\n",
            "  Downloading https://files.pythonhosted.org/packages/9b/9f/b36f7774ff5ea8e428fdcfc4bb332c39ee5b9362ddd3d40d9516a55221b2/isodate-0.6.0-py2.py3-none-any.whl (45kB)\n",
            "Requirement already satisfied: matplotlib>=2.0.0 in /usr/local/lib/python3.7/dist-packages (from ase->torch-geometric) (3.2.2)\n",
            "Requirement already satisfied: MarkupSafe>=0.23 in /usr/local/lib/python3.7/dist-packages (from jinja2->torch-geometric) (1.1.1)\n",
            "Requirement already satisfied: cycler>=0.10 in /usr/local/lib/python3.7/dist-packages (from matplotlib>=2.0.0->ase->torch-geometric) (0.10.0)\n",
            "Requirement already satisfied: kiwisolver>=1.0.1 in /usr/local/lib/python3.7/dist-packages (from matplotlib>=2.0.0->ase->torch-geometric) (1.3.1)\n",
            "Building wheels for collected packages: torch-geometric\n",
            "  Building wheel for torch-geometric (setup.py): started\n",
            "  Building wheel for torch-geometric (setup.py): finished with status 'done'\n",
            "  Created wheel for torch-geometric: filename=torch_geometric-1.6.3-cp37-none-any.whl size=322719 sha256=d80dc981d5ab73d2cf0e9575a156c846a6bc9eb87f2b741cd08e2d9e925fccb9\n",
            "  Stored in directory: /root/.cache/pip/wheels/6d/47/1e/0af8ce3e21783c3e584c22502011a3367c091694eebc50a971\n",
            "Successfully built torch-geometric\n",
            "Installing collected packages: isodate, rdflib, ase, torch-geometric\n",
            "Successfully installed ase-3.21.1 isodate-0.6.0 rdflib-5.0.0 torch-geometric-1.6.3\n"
          ],
          "name": "stdout"
        },
        {
          "output_type": "stream",
          "text": [
            "tcmalloc: large alloc 1147494400 bytes == 0x55efa165c000 @  0x7f234813d615 0x55ef673fc06c 0x55ef674dbeba 0x55ef673fee8d 0x55ef674f099d 0x55ef67472fe9 0x55ef6746db0e 0x55ef6740077a 0x55ef67472e50 0x55ef6746db0e 0x55ef6740077a 0x55ef6746f86a 0x55ef674f17c6 0x55ef6746eee2 0x55ef674f17c6 0x55ef6746eee2 0x55ef674f17c6 0x55ef6746eee2 0x55ef674f17c6 0x55ef67573431 0x55ef674d4049 0x55ef6743ec84 0x55ef673ff8e9 0x55ef67473ade 0x55ef6740069a 0x55ef6746ea45 0x55ef6746de0d 0x55ef6740077a 0x55ef6746ea45 0x55ef6740069a 0x55ef6746ea45\n",
            "tcmalloc: large alloc 1434370048 bytes == 0x55efe5cb2000 @  0x7f234813d615 0x55ef673fc06c 0x55ef674dbeba 0x55ef673fee8d 0x55ef674f099d 0x55ef67472fe9 0x55ef6746db0e 0x55ef6740077a 0x55ef67472e50 0x55ef6746db0e 0x55ef6740077a 0x55ef6746f86a 0x55ef674f17c6 0x55ef6746eee2 0x55ef674f17c6 0x55ef6746eee2 0x55ef674f17c6 0x55ef6746eee2 0x55ef674f17c6 0x55ef67573431 0x55ef674d4049 0x55ef6743ec84 0x55ef673ff8e9 0x55ef67473ade 0x55ef6740069a 0x55ef6746ea45 0x55ef6746de0d 0x55ef6740077a 0x55ef6746ea45 0x55ef6740069a 0x55ef6746ea45\n",
            "tcmalloc: large alloc 1421369344 bytes == 0x55f03b49e000 @  0x7f234813d615 0x55ef673fc06c 0x55ef674dbeba 0x55ef673fee8d 0x55ef674f099d 0x55ef67472fe9 0x55ef6746db0e 0x55ef6740077a 0x55ef6746ec9e 0x55ef6746db0e 0x55ef6740077a 0x55ef6746ec9e 0x55ef6746db0e 0x55ef6740077a 0x55ef6746ec9e 0x55ef6746db0e 0x55ef6740077a 0x55ef6746ec9e 0x55ef6746db0e 0x55ef6740077a 0x55ef6746ec9e 0x55ef6740069a 0x55ef6746ec9e 0x55ef6746db0e 0x55ef6740077a 0x55ef6746f86a 0x55ef6746db0e 0x55ef6740077a 0x55ef6746f86a 0x55ef6746db0e 0x55ef67400e11\n",
            "ERROR: torchtext 0.9.0 has requirement torch==1.8.0, but you'll have torch 1.7.0+cu110 which is incompatible.\n"
          ],
          "name": "stderr"
        }
      ]
    },
    {
      "cell_type": "code",
      "metadata": {
        "colab": {
          "base_uri": "https://localhost:8080/"
        },
        "id": "6-kj9V9knE6b",
        "outputId": "5de42ca6-7681-47ab-8fe1-4a7bac74f169"
      },
      "source": [
        "%%bash\n",
        "pip3 install munkres\n",
        "pip3 install -U scikit-learn"
      ],
      "execution_count": null,
      "outputs": [
        {
          "output_type": "stream",
          "text": [
            "Collecting munkres\n",
            "  Downloading https://files.pythonhosted.org/packages/90/ab/0301c945a704218bc9435f0e3c88884f6b19ef234d8899fb47ce1ccfd0c9/munkres-1.1.4-py2.py3-none-any.whl\n",
            "Installing collected packages: munkres\n",
            "Successfully installed munkres-1.1.4\n",
            "Collecting scikit-learn\n",
            "  Downloading https://files.pythonhosted.org/packages/f3/74/eb899f41d55f957e2591cde5528e75871f817d9fb46d4732423ecaca736d/scikit_learn-0.24.1-cp37-cp37m-manylinux2010_x86_64.whl (22.3MB)\n",
            "Requirement already satisfied, skipping upgrade: scipy>=0.19.1 in /usr/local/lib/python3.7/dist-packages (from scikit-learn) (1.4.1)\n",
            "Requirement already satisfied, skipping upgrade: joblib>=0.11 in /usr/local/lib/python3.7/dist-packages (from scikit-learn) (1.0.1)\n",
            "Collecting threadpoolctl>=2.0.0\n",
            "  Downloading https://files.pythonhosted.org/packages/f7/12/ec3f2e203afa394a149911729357aa48affc59c20e2c1c8297a60f33f133/threadpoolctl-2.1.0-py3-none-any.whl\n",
            "Requirement already satisfied, skipping upgrade: numpy>=1.13.3 in /usr/local/lib/python3.7/dist-packages (from scikit-learn) (1.19.5)\n",
            "Installing collected packages: threadpoolctl, scikit-learn\n",
            "  Found existing installation: scikit-learn 0.22.2.post1\n",
            "    Uninstalling scikit-learn-0.22.2.post1:\n",
            "      Successfully uninstalled scikit-learn-0.22.2.post1\n",
            "Successfully installed scikit-learn-0.24.1 threadpoolctl-2.1.0\n"
          ],
          "name": "stdout"
        }
      ]
    },
    {
      "cell_type": "markdown",
      "metadata": {
        "id": "XlXGY0VU1-MS"
      },
      "source": [
        "### Download code from github"
      ]
    },
    {
      "cell_type": "code",
      "metadata": {
        "id": "FnEF1AvVmFX0",
        "colab": {
          "base_uri": "https://localhost:8080/"
        },
        "outputId": "1fa61b2f-bbcc-42ae-cfc5-93c4281bcba6"
      },
      "source": [
        "%%bash\n",
        "git clone https://github.com/Tiger101010/DAEGC.git\n",
        "mkdir /content/DAEGC/DAEGC/pretrain\n",
        "rm -rf /content/sample_data/"
      ],
      "execution_count": null,
      "outputs": [
        {
          "output_type": "stream",
          "text": [
            "Cloning into 'DAEGC'...\n"
          ],
          "name": "stderr"
        }
      ]
    },
    {
      "cell_type": "markdown",
      "metadata": {
        "id": "EyHZLznRouem"
      },
      "source": [
        "## Pretrain"
      ]
    },
    {
      "cell_type": "markdown",
      "metadata": {
        "id": "VIUJYNgGbRhm"
      },
      "source": [
        "### Cora"
      ]
    },
    {
      "cell_type": "code",
      "metadata": {
        "colab": {
          "base_uri": "https://localhost:8080/"
        },
        "id": "4TvCaDBWe0Q0",
        "outputId": "8f9e731b-ff66-4577-c2cf-d1d670bd5015"
      },
      "source": [
        "%%bash\n",
        "cd /content/DAEGC/DAEGC\n",
        "python3 pretrain.py --name Cora --max_epoch 50"
      ],
      "execution_count": null,
      "outputs": [
        {
          "output_type": "stream",
          "text": [
            "use cuda: True\n",
            "Namespace(alpha=0.2, cuda=True, embedding_size=16, hidden_size=256, input_dim=1433, k=None, lr=0.005, max_epoch=50, n_clusters=7, name='Cora', weight_decay=0.005)\n",
            "GAT(\n",
            "  (conv1): GATLayer (1433 -> 256)\n",
            "  (conv2): GATLayer (256 -> 16)\n",
            ")\n",
            "epoch 0:acc 0.4431, nmi 0.2114, ari 0.1504, f1 0.4337\n",
            "epoch 1:acc 0.4553, nmi 0.2854, ari 0.2044, f1 0.4499\n",
            "epoch 2:acc 0.4982, nmi 0.3375, ari 0.2525, f1 0.4949\n",
            "epoch 3:acc 0.5063, nmi 0.3592, ari 0.2763, f1 0.5034\n",
            "epoch 4:acc 0.5225, nmi 0.3812, ari 0.2914, f1 0.5047\n",
            "epoch 5:acc 0.5727, nmi 0.4272, ari 0.3386, f1 0.5810\n",
            "epoch 6:acc 0.5805, nmi 0.4316, ari 0.3455, f1 0.5790\n",
            "epoch 7:acc 0.5857, nmi 0.4365, ari 0.3465, f1 0.5827\n",
            "epoch 8:acc 0.5934, nmi 0.4476, ari 0.3575, f1 0.5894\n",
            "epoch 9:acc 0.6049, nmi 0.4527, ari 0.3631, f1 0.6019\n",
            "epoch 10:acc 0.6204, nmi 0.4634, ari 0.3789, f1 0.6160\n",
            "epoch 11:acc 0.6185, nmi 0.4651, ari 0.3768, f1 0.6153\n",
            "epoch 12:acc 0.6171, nmi 0.4658, ari 0.3763, f1 0.6135\n",
            "epoch 13:acc 0.6193, nmi 0.4680, ari 0.3779, f1 0.6151\n",
            "epoch 14:acc 0.6219, nmi 0.4702, ari 0.3811, f1 0.6158\n",
            "epoch 15:acc 0.6208, nmi 0.4689, ari 0.3836, f1 0.6093\n",
            "epoch 16:acc 0.6148, nmi 0.4678, ari 0.3794, f1 0.6017\n",
            "epoch 17:acc 0.6226, nmi 0.4709, ari 0.3858, f1 0.6110\n",
            "epoch 18:acc 0.6326, nmi 0.4733, ari 0.3967, f1 0.6201\n",
            "epoch 19:acc 0.6322, nmi 0.4717, ari 0.3960, f1 0.6202\n",
            "epoch 20:acc 0.6329, nmi 0.4716, ari 0.3966, f1 0.6190\n",
            "epoch 21:acc 0.6304, nmi 0.4684, ari 0.3947, f1 0.6143\n",
            "epoch 22:acc 0.6344, nmi 0.4696, ari 0.3959, f1 0.6195\n",
            "epoch 23:acc 0.6337, nmi 0.4682, ari 0.3954, f1 0.6186\n",
            "epoch 24:acc 0.6337, nmi 0.4654, ari 0.3947, f1 0.6177\n",
            "epoch 25:acc 0.6440, nmi 0.4663, ari 0.4004, f1 0.6288\n",
            "epoch 26:acc 0.6448, nmi 0.4718, ari 0.3981, f1 0.6331\n",
            "epoch 27:acc 0.6436, nmi 0.4703, ari 0.3987, f1 0.6299\n",
            "epoch 28:acc 0.6536, nmi 0.4797, ari 0.4076, f1 0.6429\n",
            "epoch 29:acc 0.6569, nmi 0.4853, ari 0.4099, f1 0.6473\n",
            "epoch 30:acc 0.6654, nmi 0.4901, ari 0.4197, f1 0.6549\n",
            "epoch 31:acc 0.6732, nmi 0.4946, ari 0.4320, f1 0.6605\n",
            "epoch 32:acc 0.6739, nmi 0.4922, ari 0.4312, f1 0.6617\n",
            "epoch 33:acc 0.6758, nmi 0.4929, ari 0.4336, f1 0.6636\n",
            "epoch 34:acc 0.6761, nmi 0.4926, ari 0.4359, f1 0.6625\n",
            "epoch 35:acc 0.6776, nmi 0.4957, ari 0.4405, f1 0.6630\n",
            "epoch 36:acc 0.6802, nmi 0.4954, ari 0.4454, f1 0.6635\n",
            "epoch 37:acc 0.6935, nmi 0.5007, ari 0.4596, f1 0.6747\n",
            "epoch 38:acc 0.6928, nmi 0.4965, ari 0.4570, f1 0.6734\n",
            "epoch 39:acc 0.6883, nmi 0.4909, ari 0.4505, f1 0.6688\n",
            "epoch 40:acc 0.6880, nmi 0.4930, ari 0.4513, f1 0.6681\n",
            "epoch 41:acc 0.6071, nmi 0.4616, ari 0.4017, f1 0.5558\n",
            "epoch 42:acc 0.6082, nmi 0.4652, ari 0.4039, f1 0.5542\n",
            "epoch 43:acc 0.6019, nmi 0.4592, ari 0.3935, f1 0.5491\n",
            "epoch 44:acc 0.5964, nmi 0.4548, ari 0.3840, f1 0.5454\n",
            "epoch 45:acc 0.5905, nmi 0.4523, ari 0.3752, f1 0.5401\n",
            "epoch 46:acc 0.5883, nmi 0.4525, ari 0.3736, f1 0.5374\n",
            "epoch 47:acc 0.6569, nmi 0.4470, ari 0.4024, f1 0.6358\n",
            "epoch 48:acc 0.6407, nmi 0.4448, ari 0.3903, f1 0.6227\n",
            "epoch 49:acc 0.6414, nmi 0.4396, ari 0.3817, f1 0.6239\n"
          ],
          "name": "stdout"
        }
      ]
    },
    {
      "cell_type": "markdown",
      "metadata": {
        "id": "qD_fIaMlcJK8"
      },
      "source": [
        "### Citeseer\n"
      ]
    },
    {
      "cell_type": "code",
      "metadata": {
        "id": "4k5bjtJCaNU4",
        "colab": {
          "base_uri": "https://localhost:8080/"
        },
        "outputId": "21eef8a2-95c4-46b0-c139-e15c6cdb3f0e"
      },
      "source": [
        "%%bash\n",
        "cd /content/DAEGC/DAEGC\n",
        "python3 pretrain.py --name Citeseer --max_epoch 50"
      ],
      "execution_count": null,
      "outputs": [
        {
          "output_type": "stream",
          "text": [
            "use cuda: True\n",
            "Namespace(alpha=0.2, cuda=True, embedding_size=16, hidden_size=256, input_dim=3703, k=None, lr=0.005, max_epoch=50, n_clusters=6, name='Citeseer', weight_decay=0.005)\n",
            "GAT(\n",
            "  (conv1): GATLayer (3703 -> 256)\n",
            "  (conv2): GATLayer (256 -> 16)\n",
            ")\n",
            "epoch 0:acc 0.3303, nmi 0.1065, ari 0.0883, f1 0.3097\n",
            "epoch 1:acc 0.3883, nmi 0.1517, ari 0.1280, f1 0.3711\n",
            "epoch 2:acc 0.4788, nmi 0.2179, ari 0.1969, f1 0.4601\n",
            "epoch 3:acc 0.5029, nmi 0.2466, ari 0.2240, f1 0.4838\n",
            "epoch 4:acc 0.5242, nmi 0.2689, ari 0.2467, f1 0.5002\n",
            "epoch 5:acc 0.5437, nmi 0.2957, ari 0.2715, f1 0.5168\n",
            "epoch 6:acc 0.5573, nmi 0.3102, ari 0.2865, f1 0.5282\n",
            "epoch 7:acc 0.5654, nmi 0.3201, ari 0.2964, f1 0.5354\n",
            "epoch 8:acc 0.5693, nmi 0.3324, ari 0.3059, f1 0.5371\n",
            "epoch 9:acc 0.5756, nmi 0.3407, ari 0.3148, f1 0.5446\n",
            "epoch 10:acc 0.5753, nmi 0.3449, ari 0.3151, f1 0.5453\n",
            "epoch 11:acc 0.5852, nmi 0.3549, ari 0.3274, f1 0.5547\n",
            "epoch 12:acc 0.5840, nmi 0.3551, ari 0.3283, f1 0.5542\n",
            "epoch 13:acc 0.5858, nmi 0.3529, ari 0.3295, f1 0.5552\n",
            "epoch 14:acc 0.5888, nmi 0.3532, ari 0.3241, f1 0.5540\n",
            "epoch 15:acc 0.6177, nmi 0.3659, ari 0.3520, f1 0.5813\n",
            "epoch 16:acc 0.6213, nmi 0.3661, ari 0.3547, f1 0.5834\n",
            "epoch 17:acc 0.6171, nmi 0.3614, ari 0.3510, f1 0.5804\n",
            "epoch 18:acc 0.6231, nmi 0.3672, ari 0.3576, f1 0.5859\n",
            "epoch 19:acc 0.6237, nmi 0.3693, ari 0.3562, f1 0.5843\n",
            "epoch 20:acc 0.6189, nmi 0.3648, ari 0.3497, f1 0.5791\n",
            "epoch 21:acc 0.6204, nmi 0.3684, ari 0.3531, f1 0.5789\n",
            "epoch 22:acc 0.6207, nmi 0.3724, ari 0.3566, f1 0.5800\n",
            "epoch 23:acc 0.6168, nmi 0.3757, ari 0.3567, f1 0.5792\n",
            "epoch 24:acc 0.6132, nmi 0.3784, ari 0.3593, f1 0.5785\n",
            "epoch 25:acc 0.6078, nmi 0.3799, ari 0.3588, f1 0.5758\n",
            "epoch 26:acc 0.6035, nmi 0.3807, ari 0.3583, f1 0.5743\n",
            "epoch 27:acc 0.6041, nmi 0.3820, ari 0.3596, f1 0.5756\n",
            "epoch 28:acc 0.6087, nmi 0.3851, ari 0.3630, f1 0.5801\n",
            "epoch 29:acc 0.6201, nmi 0.3902, ari 0.3717, f1 0.5902\n",
            "epoch 30:acc 0.6246, nmi 0.3953, ari 0.3785, f1 0.5939\n",
            "epoch 31:acc 0.6351, nmi 0.4020, ari 0.3879, f1 0.6031\n",
            "epoch 32:acc 0.6342, nmi 0.3991, ari 0.3857, f1 0.6022\n",
            "epoch 33:acc 0.6138, nmi 0.3967, ari 0.3769, f1 0.5875\n",
            "epoch 34:acc 0.6210, nmi 0.3973, ari 0.3800, f1 0.5958\n",
            "epoch 35:acc 0.6171, nmi 0.3934, ari 0.3775, f1 0.5928\n",
            "epoch 36:acc 0.6267, nmi 0.3931, ari 0.3802, f1 0.5997\n",
            "epoch 37:acc 0.6294, nmi 0.3931, ari 0.3824, f1 0.6017\n",
            "epoch 38:acc 0.6285, nmi 0.3925, ari 0.3819, f1 0.6000\n",
            "epoch 39:acc 0.6348, nmi 0.3940, ari 0.3857, f1 0.6051\n",
            "epoch 40:acc 0.6441, nmi 0.3959, ari 0.3922, f1 0.6123\n",
            "epoch 41:acc 0.6516, nmi 0.3983, ari 0.3990, f1 0.6174\n",
            "epoch 42:acc 0.6345, nmi 0.3882, ari 0.3862, f1 0.6037\n",
            "epoch 43:acc 0.6372, nmi 0.3867, ari 0.3870, f1 0.6054\n",
            "epoch 44:acc 0.6330, nmi 0.3825, ari 0.3823, f1 0.6022\n",
            "epoch 45:acc 0.6324, nmi 0.3801, ari 0.3816, f1 0.6000\n",
            "epoch 46:acc 0.6201, nmi 0.3714, ari 0.3684, f1 0.5918\n",
            "epoch 47:acc 0.6303, nmi 0.3654, ari 0.3743, f1 0.5917\n",
            "epoch 48:acc 0.6044, nmi 0.3614, ari 0.3534, f1 0.5777\n",
            "epoch 49:acc 0.6486, nmi 0.3844, ari 0.3891, f1 0.6038\n"
          ],
          "name": "stdout"
        }
      ]
    },
    {
      "cell_type": "markdown",
      "metadata": {
        "id": "ULJUQsUWcMIg"
      },
      "source": [
        "### Pubmed"
      ]
    },
    {
      "cell_type": "code",
      "metadata": {
        "id": "u4cx-oHDR5Rm"
      },
      "source": [
        "%%bash\n",
        "cd /content/DAEGC/DAEGC\n",
        "python3 pretrain.py --name PubMed --max_epoch 1"
      ],
      "execution_count": null,
      "outputs": []
    },
    {
      "cell_type": "markdown",
      "metadata": {
        "id": "LYGW8NnOopY4"
      },
      "source": [
        "## Train"
      ]
    },
    {
      "cell_type": "markdown",
      "metadata": {
        "id": "fYsj9saYcQCg"
      },
      "source": [
        "### Cora"
      ]
    },
    {
      "cell_type": "markdown",
      "metadata": {
        "id": "gMCu2v1XeD8F"
      },
      "source": [
        "|Model|ACC|NMI|F-score|ARI|\n",
        "|---|---|---|---|---|\n",
        "|DAEGC|0.704|0.528|0.682|0.496|\n",
        "|my DAEGC|0.707|0.543|0.693|0.484|"
      ]
    },
    {
      "cell_type": "code",
      "metadata": {
        "colab": {
          "base_uri": "https://localhost:8080/"
        },
        "id": "9PpClcyki9au",
        "outputId": "9d33c73d-59f2-4297-da90-e840590bdd84"
      },
      "source": [
        "%%bash\n",
        "cd /content/DAEGC/DAEGC\n",
        "python3 daegc.py --update_interval 5 --name Cora --epoch 29 --max_epoch 200"
      ],
      "execution_count": null,
      "outputs": [
        {
          "output_type": "stream",
          "text": [
            "use cuda: True\n",
            "Namespace(alpha=0.2, cuda=True, embedding_size=16, epoch=29, hidden_size=256, input_dim=1433, k=None, lr=0.0001, max_epoch=200, n_clusters=7, name='Cora', pretrain_path='./pretrain/predaegc_Cora_29.pkl', update_interval=5, weight_decay=0.005)\n",
            "DAEGC(\n",
            "  (gat): GAT(\n",
            "    (conv1): GATLayer (1433 -> 256)\n",
            "    (conv2): GATLayer (256 -> 16)\n",
            "  )\n",
            ")\n",
            "epoch pretrain:acc 0.7068, nmi 0.5237, ari 0.4746, f1 0.6907\n",
            "epoch 0:acc 0.7068, nmi 0.5237, ari 0.4746, f1 0.6907\n",
            "epoch 5:acc 0.7075, nmi 0.5269, ari 0.4756, f1 0.6929\n",
            "epoch 10:acc 0.7086, nmi 0.5307, ari 0.4784, f1 0.6940\n",
            "epoch 15:acc 0.7075, nmi 0.5323, ari 0.4779, f1 0.6931\n",
            "epoch 20:acc 0.7068, nmi 0.5316, ari 0.4786, f1 0.6914\n",
            "epoch 25:acc 0.7057, nmi 0.5319, ari 0.4786, f1 0.6901\n",
            "epoch 30:acc 0.7083, nmi 0.5362, ari 0.4834, f1 0.6928\n",
            "epoch 35:acc 0.7072, nmi 0.5357, ari 0.4822, f1 0.6919\n",
            "epoch 40:acc 0.7064, nmi 0.5357, ari 0.4812, f1 0.6914\n",
            "epoch 45:acc 0.7064, nmi 0.5381, ari 0.4817, f1 0.6919\n",
            "epoch 50:acc 0.7075, nmi 0.5393, ari 0.4834, f1 0.6931\n",
            "epoch 55:acc 0.7072, nmi 0.5389, ari 0.4822, f1 0.6931\n",
            "epoch 60:acc 0.7075, nmi 0.5405, ari 0.4831, f1 0.6934\n",
            "epoch 65:acc 0.7075, nmi 0.5403, ari 0.4838, f1 0.6931\n",
            "epoch 70:acc 0.7072, nmi 0.5396, ari 0.4836, f1 0.6930\n",
            "epoch 75:acc 0.7057, nmi 0.5394, ari 0.4818, f1 0.6920\n",
            "epoch 80:acc 0.7057, nmi 0.5393, ari 0.4817, f1 0.6920\n",
            "epoch 85:acc 0.7053, nmi 0.5397, ari 0.4807, f1 0.6921\n",
            "epoch 90:acc 0.7049, nmi 0.5391, ari 0.4798, f1 0.6915\n",
            "epoch 95:acc 0.7057, nmi 0.5402, ari 0.4806, f1 0.6923\n",
            "epoch 100:acc 0.7049, nmi 0.5398, ari 0.4793, f1 0.6918\n",
            "epoch 105:acc 0.7046, nmi 0.5392, ari 0.4789, f1 0.6911\n",
            "epoch 110:acc 0.7072, nmi 0.5411, ari 0.4818, f1 0.6938\n",
            "epoch 115:acc 0.7072, nmi 0.5410, ari 0.4809, f1 0.6942\n",
            "epoch 120:acc 0.7064, nmi 0.5416, ari 0.4798, f1 0.6940\n",
            "epoch 125:acc 0.7075, nmi 0.5431, ari 0.4813, f1 0.6953\n",
            "epoch 130:acc 0.7072, nmi 0.5428, ari 0.4805, f1 0.6950\n",
            "epoch 135:acc 0.7064, nmi 0.5424, ari 0.4792, f1 0.6946\n",
            "epoch 140:acc 0.7061, nmi 0.5417, ari 0.4787, f1 0.6940\n",
            "epoch 145:acc 0.7061, nmi 0.5419, ari 0.4777, f1 0.6945\n",
            "epoch 150:acc 0.7057, nmi 0.5423, ari 0.4774, f1 0.6941\n",
            "epoch 155:acc 0.7057, nmi 0.5421, ari 0.4773, f1 0.6941\n",
            "epoch 160:acc 0.7057, nmi 0.5413, ari 0.4764, f1 0.6943\n",
            "epoch 165:acc 0.7053, nmi 0.5408, ari 0.4756, f1 0.6941\n",
            "epoch 170:acc 0.7064, nmi 0.5422, ari 0.4767, f1 0.6955\n",
            "epoch 175:acc 0.7064, nmi 0.5416, ari 0.4759, f1 0.6956\n",
            "epoch 180:acc 0.7057, nmi 0.5414, ari 0.4751, f1 0.6949\n",
            "epoch 185:acc 0.7061, nmi 0.5416, ari 0.4754, f1 0.6953\n",
            "epoch 190:acc 0.7068, nmi 0.5423, ari 0.4764, f1 0.6959\n",
            "epoch 195:acc 0.7053, nmi 0.5396, ari 0.4752, f1 0.6941\n"
          ],
          "name": "stdout"
        }
      ]
    },
    {
      "cell_type": "markdown",
      "metadata": {
        "id": "1WrjwRgTcTRK"
      },
      "source": [
        "### Citeseer"
      ]
    },
    {
      "cell_type": "markdown",
      "metadata": {
        "id": "SNbRHRQ_cdCI"
      },
      "source": [
        "|Model|ACC|NMI|F-score|ARI|\n",
        "|---|---|---|---|---|\n",
        "|DAEGC|0.672|0.397|0.636|0.410|\n",
        "|my DAEGC|0.687|0.417|0.643|0.441|"
      ]
    },
    {
      "cell_type": "code",
      "metadata": {
        "colab": {
          "base_uri": "https://localhost:8080/"
        },
        "id": "jFOBF7OsmnyB",
        "outputId": "3f2e2e2e-cc89-487b-da29-0c872256d7d5"
      },
      "source": [
        "%%bash\n",
        "cd /content/DAEGC/DAEGC\n",
        "python3 daegc.py --update_interval 5 --name Citeseer --epoch 41 --max_epoch 200"
      ],
      "execution_count": null,
      "outputs": [
        {
          "output_type": "stream",
          "text": [
            "use cuda: True\n",
            "Namespace(alpha=0.2, cuda=True, embedding_size=16, epoch=41, hidden_size=256, input_dim=3703, k=None, lr=0.0001, max_epoch=200, n_clusters=6, name='Citeseer', pretrain_path='./pretrain/predaegc_Citeseer_41.pkl', update_interval=5, weight_decay=0.005)\n",
            "DAEGC(\n",
            "  (gat): GAT(\n",
            "    (conv1): GATLayer (3703 -> 256)\n",
            "    (conv2): GATLayer (256 -> 16)\n",
            "  )\n",
            ")\n",
            "epoch pretrain:acc 0.6748, nmi 0.4005, ari 0.4207, f1 0.6295\n",
            "epoch 0:acc 0.6748, nmi 0.4005, ari 0.4207, f1 0.6295\n",
            "epoch 5:acc 0.6775, nmi 0.4062, ari 0.4259, f1 0.6318\n",
            "epoch 10:acc 0.6772, nmi 0.4048, ari 0.4259, f1 0.6314\n",
            "epoch 15:acc 0.6814, nmi 0.4098, ari 0.4311, f1 0.6374\n",
            "epoch 20:acc 0.6826, nmi 0.4118, ari 0.4335, f1 0.6384\n",
            "epoch 25:acc 0.6832, nmi 0.4116, ari 0.4341, f1 0.6393\n",
            "epoch 30:acc 0.6850, nmi 0.4138, ari 0.4368, f1 0.6413\n",
            "epoch 35:acc 0.6868, nmi 0.4160, ari 0.4399, f1 0.6425\n",
            "epoch 40:acc 0.6874, nmi 0.4174, ari 0.4412, f1 0.6430\n",
            "epoch 45:acc 0.6895, nmi 0.4197, ari 0.4442, f1 0.6453\n",
            "epoch 50:acc 0.6871, nmi 0.4170, ari 0.4413, f1 0.6425\n",
            "epoch 55:acc 0.6853, nmi 0.4152, ari 0.4391, f1 0.6404\n",
            "epoch 60:acc 0.6850, nmi 0.4150, ari 0.4388, f1 0.6401\n",
            "epoch 65:acc 0.6853, nmi 0.4153, ari 0.4393, f1 0.6403\n",
            "epoch 70:acc 0.6847, nmi 0.4148, ari 0.4390, f1 0.6394\n",
            "epoch 75:acc 0.6847, nmi 0.4144, ari 0.4387, f1 0.6394\n",
            "epoch 80:acc 0.6850, nmi 0.4148, ari 0.4391, f1 0.6397\n",
            "epoch 85:acc 0.6847, nmi 0.4143, ari 0.4387, f1 0.6394\n",
            "epoch 90:acc 0.6847, nmi 0.4143, ari 0.4386, f1 0.6398\n",
            "epoch 95:acc 0.6847, nmi 0.4143, ari 0.4386, f1 0.6398\n",
            "epoch 100:acc 0.6844, nmi 0.4147, ari 0.4389, f1 0.6393\n",
            "epoch 105:acc 0.6844, nmi 0.4149, ari 0.4389, f1 0.6393\n",
            "epoch 110:acc 0.6850, nmi 0.4151, ari 0.4397, f1 0.6399\n",
            "epoch 115:acc 0.6847, nmi 0.4151, ari 0.4397, f1 0.6396\n",
            "epoch 120:acc 0.6847, nmi 0.4152, ari 0.4397, f1 0.6395\n",
            "epoch 125:acc 0.6847, nmi 0.4153, ari 0.4399, f1 0.6394\n",
            "epoch 130:acc 0.6850, nmi 0.4158, ari 0.4404, f1 0.6397\n",
            "epoch 135:acc 0.6847, nmi 0.4150, ari 0.4398, f1 0.6394\n",
            "epoch 140:acc 0.6850, nmi 0.4152, ari 0.4400, f1 0.6401\n",
            "epoch 145:acc 0.6850, nmi 0.4154, ari 0.4403, f1 0.6400\n",
            "epoch 150:acc 0.6850, nmi 0.4154, ari 0.4403, f1 0.6400\n",
            "epoch 155:acc 0.6850, nmi 0.4154, ari 0.4403, f1 0.6400\n",
            "epoch 160:acc 0.6850, nmi 0.4154, ari 0.4403, f1 0.6400\n",
            "epoch 165:acc 0.6850, nmi 0.4154, ari 0.4403, f1 0.6400\n",
            "epoch 170:acc 0.6850, nmi 0.4154, ari 0.4403, f1 0.6400\n",
            "epoch 175:acc 0.6850, nmi 0.4154, ari 0.4403, f1 0.6400\n",
            "epoch 180:acc 0.6850, nmi 0.4154, ari 0.4403, f1 0.6400\n",
            "epoch 185:acc 0.6850, nmi 0.4154, ari 0.4403, f1 0.6400\n",
            "epoch 190:acc 0.6850, nmi 0.4154, ari 0.4403, f1 0.6400\n",
            "epoch 195:acc 0.6850, nmi 0.4154, ari 0.4403, f1 0.6400\n"
          ],
          "name": "stdout"
        }
      ]
    },
    {
      "cell_type": "markdown",
      "metadata": {
        "id": "wfiw1Ok7cVYI"
      },
      "source": [
        "### Pubmed"
      ]
    },
    {
      "cell_type": "code",
      "metadata": {
        "id": "tI7aj6scR_IY"
      },
      "source": [
        "%%bash\n",
        "cd /content/DAEGC/DAEGC\n",
        "python3 daegc.py --update_interval 5 --name PubMed --epoch 25 --max_epoch 200"
      ],
      "execution_count": null,
      "outputs": []
    }
  ]
}
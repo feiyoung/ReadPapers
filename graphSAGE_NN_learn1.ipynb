{
  "nbformat": 4,
  "nbformat_minor": 0,
  "metadata": {
    "colab": {
      "provenance": [],
      "gpuType": "T4",
      "authorship_tag": "ABX9TyO4X37x0ctpTaf6NL4ofvAd",
      "include_colab_link": true
    },
    "kernelspec": {
      "name": "python3",
      "display_name": "Python 3"
    },
    "language_info": {
      "name": "python"
    },
    "accelerator": "GPU"
  },
  "cells": [
    {
      "cell_type": "markdown",
      "metadata": {
        "id": "view-in-github",
        "colab_type": "text"
      },
      "source": [
        "<a href=\"https://colab.research.google.com/github/feiyoung/ReadPapers/blob/master/graphSAGE_NN_learn1.ipynb\" target=\"_parent\"><img src=\"https://colab.research.google.com/assets/colab-badge.svg\" alt=\"Open In Colab\"/></a>"
      ]
    },
    {
      "cell_type": "code",
      "execution_count": 2,
      "metadata": {
        "colab": {
          "base_uri": "https://localhost:8080/"
        },
        "id": "DkTABrBHmAKK",
        "outputId": "8be8b748-7a6e-4d9e-d44f-b28b6a42eea9"
      },
      "outputs": [
        {
          "output_type": "stream",
          "name": "stdout",
          "text": [
            "Collecting dgl\n",
            "  Downloading dgl-1.1.3-cp310-cp310-manylinux1_x86_64.whl (6.5 MB)\n",
            "\u001b[2K     \u001b[90m━━━━━━━━━━━━━━━━━━━━━━━━━━━━━━━━━━━━━━━━\u001b[0m \u001b[32m6.5/6.5 MB\u001b[0m \u001b[31m19.5 MB/s\u001b[0m eta \u001b[36m0:00:00\u001b[0m\n",
            "\u001b[?25hRequirement already satisfied: numpy>=1.14.0 in /usr/local/lib/python3.10/dist-packages (from dgl) (1.23.5)\n",
            "Requirement already satisfied: scipy>=1.1.0 in /usr/local/lib/python3.10/dist-packages (from dgl) (1.11.4)\n",
            "Requirement already satisfied: networkx>=2.1 in /usr/local/lib/python3.10/dist-packages (from dgl) (3.2.1)\n",
            "Requirement already satisfied: requests>=2.19.0 in /usr/local/lib/python3.10/dist-packages (from dgl) (2.31.0)\n",
            "Requirement already satisfied: tqdm in /usr/local/lib/python3.10/dist-packages (from dgl) (4.66.1)\n",
            "Requirement already satisfied: psutil>=5.8.0 in /usr/local/lib/python3.10/dist-packages (from dgl) (5.9.5)\n",
            "Requirement already satisfied: charset-normalizer<4,>=2 in /usr/local/lib/python3.10/dist-packages (from requests>=2.19.0->dgl) (3.3.2)\n",
            "Requirement already satisfied: idna<4,>=2.5 in /usr/local/lib/python3.10/dist-packages (from requests>=2.19.0->dgl) (3.6)\n",
            "Requirement already satisfied: urllib3<3,>=1.21.1 in /usr/local/lib/python3.10/dist-packages (from requests>=2.19.0->dgl) (2.0.7)\n",
            "Requirement already satisfied: certifi>=2017.4.17 in /usr/local/lib/python3.10/dist-packages (from requests>=2.19.0->dgl) (2023.11.17)\n",
            "Installing collected packages: dgl\n",
            "Successfully installed dgl-1.1.3\n"
          ]
        }
      ],
      "source": [
        "!pip install dgl"
      ]
    },
    {
      "cell_type": "markdown",
      "source": [
        "## 1. A GraphSAGE graph neural network example for homogenious Graph's node classification"
      ],
      "metadata": {
        "id": "FuXVLOeXnXik"
      }
    },
    {
      "cell_type": "code",
      "source": [
        "import dgl\n",
        "\n",
        "dataset = dgl.data.CiteseerGraphDataset() ## get the Citerseer dataset\n",
        "graph = dataset[0]\n",
        "print(graph)"
      ],
      "metadata": {
        "colab": {
          "base_uri": "https://localhost:8080/"
        },
        "id": "AmnrcBkOmNbs",
        "outputId": "8814751a-d440-4df6-b1b6-d785ae196fea"
      },
      "execution_count": 3,
      "outputs": [
        {
          "output_type": "stream",
          "name": "stderr",
          "text": [
            "DGL backend not selected or invalid.  Assuming PyTorch for now.\n"
          ]
        },
        {
          "output_type": "stream",
          "name": "stdout",
          "text": [
            "Setting the default backend to \"pytorch\". You can change it in the ~/.dgl/config.json file or export the DGLBACKEND environment variable.  Valid options are: pytorch, mxnet, tensorflow (all lowercase)\n",
            "Downloading /root/.dgl/citeseer.zip from https://data.dgl.ai/dataset/citeseer.zip...\n",
            "Extracting file to /root/.dgl/citeseer_d6836239\n",
            "Finished data loading and preprocessing.\n",
            "  NumNodes: 3327\n",
            "  NumEdges: 9228\n",
            "  NumFeats: 3703\n",
            "  NumClasses: 6\n",
            "  NumTrainingSamples: 120\n",
            "  NumValidationSamples: 500\n",
            "  NumTestSamples: 1000\n",
            "Done saving data into cached files.\n",
            "Graph(num_nodes=3327, num_edges=9228,\n",
            "      ndata_schemes={'train_mask': Scheme(shape=(), dtype=torch.bool), 'val_mask': Scheme(shape=(), dtype=torch.bool), 'test_mask': Scheme(shape=(), dtype=torch.bool), 'label': Scheme(shape=(), dtype=torch.int64), 'feat': Scheme(shape=(3703,), dtype=torch.float32)}\n",
            "      edata_schemes={})\n"
          ]
        }
      ]
    },
    {
      "cell_type": "code",
      "source": [
        "print(type(graph))"
      ],
      "metadata": {
        "colab": {
          "base_uri": "https://localhost:8080/"
        },
        "id": "zKG-2kw7gJyU",
        "outputId": "de976e6c-062c-4ab4-a180-aaae25f8f9e5"
      },
      "execution_count": 4,
      "outputs": [
        {
          "output_type": "stream",
          "name": "stdout",
          "text": [
            "<class 'dgl.heterograph.DGLGraph'>\n"
          ]
        }
      ]
    },
    {
      "cell_type": "code",
      "source": [
        "# 构建一个2层的GNN模型\n",
        "import dgl.nn as dglnn\n",
        "import torch.nn as nn\n",
        "import torch.nn.functional as F\n",
        "class SAGE(nn.Module):\n",
        "    def __init__(self, in_feats, hid_feats, out_feats):\n",
        "        super().__init__()\n",
        "        # 实例化SAGEConve，in_feats是输入特征的维度，out_feats是输出特征的维度，aggregator_type是聚合函数的类型\n",
        "        self.conv1 = dglnn.SAGEConv(\n",
        "            in_feats=in_feats, out_feats=hid_feats, aggregator_type='mean')\n",
        "        self.conv2 = dglnn.SAGEConv(\n",
        "            in_feats=hid_feats, out_feats=out_feats, aggregator_type='mean')\n",
        "\n",
        "    def forward(self, graph, inputs):\n",
        "        # 输入是节点的特征\n",
        "        h = self.conv1(graph, inputs)\n",
        "        h = F.relu(h)\n",
        "        h = self.conv2(graph, h)\n",
        "        return h"
      ],
      "metadata": {
        "id": "96xcdr1SmU83"
      },
      "execution_count": 5,
      "outputs": []
    },
    {
      "cell_type": "code",
      "source": [
        "node_features = graph.ndata['feat']\n",
        "node_labels = graph.ndata['label']\n",
        "train_mask = graph.ndata['train_mask']\n",
        "valid_mask = graph.ndata['val_mask']\n",
        "test_mask = graph.ndata['test_mask']\n",
        "n_features = node_features.shape[1]\n",
        "n_labels = int(node_labels.max().item() + 1)"
      ],
      "metadata": {
        "id": "wfHXITxTmXnw"
      },
      "execution_count": 6,
      "outputs": []
    },
    {
      "cell_type": "code",
      "source": [
        "def evaluate(model, graph, features, labels, mask):\n",
        "    model.eval() # Sets the model to evaluation mode. In PyTorch, this is important because it disables operations like dropout,\n",
        "    # which are usually active during training but should be turned off during evaluation.\n",
        "    # This context manager ensures that during the following block of code, PyTorch won't track operations for gradient computation.\n",
        "    # This is done for efficiency during evaluation since gradients are not needed.\n",
        "    with torch.no_grad():\n",
        "        logits = model(graph, features)\n",
        "        logits = logits[mask]\n",
        "        labels = labels[mask]\n",
        "        _, indices = torch.max(logits, dim=1)\n",
        "        correct = torch.sum(indices == labels)\n",
        "        return correct.item() * 1.0 / len(labels)"
      ],
      "metadata": {
        "id": "wKRkirqnmZmJ"
      },
      "execution_count": 7,
      "outputs": []
    },
    {
      "cell_type": "code",
      "source": [
        "import torch\n",
        "model = SAGE(in_feats=n_features, hid_feats=100, out_feats=n_labels)\n",
        "opt = torch.optim.Adam(model.parameters())\n",
        "\n",
        "for epoch in range(20): ## For showing example, we set 20; user can set 300 for better performance\n",
        "  # Puts the model in training mode. This is necessary because some layers,\n",
        "  # like dropout or batch normalization, behave differently during training compared to evaluation.\n",
        "    model.train() # set model to training mode: compute the grad autoly for parameters\n",
        "    # 使用所有节点(全图)进行前向传播计算\n",
        "    logits = model(graph, node_features)\n",
        "    # 计算损失值\n",
        "    loss = F.cross_entropy(logits[train_mask], node_labels[train_mask])\n",
        "    # 计算验证集的准确度\n",
        "    acc = evaluate(model, graph, node_features, node_labels, valid_mask)\n",
        "    # 进行反向传播计算\n",
        "    # Clears the gradients of all optimized tensors. This is necessary before computing the gradients for the next minibatch.\n",
        "    opt.zero_grad()\n",
        "    # Backward pass to compute the gradients of the loss with respect to the model parameters.\n",
        "    loss.backward()\n",
        "    # Updates the model parameters based on the computed gradients using the optimization algorithm (assumed to be stored in the opt variable).\n",
        "    opt.step()\n",
        "    # Prints the value of the training loss for the current epoch.\n",
        "    if(epoch % 50 ==0):\n",
        "      print(loss.item())\n",
        "\n",
        "    # 如果需要的话，保存训练好的模型。本例中省略。\n"
      ],
      "metadata": {
        "id": "dEXhFRPdmb3g",
        "colab": {
          "base_uri": "https://localhost:8080/"
        },
        "outputId": "9302bd5f-4741-4d11-b05d-e754e150f9d8"
      },
      "execution_count": 8,
      "outputs": [
        {
          "output_type": "stream",
          "name": "stdout",
          "text": [
            "1.7959935665130615\n"
          ]
        }
      ]
    },
    {
      "cell_type": "code",
      "source": [
        "print(loss) #\n",
        "print(loss.item())\n",
        "print(evaluate(model, graph, node_features, node_labels, valid_mask))\n"
      ],
      "metadata": {
        "id": "XBZNGm0UmiYK",
        "colab": {
          "base_uri": "https://localhost:8080/"
        },
        "outputId": "1aed5de0-6774-402c-d41a-a3d196c167ba"
      },
      "execution_count": 9,
      "outputs": [
        {
          "output_type": "stream",
          "name": "stdout",
          "text": [
            "tensor(1.4707, grad_fn=<NllLossBackward0>)\n",
            "1.4707082509994507\n",
            "0.574\n"
          ]
        }
      ]
    },
    {
      "cell_type": "code",
      "source": [
        "## Test\n",
        "evaluate(model, graph, node_features, node_labels, test_mask)"
      ],
      "metadata": {
        "id": "uksx1PuvmpUg",
        "colab": {
          "base_uri": "https://localhost:8080/"
        },
        "outputId": "98c14c58-5902-48c8-e380-5ef9d31afa49"
      },
      "execution_count": 10,
      "outputs": [
        {
          "output_type": "execute_result",
          "data": {
            "text/plain": [
              "0.549"
            ]
          },
          "metadata": {},
          "execution_count": 10
        }
      ]
    },
    {
      "cell_type": "markdown",
      "source": [
        "Note: some problems:\n",
        "(1) how to increase the stacked layers with multiple SAGEConv layers\n",
        "(2) how to obtain the node embedding after training?\n",
        "(3) Add the output information for the loss on testing data\n"
      ],
      "metadata": {
        "id": "VVRJUmdlqhXO"
      }
    },
    {
      "cell_type": "markdown",
      "source": [
        "## 1.1 Increase stacked layers by designing new"
      ],
      "metadata": {
        "id": "dZ0R4CF5rC1l"
      }
    },
    {
      "cell_type": "markdown",
      "source": [
        "Note: some problems:\n",
        "(1) how to increase the stacked layers with multiple SAGEConv layers\n",
        "(2) how to obtain the node embedding after training?\n",
        "(3) Add the output information for the loss on testing data\n"
      ],
      "metadata": {
        "id": "wyw_jugJ0Fax"
      }
    },
    {
      "cell_type": "code",
      "source": [
        "class gnn_me(nn.Module):\n",
        "  def __init__(self, in_feats, hid_feats, out_feats, n_layers):\n",
        "    super().__init__()\n",
        "    self.n_layers = n_layers # The layers of NN\n",
        "    self.layers = nn.ModuleList()\n",
        "    self.layers.append(SAGE(in_feats=in_feats, out_feats=hid_feats, hid_feats=hid_feats))\n",
        "    ## Append layers\n",
        "    for _ in range(n_layers - 1): # Set the last n-1 layers, hide layers use the same number of nerons: n_hidden\n",
        "            self.layers.append(SAGE(in_feats=hid_feats, out_feats=hid_feats, hid_feats=hid_feats))\n",
        "    self.linear = nn.Linear(hid_feats, out_feats)\n",
        "  def forward(self, graph, inputs):\n",
        "        # 输入是节点的特征\n",
        "        h = inputs\n",
        "        for i, layer in enumerate(self.layers):\n",
        "          h = self.layers[i].forward(graph, h)\n",
        "        h = self.linear(h)\n",
        "        return h\n",
        "  def get_node_embed(self, graph, inputs):\n",
        "        # 输入是节点的特征\n",
        "        h = inputs\n",
        "        for i, layer in enumerate(self.layers):\n",
        "          h = self.layers[i].forward(graph, h)\n",
        "        return h"
      ],
      "metadata": {
        "id": "IBi5uEDarB_8"
      },
      "execution_count": 21,
      "outputs": []
    },
    {
      "cell_type": "code",
      "source": [
        "import torch\n",
        "model = gnn_me(in_feats=n_features, hid_feats=100, out_feats=n_labels, n_layers=2)\n",
        "opt = torch.optim.Adam(model.parameters())\n",
        "\n",
        "for epoch in range(20): ## For showing example, we set 20; user can set 300 for better performance\n",
        "  # Puts the model in training mode. This is necessary because some layers,\n",
        "  # like dropout or batch normalization, behave differently during training compared to evaluation.\n",
        "    model.train() # set model to training mode: compute the grad autoly for parameters\n",
        "    # 使用所有节点(全图)进行前向传播计算\n",
        "    logits = model(graph, node_features)\n",
        "    # 计算损失值\n",
        "    loss = F.cross_entropy(logits[train_mask], node_labels[train_mask])\n",
        "    # 计算验证集的准确度\n",
        "    acc = evaluate(model, graph, node_features, node_labels, valid_mask)\n",
        "    # 进行反向传播计算\n",
        "    # Clears the gradients of all optimized tensors. This is necessary before computing the gradients for the next minibatch.\n",
        "    opt.zero_grad()\n",
        "    # Backward pass to compute the gradients of the loss with respect to the model parameters.\n",
        "    loss.backward()\n",
        "    # Updates the model parameters based on the computed gradients using the optimization algorithm (assumed to be stored in the opt variable).\n",
        "    opt.step()\n",
        "    # Prints the value of the training loss for the current epoch.\n",
        "    if(epoch % 10 ==0):\n",
        "      print(loss.item())\n",
        "\n",
        "    # 如果需要的话，保存训练好的模型。本例中省略。\n"
      ],
      "metadata": {
        "colab": {
          "base_uri": "https://localhost:8080/"
        },
        "id": "Y45orH-SfMx5",
        "outputId": "cdcd254d-fd74-4685-925c-be597c41e96a"
      },
      "execution_count": 22,
      "outputs": [
        {
          "output_type": "stream",
          "name": "stdout",
          "text": [
            "1.803070068359375\n",
            "1.4888160228729248\n"
          ]
        }
      ]
    },
    {
      "cell_type": "code",
      "source": [
        "print(loss) #\n",
        "print(loss.item())\n",
        "print(evaluate(model, graph, node_features, node_labels, valid_mask))"
      ],
      "metadata": {
        "colab": {
          "base_uri": "https://localhost:8080/"
        },
        "id": "zLRmKuOpfkKV",
        "outputId": "e372cdae-7a7b-4b94-9e64-61c86c882f10"
      },
      "execution_count": 13,
      "outputs": [
        {
          "output_type": "stream",
          "name": "stdout",
          "text": [
            "tensor(0.0001, grad_fn=<NllLossBackward0>)\n",
            "0.00010966437548631802\n",
            "0.646\n"
          ]
        }
      ]
    },
    {
      "cell_type": "code",
      "source": [
        "##\n",
        "evaluate(model, graph, node_features, node_labels, test_mask)"
      ],
      "metadata": {
        "colab": {
          "base_uri": "https://localhost:8080/"
        },
        "id": "2f4rFq44fqKn",
        "outputId": "c521d15d-cd0e-42a2-a9a6-528f814d9ddb"
      },
      "execution_count": 15,
      "outputs": [
        {
          "output_type": "execute_result",
          "data": {
            "text/plain": [
              "0.624"
            ]
          },
          "metadata": {},
          "execution_count": 15
        }
      ]
    },
    {
      "cell_type": "code",
      "source": [
        "print(graph.ntypes)"
      ],
      "metadata": {
        "colab": {
          "base_uri": "https://localhost:8080/"
        },
        "id": "DqCIinsYj18l",
        "outputId": "042ce03f-2583-40ff-9ebd-f6692fed17fc"
      },
      "execution_count": 30,
      "outputs": [
        {
          "output_type": "stream",
          "name": "stdout",
          "text": [
            "['_N']\n"
          ]
        }
      ]
    },
    {
      "cell_type": "markdown",
      "source": [
        "## 1.2 Get the node embedding after training\n"
      ],
      "metadata": {
        "id": "v9Xf8HGK0QHW"
      }
    },
    {
      "cell_type": "code",
      "source": [
        "## We only add an attribute function in gnn_me class: get_node_embed()\n",
        "model(graph, node_features).shape"
      ],
      "metadata": {
        "colab": {
          "base_uri": "https://localhost:8080/"
        },
        "id": "6gghtoPd0U1h",
        "outputId": "c4684e4f-47d2-4721-e4c8-51edac181d51"
      },
      "execution_count": 17,
      "outputs": [
        {
          "output_type": "execute_result",
          "data": {
            "text/plain": [
              "torch.Size([3327, 6])"
            ]
          },
          "metadata": {},
          "execution_count": 17
        }
      ]
    },
    {
      "cell_type": "code",
      "source": [
        "model.get_node_embed(graph, node_features).shape"
      ],
      "metadata": {
        "colab": {
          "base_uri": "https://localhost:8080/"
        },
        "id": "NtTCsPnl02Fx",
        "outputId": "9b6dc910-80c5-41a8-fdf1-0498a8183f2e"
      },
      "execution_count": 24,
      "outputs": [
        {
          "output_type": "execute_result",
          "data": {
            "text/plain": [
              "torch.Size([3327, 100])"
            ]
          },
          "metadata": {},
          "execution_count": 24
        }
      ]
    },
    {
      "cell_type": "markdown",
      "source": [
        "## 1.3 Add the output information for the loss on testing data"
      ],
      "metadata": {
        "id": "a14TQvms2UoR"
      }
    },
    {
      "cell_type": "code",
      "source": [
        "import torch\n",
        "seed = 2024 # set random seed to ensure reproducible\n",
        "torch.manual_seed(seed)\n",
        "# If using GPU, set random seed for GPU as well\n",
        "if torch.cuda.is_available():\n",
        "    torch.cuda.manual_seed(seed)\n",
        "    torch.cuda.manual_seed_all(seed)\n",
        "model = gnn_me(in_feats=n_features, hid_feats=100, out_feats=n_labels, n_layers=2)\n",
        "opt = torch.optim.Adam(model.parameters())\n",
        "\n",
        "for epoch in range(20): ## For showing example, we set 20; user can set 300 for better performance\n",
        "  # Puts the model in training mode. This is necessary because some layers,\n",
        "  # like dropout or batch normalization, behave differently during training compared to evaluation.\n",
        "    model.train() # set model to training mode: compute the grad autoly for parameters\n",
        "    # 使用所有节点(全图)进行前向传播计算\n",
        "    logits = model(graph, node_features)\n",
        "    # 计算损失值\n",
        "    loss = F.cross_entropy(logits[train_mask], node_labels[train_mask])\n",
        "    # 计算验证集的准确度\n",
        "    acc = evaluate(model, graph, node_features, node_labels, valid_mask)\n",
        "    # 计算测试集的准确度\n",
        "    acc_test = evaluate(model, graph, node_features, node_labels, test_mask)\n",
        "    # 进行反向传播计算\n",
        "    # Clears the gradients of all optimized tensors. This is necessary before computing the gradients for the next minibatch.\n",
        "    opt.zero_grad()\n",
        "    # Backward pass to compute the gradients of the loss with respect to the model parameters.\n",
        "    loss.backward()\n",
        "    # Updates the model parameters based on the computed gradients using the optimization algorithm (assumed to be stored in the opt variable).\n",
        "    opt.step()\n",
        "    # Prints the value of the training loss for the current epoch.\n",
        "    if(epoch % 10 ==0):\n",
        "      print(f'training loss is: {loss.item(): .3f}, ', f'validation accuracy is: {acc: .2f}, ', f'testing accuracy is: {acc_test: .2f}')\n",
        "\n",
        "    # 如果需要的话，保存训练好的模型。本例中省略。\n"
      ],
      "metadata": {
        "id": "HPLg4His2guP",
        "outputId": "635c253d-3626-456c-8264-6f5a5c7aaea4",
        "colab": {
          "base_uri": "https://localhost:8080/"
        }
      },
      "execution_count": 31,
      "outputs": [
        {
          "output_type": "stream",
          "name": "stdout",
          "text": [
            "training loss is:  1.800,  validation accuracy is:  0.13,  testing accuracy is:  0.16\n",
            "training loss is:  1.518,  validation accuracy is:  0.55,  testing accuracy is:  0.54\n"
          ]
        }
      ]
    },
    {
      "cell_type": "markdown",
      "source": [
        "## 1.1.1 Create graph from external sources\n"
      ],
      "metadata": {
        "id": "eAJfPrJChQZI"
      }
    },
    {
      "cell_type": "code",
      "source": [
        "import dgl\n",
        "import torch as th\n",
        "import scipy.sparse as sp\n",
        "spmat = sp.rand(100, 100, density=0.05) # 5%非零项\n",
        "g2 = dgl.from_scipy(spmat)\n",
        "print(g2)\n",
        "print(type(g2))\n",
        "print(g2.ntypes) # output is ['_N']：it is a homo graph"
      ],
      "metadata": {
        "colab": {
          "base_uri": "https://localhost:8080/"
        },
        "id": "TjakLRAzfqqt",
        "outputId": "8ddc1243-d3bb-4d06-90ed-60573a322785"
      },
      "execution_count": 29,
      "outputs": [
        {
          "output_type": "stream",
          "name": "stdout",
          "text": [
            "Graph(num_nodes=100, num_edges=500,\n",
            "      ndata_schemes={}\n",
            "      edata_schemes={})\n",
            "<class 'dgl.heterograph.DGLGraph'>\n",
            "['_N']\n"
          ]
        }
      ]
    },
    {
      "cell_type": "code",
      "source": [
        "print(sp.rand(10, 10, density=0.05))\n",
        "g2.ndata"
      ],
      "metadata": {
        "colab": {
          "base_uri": "https://localhost:8080/"
        },
        "id": "mRXgIieKkM_f",
        "outputId": "df59cd8c-893a-41d8-918b-0b308b705a92"
      },
      "execution_count": 32,
      "outputs": [
        {
          "output_type": "stream",
          "name": "stdout",
          "text": [
            "  (9, 7)\t0.11506039163704085\n",
            "  (3, 1)\t0.2061782611085241\n",
            "  (8, 2)\t0.009909055485174179\n",
            "  (2, 3)\t0.010557253855524196\n",
            "  (0, 9)\t0.6131552035770037\n"
          ]
        },
        {
          "output_type": "execute_result",
          "data": {
            "text/plain": [
              "{}"
            ]
          },
          "metadata": {},
          "execution_count": 32
        }
      ]
    },
    {
      "cell_type": "markdown",
      "source": [
        "### Problem: how to create the heter graph from sparse matrix and add edge features"
      ],
      "metadata": {
        "id": "yHNEizVqk1dk"
      }
    },
    {
      "cell_type": "code",
      "source": [
        "import dgl\n",
        "import torch as th\n",
        "\n",
        "# 创建一个具有3种节点类型和3种边类型的异构图\n",
        "graph_data = {\n",
        "   ('drug', 'interacts', 'drug'): (th.tensor([0, 1]), th.tensor([1, 2])),\n",
        "   ('drug', 'interacts', 'gene'): (th.tensor([0, 1]), th.tensor([2, 3])),\n",
        "   ('drug', 'treats', 'disease'): (th.tensor([1]), th.tensor([2]))\n",
        "}\n",
        "g = dgl.heterograph(graph_data)\n",
        "print(g.ntypes) # it is heter. graph\n",
        "print(type(g))"
      ],
      "metadata": {
        "colab": {
          "base_uri": "https://localhost:8080/"
        },
        "id": "yVrYreM7hgPk",
        "outputId": "dcba3192-31c9-4bfa-f6ab-11cab03263df"
      },
      "execution_count": 28,
      "outputs": [
        {
          "output_type": "stream",
          "name": "stdout",
          "text": [
            "['disease', 'drug', 'gene']\n",
            "<class 'dgl.heterograph.DGLGraph'>\n"
          ]
        }
      ]
    },
    {
      "cell_type": "markdown",
      "source": [
        "## 1.4 How to achieve cell annotation using scRNA-seq data by following scDeepSort"
      ],
      "metadata": {
        "id": "uu0wrXR-5rKP"
      }
    },
    {
      "cell_type": "code",
      "source": [
        "## Load data\n",
        "import requests\n",
        "import gzip\n",
        "from io import BytesIO\n",
        "\n",
        "# GitHub raw file URL\n",
        "github_raw_url = 'https://github.com/ZJUFanLab/scDeepSort/raw/master/test/mouse/mouse_Testis199_data.gz'\n",
        "\n",
        "# Download the compressed file\n",
        "response = requests.get(github_raw_url)\n",
        "\n",
        "# Check if the request was successful\n",
        "if response.status_code == 200:\n",
        "    # Decompress the content\n",
        "    compressed_data = BytesIO(response.content)\n",
        "    with gzip.GzipFile(fileobj=compressed_data, mode='rb') as f:\n",
        "        decompressed_content = f.read()\n",
        "\n",
        "    # Now you can work with the decompressed content\n",
        "    print(decompressed_content.decode('utf-8'))\n",
        "else:\n",
        "    print(f\"Failed to download file. Status code: {response.status_code}\")\n"
      ],
      "metadata": {
        "colab": {
          "base_uri": "https://localhost:8080/"
        },
        "id": "yxV75ZGsjkBt",
        "outputId": "fc66b740-e4c6-4e30-8e94-0ab10b6e353e"
      },
      "execution_count": 32,
      "outputs": [
        {
          "output_type": "stream",
          "name": "stderr",
          "text": [
            "IOPub data rate exceeded.\n",
            "The notebook server will temporarily stop sending output\n",
            "to the client in order to avoid crashing it.\n",
            "To change this limit, set the config variable\n",
            "`--NotebookApp.iopub_data_rate_limit`.\n",
            "\n",
            "Current values:\n",
            "NotebookApp.iopub_data_rate_limit=1000000.0 (bytes/sec)\n",
            "NotebookApp.rate_limit_window=3.0 (secs)\n",
            "\n"
          ]
        }
      ]
    },
    {
      "cell_type": "code",
      "source": [
        "type(decompressed_content)"
      ],
      "metadata": {
        "id": "F11UkpE4990Y",
        "outputId": "6e04facd-80ce-4aa8-d104-139aef03b87a",
        "colab": {
          "base_uri": "https://localhost:8080/"
        }
      },
      "execution_count": 52,
      "outputs": [
        {
          "output_type": "execute_result",
          "data": {
            "text/plain": [
              "bytes"
            ]
          },
          "metadata": {},
          "execution_count": 52
        }
      ]
    },
    {
      "cell_type": "code",
      "source": [
        "## Load data\n",
        "import requests\n",
        "import gzip\n",
        "from io import BytesIO\n",
        "import numpy as np\n",
        "from scipy.sparse import csr_matrix\n",
        "\n",
        "# GitHub raw file URL\n",
        "github_raw_url = 'https://github.com/ZJUFanLab/scDeepSort/raw/master/test/mouse/mouse_Testis199_data.gz'\n",
        "\n",
        "# Download the compressed file\n",
        "response = requests.get(github_raw_url)\n",
        "# Check if the request was successful\n",
        "if response.status_code == 200:\n",
        "    # Decompress the content\n",
        "    compressed_data = BytesIO(response.content)\n",
        "    with gzip.GzipFile(fileobj=compressed_data, mode='rb') as f:\n",
        "        # Read the decompressed content as a numerical matrix with row and column names\n",
        "        data = np.genfromtxt(f, delimiter='\\t', dtype=None, names=None, encoding=None)\n",
        "else:\n",
        "    print(f\"Failed to download file. Status code: {response.status_code}\")"
      ],
      "metadata": {
        "id": "eJTOUygN7nF4"
      },
      "execution_count": 84,
      "outputs": []
    },
    {
      "cell_type": "code",
      "source": [
        "print(type(data))\n",
        "data.shape\n",
        "print(data)\n"
      ],
      "metadata": {
        "id": "9ogHcjBQ8xMI",
        "outputId": "568cd73c-7161-4c8a-a547-ad485d4fd844",
        "colab": {
          "base_uri": "https://localhost:8080/"
        }
      },
      "execution_count": 85,
      "outputs": [
        {
          "output_type": "stream",
          "name": "stdout",
          "text": [
            "<class 'numpy.ndarray'>\n",
            "['\"\",\"C_1\",\"C_2\",\"C_3\",\"C_4\",\"C_5\",\"C_6\",\"C_7\",\"C_8\",\"C_9\",\"C_10\",\"C_11\",\"C_12\",\"C_13\",\"C_14\",\"C_15\",\"C_16\",\"C_17\",\"C_18\",\"C_19\",\"C_20\",\"C_21\",\"C_22\",\"C_23\",\"C_24\",\"C_25\",\"C_26\",\"C_27\",\"C_28\",\"C_29\",\"C_30\",\"C_31\",\"C_32\",\"C_33\",\"C_34\",\"C_35\",\"C_36\",\"C_37\",\"C_38\",\"C_39\",\"C_40\",\"C_41\",\"C_42\",\"C_43\",\"C_44\",\"C_45\",\"C_46\",\"C_47\",\"C_48\",\"C_49\",\"C_50\",\"C_51\",\"C_52\",\"C_53\",\"C_54\",\"C_55\",\"C_56\",\"C_57\",\"C_58\",\"C_59\",\"C_60\",\"C_61\",\"C_62\",\"C_63\",\"C_64\",\"C_65\",\"C_66\",\"C_67\",\"C_68\",\"C_69\",\"C_70\",\"C_71\",\"C_72\",\"C_73\",\"C_74\",\"C_75\",\"C_76\",\"C_77\",\"C_78\",\"C_79\",\"C_80\",\"C_81\",\"C_82\",\"C_83\",\"C_84\",\"C_85\",\"C_86\",\"C_87\",\"C_88\",\"C_89\",\"C_90\",\"C_91\",\"C_92\",\"C_93\",\"C_94\",\"C_95\",\"C_96\",\"C_97\",\"C_98\",\"C_99\",\"C_100\",\"C_101\",\"C_102\",\"C_103\",\"C_104\",\"C_105\",\"C_106\",\"C_107\",\"C_108\",\"C_109\",\"C_110\",\"C_111\",\"C_112\",\"C_113\",\"C_114\",\"C_115\",\"C_116\",\"C_117\",\"C_118\",\"C_119\",\"C_120\",\"C_121\",\"C_122\",\"C_123\",\"C_124\",\"C_125\",\"C_126\",\"C_127\",\"C_128\",\"C_129\",\"C_130\",\"C_131\",\"C_132\",\"C_133\",\"C_134\",\"C_135\",\"C_136\",\"C_137\",\"C_138\",\"C_139\",\"C_140\",\"C_141\",\"C_142\",\"C_143\",\"C_144\",\"C_145\",\"C_146\",\"C_147\",\"C_148\",\"C_149\",\"C_150\",\"C_151\",\"C_152\",\"C_153\",\"C_154\",\"C_155\",\"C_156\",\"C_157\",\"C_158\",\"C_159\",\"C_160\",\"C_161\",\"C_162\",\"C_163\",\"C_164\",\"C_165\",\"C_166\",\"C_167\",\"C_168\",\"C_169\",\"C_170\",\"C_171\",\"C_172\",\"C_173\",\"C_174\",\"C_175\",\"C_176\",\"C_177\",\"C_178\",\"C_179\",\"C_180\",\"C_181\",\"C_182\",\"C_183\",\"C_184\",\"C_185\",\"C_186\",\"C_187\",\"C_188\",\"C_189\",\"C_190\",\"C_191\",\"C_192\",\"C_193\",\"C_194\",\"C_195\",\"C_196\",\"C_197\",\"C_198\",\"C_199\"'\n",
            " '\"0610009B22Rik\",0.593387713582016,1.06162810438859,0,2.62437183148919,0,2.01347435610029,0,1.95038058291025,0,2.10090958871987,0,0,0,0,0,0,0,0,0,0,0,0,0,0,0,0,2.71366819340643,0,0,3.58765993285183,3.35692607791887,0,0,0,0,0,0,0,0,0,0,0,0,0,0,0,0,0,0,0,0,0,0,0,0,0,0,0,0,0,0,0,0,0,0,0,0,0,0,0,0,3.37310698435427,0,0,0,0,0,0,0,0,0,0,0,0,0,0,0,0,0,0,0,0,0,0,0,0,0,0,3.5657017386646,0,4.21788332934208,0,0,0,0,0,0,0,0,0,0,0,0,0,0,0,0,0,0,0,0,0,0,0,0,0,0,0,0,0,0,0,0,0,0,0,0,0,0,0,0,0,0,0,0,0,0,0,0,0,0,4.32581158608494,0,0,0,0,0,0,0,0,0,0,0,0,3.61716549251262,0,0,0,0,0,0,0,0,0,0,0,0,0,0,0,0,0,0,0,0,0,0,0,0,0,0,3.68663959341219,0,0,0,0,0,0,0'\n",
            " '\"0610009L18Rik\",1.44466720250658,2.14760199418497,0,2.00120329370749,0,0,0,1.95038058291025,1.97563261671343,0,3.00294930775638,1.88788464500251,2.02252417882334,2.71366819340643,2.18487601909947,0,0,0,2.46802631430948,0,0,0,2.90532370541378,0,0,0,0,0,0,0,0,0,0,3.02753929531507,0,0,3.10965347218599,0,3.10760996773239,0,0,3.14937261910123,0,0,0,0,3.20213266357272,0,0,0,0,3.26291675365922,0,0,0,0,0,0,0,0,0,0,0,0,0,0,3.49495732377592,0,3.37856355483282,3.38957325346575,0,0,0,0,0,0,0,0,0,3.52966631275066,3.4584982354995,0,0,0,0,0,3.47959383902442,0,0,3.47959383902442,3.47959383902442,3.55243826312207,0,3.52325974693791,0,3.52007271671715,0,0,3.5657017386646,0,4.21788332934208,0,3.50743130219864,0,0,3.59969814120897,0,3.52325974693791,0,0,0,0,0,0,0,0,0,0,0,3.66414644146795,0,0,0,0,3.58254721551501,0,0,0,0,0,4.25482437710101,0,0,0,4.34439780968756,0,0,0,3.6278025780313,0,0,4.35193272760346,0,0,0,0,0,0,0,0,0,0,0,0,0,0,3.70967760165162,0,0,0,0,0,0,0,0,3.65309643433855,0,0,3.72931112856678,0,0,0,0,0,0,0,3.6828535830276,0,0,0,0,0,0,3.67532648770923,3.84293228179571,0,3.69044073468089,0,0,0,3.66785852774081,0,0,0,0,0,0,0,0'\n",
            " ...\n",
            " '\"Zfp607a\",0.593387713582016,0,0,0,0,0,0,0,0,0,0,0,0,0,0,0,0,0,0,0,0,0,0,0,0,0,0,0,0,0,0,0,0,0,0,0,0,0,0,0,0,0,0,0,0,0,0,0,0,0,0,0,0,0,0,0,0,0,0,0,0,0,0,0,0,0,0,0,0,0,0,0,0,0,0,0,0,0,0,0,0,0,0,0,0,0,0,0,0,0,0,0,0,0,0,0,0,0,0,0,0,0,0,0,0,0,0,0,0,0,0,0,0,0,0,0,0,0,0,0,0,0,0,0,0,0,0,0,0,0,0,0,0,0,0,0,0,0,0,0,0,0,0,0,0,0,0,0,0,0,0,0,0,0,0,0,0,0,0,0,0,0,0,0,0,0,0,0,0,0,0,0,0,0,0,0,0,0,0,0,0,0,0,0,0,0,0,0,0,0,0,0,0,0,0,0,0,0,0'\n",
            " '\"Zfp512b\",0,1.56488987236393,1.48165090626768,2.00120329370749,0,0,0,0,0,0,1.99899325293938,0,0,2.0847093326147,0,0,0,0,0,0,0,0,0,0,0,0,0,0,0,0,0,0,0,0,0,0,0,0,0,0,0,0,0,0,3.20666892143315,0,0,0,0,0,0,0,0,0,3.43495544623391,0,0,0,0,0,0,0,0,0,0,0,0,0,0,0,0,0,0,0,0,0,0,0,0,0,0,0,0,0,0,0,0,0,0,0,0,0,0,0,0,0,0,0,0,0,0,0,0,0,0,0,0,0,0,0,0,0,0,0,0,0,0,0,0,0,0,0,0,0,0,0,0,0,0,0,0,0,0,0,0,0,0,0,0,0,0,0,0,0,0,0,0,0,0,0,0,0,0,0,0,0,0,0,0,3.67158517253952,0,0,0,0,0,0,0,0,0,0,0,0,0,0,0,0,0,0,0,0,0,0,0,0,0,0,0,0,0,0,0,0,0,0,0,0,0,0,0'\n",
            " '\"Zup1\",0,2.14760199418497,0,0,0,0,0,0,1.97563261671343,0,0,1.88788464500251,2.02252417882334,0,0,0,0,0,0,0,2.69673702406138,0,0,0,0,0,0,0,2.91187796311713,0,0,0,0,0,0,0,0,0,0,0,0,0,0,0,0,0,0,0,0,0,0,0,0,0,0,0,0,0,0,0,0,0,0,0,0,0,0,0,0,0,0,0,0,0,0,0,0,0,0,0,0,0,0,0,0,0,0,0,0,0,0,0,0,0,0,0,0,0,0,0,0,0,0,0,0,0,0,0,0,0,0,0,0,0,0,0,0,0,0,0,0,0,0,0,0,0,0,0,0,0,0,0,0,0,0,0,0,0,0,0,0,0,0,0,0,0,0,0,0,0,0,0,3.67158517253952,0,0,0,0,0,0,0,0,0,0,0,0,0,0,0,0,0,0,0,3.72140909741159,0,0,0,0,0,0,0,0,0,0,0,0,0,0,0,0,0,0,0,0,0,0,0,0,0,0']\n"
          ]
        }
      ]
    },
    {
      "cell_type": "code",
      "source": [
        "## Prepare data for defining function\n",
        "data_tmp = data[1]\n",
        "tmp1 = data[1].split(',')\n",
        "gene_tmp = tmp1[0]\n",
        "gexp_tmp = tmp1[1:]\n",
        "print(gene_tmp)\n",
        "print(gexp_tmp)\n",
        "print(len(gexp_tmp))\n",
        "numerical_values = [float(value) for value in gexp_tmp]\n",
        "print(numerical_values)\n",
        "type(numerical_values)"
      ],
      "metadata": {
        "id": "dNAfuYHj_-NF",
        "outputId": "e9c2e945-e074-4ee4-cf34-2e30219892d8",
        "colab": {
          "base_uri": "https://localhost:8080/"
        }
      },
      "execution_count": 83,
      "outputs": [
        {
          "output_type": "stream",
          "name": "stdout",
          "text": [
            "\"0610009B22Rik\"\n",
            "['0.593387713582016', '1.06162810438859', '0', '2.62437183148919', '0', '2.01347435610029', '0', '1.95038058291025', '0', '2.10090958871987', '0', '0', '0', '0', '0', '0', '0', '0', '0', '0', '0', '0', '0', '0', '0', '0', '2.71366819340643', '0', '0', '3.58765993285183', '3.35692607791887', '0', '0', '0', '0', '0', '0', '0', '0', '0', '0', '0', '0', '0', '0', '0', '0', '0', '0', '0', '0', '0', '0', '0', '0', '0', '0', '0', '0', '0', '0', '0', '0', '0', '0', '0', '0', '0', '0', '0', '0', '3.37310698435427', '0', '0', '0', '0', '0', '0', '0', '0', '0', '0', '0', '0', '0', '0', '0', '0', '0', '0', '0', '0', '0', '0', '0', '0', '0', '0', '3.5657017386646', '0', '4.21788332934208', '0', '0', '0', '0', '0', '0', '0', '0', '0', '0', '0', '0', '0', '0', '0', '0', '0', '0', '0', '0', '0', '0', '0', '0', '0', '0', '0', '0', '0', '0', '0', '0', '0', '0', '0', '0', '0', '0', '0', '0', '0', '0', '0', '0', '0', '0', '0', '0', '0', '0', '4.32581158608494', '0', '0', '0', '0', '0', '0', '0', '0', '0', '0', '0', '0', '3.61716549251262', '0', '0', '0', '0', '0', '0', '0', '0', '0', '0', '0', '0', '0', '0', '0', '0', '0', '0', '0', '0', '0', '0', '0', '0', '0', '0', '3.68663959341219', '0', '0', '0', '0', '0', '0', '0']\n",
            "199\n",
            "[0.593387713582016, 1.06162810438859, 0.0, 2.62437183148919, 0.0, 2.01347435610029, 0.0, 1.95038058291025, 0.0, 2.10090958871987, 0.0, 0.0, 0.0, 0.0, 0.0, 0.0, 0.0, 0.0, 0.0, 0.0, 0.0, 0.0, 0.0, 0.0, 0.0, 0.0, 2.71366819340643, 0.0, 0.0, 3.58765993285183, 3.35692607791887, 0.0, 0.0, 0.0, 0.0, 0.0, 0.0, 0.0, 0.0, 0.0, 0.0, 0.0, 0.0, 0.0, 0.0, 0.0, 0.0, 0.0, 0.0, 0.0, 0.0, 0.0, 0.0, 0.0, 0.0, 0.0, 0.0, 0.0, 0.0, 0.0, 0.0, 0.0, 0.0, 0.0, 0.0, 0.0, 0.0, 0.0, 0.0, 0.0, 0.0, 3.37310698435427, 0.0, 0.0, 0.0, 0.0, 0.0, 0.0, 0.0, 0.0, 0.0, 0.0, 0.0, 0.0, 0.0, 0.0, 0.0, 0.0, 0.0, 0.0, 0.0, 0.0, 0.0, 0.0, 0.0, 0.0, 0.0, 0.0, 3.5657017386646, 0.0, 4.21788332934208, 0.0, 0.0, 0.0, 0.0, 0.0, 0.0, 0.0, 0.0, 0.0, 0.0, 0.0, 0.0, 0.0, 0.0, 0.0, 0.0, 0.0, 0.0, 0.0, 0.0, 0.0, 0.0, 0.0, 0.0, 0.0, 0.0, 0.0, 0.0, 0.0, 0.0, 0.0, 0.0, 0.0, 0.0, 0.0, 0.0, 0.0, 0.0, 0.0, 0.0, 0.0, 0.0, 0.0, 0.0, 0.0, 0.0, 0.0, 0.0, 0.0, 0.0, 4.32581158608494, 0.0, 0.0, 0.0, 0.0, 0.0, 0.0, 0.0, 0.0, 0.0, 0.0, 0.0, 0.0, 3.61716549251262, 0.0, 0.0, 0.0, 0.0, 0.0, 0.0, 0.0, 0.0, 0.0, 0.0, 0.0, 0.0, 0.0, 0.0, 0.0, 0.0, 0.0, 0.0, 0.0, 0.0, 0.0, 0.0, 0.0, 0.0, 0.0, 0.0, 3.68663959341219, 0.0, 0.0, 0.0, 0.0, 0.0, 0.0, 0.0]\n"
          ]
        },
        {
          "output_type": "execute_result",
          "data": {
            "text/plain": [
              "list"
            ]
          },
          "metadata": {},
          "execution_count": 83
        }
      ]
    },
    {
      "cell_type": "code",
      "source": [
        "## Define a function to tranfer all string to numerical values\n",
        "def myfunc(str_value):\n",
        "  tmp1 = str_value.split(',')\n",
        "  gene_tmp = tmp1[0].replace('\"', '')\n",
        "  gexp_tmp = tmp1[1:]\n",
        "  numerical_values = [float(value) for value in gexp_tmp]\n",
        "  return [gene_tmp, numerical_values]\n",
        "myfunc(data[1])[0]"
      ],
      "metadata": {
        "id": "N892iq8-Bcj3",
        "outputId": "81255a0a-cf49-4163-ca70-6d31d4cbba01",
        "colab": {
          "base_uri": "https://localhost:8080/",
          "height": 35
        }
      },
      "execution_count": 112,
      "outputs": [
        {
          "output_type": "execute_result",
          "data": {
            "text/plain": [
              "'0610009B22Rik'"
            ],
            "application/vnd.google.colaboratory.intrinsic+json": {
              "type": "string"
            }
          },
          "metadata": {},
          "execution_count": 112
        }
      ]
    },
    {
      "cell_type": "code",
      "source": [],
      "metadata": {
        "id": "vXqjrasoR_Bv",
        "outputId": "25664c12-3e80-474f-c15a-f7eef9821746",
        "colab": {
          "base_uri": "https://localhost:8080/",
          "height": 35
        }
      },
      "execution_count": 111,
      "outputs": [
        {
          "output_type": "execute_result",
          "data": {
            "text/plain": [
              "'0610009B22Rik'"
            ],
            "application/vnd.google.colaboratory.intrinsic+json": {
              "type": "string"
            }
          },
          "metadata": {},
          "execution_count": 111
        }
      ]
    },
    {
      "cell_type": "code",
      "source": [
        "matrix = []\n",
        "gene_names = []\n",
        "# Iterate over the lists and append each list to the matrix\n",
        "for i in range(len(data)-1):\n",
        "    list_tmp = myfunc(data[i+1])\n",
        "    gene_names.append(list_tmp[0])\n",
        "    matrix.append(list_tmp[1])\n",
        "\n",
        "# Convert the list of lists to a NumPy array\n",
        "matrix = np.array(matrix)"
      ],
      "metadata": {
        "id": "n4RHPJ2xQKCY"
      },
      "execution_count": 113,
      "outputs": []
    },
    {
      "cell_type": "code",
      "source": [
        "#print(matrix)\n",
        "matrix.shape\n",
        "gene_names[0:2]\n",
        "cell_names = data[0].split(',')[1:]\n",
        "print(cell_names[:3])\n",
        "print(len(cell_names))"
      ],
      "metadata": {
        "id": "bkusrQnGRBf-",
        "outputId": "b57b6bd6-925a-457f-b0e9-5b52840cf472",
        "colab": {
          "base_uri": "https://localhost:8080/"
        }
      },
      "execution_count": 119,
      "outputs": [
        {
          "output_type": "stream",
          "name": "stdout",
          "text": [
            "['\"C_1\"', '\"C_2\"', '\"C_3\"']\n",
            "199\n"
          ]
        }
      ]
    },
    {
      "cell_type": "code",
      "source": [
        "import numpy as np\n",
        "from scipy.sparse import csr_matrix\n",
        "exp_mat = csr_matrix(matrix)\n"
      ],
      "metadata": {
        "id": "pDlbgnh_8uok"
      },
      "execution_count": 121,
      "outputs": []
    },
    {
      "cell_type": "code",
      "source": [
        "# Read cell type from github\n",
        "\n",
        "import pandas as pd\n",
        "\n",
        "# GitHub raw CSV file URL\n",
        "github_raw_url = 'https://github.com/ZJUFanLab/scDeepSort/raw/master/test/mouse/mouse_Testis199_celltype.csv'\n",
        "\n",
        "# Read the CSV file into a DataFrame\n",
        "df = pd.read_csv(github_raw_url)\n",
        "\n",
        "# Display the DataFrame\n",
        "print(df)\n"
      ],
      "metadata": {
        "id": "8f7HZKHR7o79",
        "outputId": "e40745a4-6ef2-491b-fd5c-7761fff6e4a5",
        "colab": {
          "base_uri": "https://localhost:8080/"
        }
      },
      "execution_count": 122,
      "outputs": [
        {
          "output_type": "stream",
          "name": "stdout",
          "text": [
            "     Unnamed: 0   Cell     Cell_type\n",
            "0             1    C_1  Spermatocyte\n",
            "1             2    C_2  Spermatocyte\n",
            "2             3    C_3  Spermatocyte\n",
            "3             4    C_4  Spermatocyte\n",
            "4             5    C_5  Spermatocyte\n",
            "..          ...    ...           ...\n",
            "194         195  C_195  Spermatocyte\n",
            "195         196  C_196  Spermatocyte\n",
            "196         197  C_197  Spermatocyte\n",
            "197         198  C_198  Spermatocyte\n",
            "198         199  C_199  Spermatocyte\n",
            "\n",
            "[199 rows x 3 columns]\n"
          ]
        }
      ]
    },
    {
      "cell_type": "code",
      "source": [],
      "metadata": {
        "id": "hyrSPp6F78Ie"
      },
      "execution_count": null,
      "outputs": []
    }
  ]
}
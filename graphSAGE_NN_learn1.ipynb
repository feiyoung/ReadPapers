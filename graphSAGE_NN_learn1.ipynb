{
  "nbformat": 4,
  "nbformat_minor": 0,
  "metadata": {
    "colab": {
      "provenance": [],
      "gpuType": "T4",
      "authorship_tag": "ABX9TyNxsKc+IMlk0p4ll56xbjQr",
      "include_colab_link": true
    },
    "kernelspec": {
      "name": "python3",
      "display_name": "Python 3"
    },
    "language_info": {
      "name": "python"
    },
    "accelerator": "GPU"
  },
  "cells": [
    {
      "cell_type": "markdown",
      "metadata": {
        "id": "view-in-github",
        "colab_type": "text"
      },
      "source": [
        "<a href=\"https://colab.research.google.com/github/feiyoung/ReadPapers/blob/master/graphSAGE_NN_learn1.ipynb\" target=\"_parent\"><img src=\"https://colab.research.google.com/assets/colab-badge.svg\" alt=\"Open In Colab\"/></a>"
      ]
    },
    {
      "cell_type": "code",
      "execution_count": 2,
      "metadata": {
        "colab": {
          "base_uri": "https://localhost:8080/"
        },
        "id": "DkTABrBHmAKK",
        "outputId": "8be8b748-7a6e-4d9e-d44f-b28b6a42eea9"
      },
      "outputs": [
        {
          "output_type": "stream",
          "name": "stdout",
          "text": [
            "Collecting dgl\n",
            "  Downloading dgl-1.1.3-cp310-cp310-manylinux1_x86_64.whl (6.5 MB)\n",
            "\u001b[2K     \u001b[90m━━━━━━━━━━━━━━━━━━━━━━━━━━━━━━━━━━━━━━━━\u001b[0m \u001b[32m6.5/6.5 MB\u001b[0m \u001b[31m19.5 MB/s\u001b[0m eta \u001b[36m0:00:00\u001b[0m\n",
            "\u001b[?25hRequirement already satisfied: numpy>=1.14.0 in /usr/local/lib/python3.10/dist-packages (from dgl) (1.23.5)\n",
            "Requirement already satisfied: scipy>=1.1.0 in /usr/local/lib/python3.10/dist-packages (from dgl) (1.11.4)\n",
            "Requirement already satisfied: networkx>=2.1 in /usr/local/lib/python3.10/dist-packages (from dgl) (3.2.1)\n",
            "Requirement already satisfied: requests>=2.19.0 in /usr/local/lib/python3.10/dist-packages (from dgl) (2.31.0)\n",
            "Requirement already satisfied: tqdm in /usr/local/lib/python3.10/dist-packages (from dgl) (4.66.1)\n",
            "Requirement already satisfied: psutil>=5.8.0 in /usr/local/lib/python3.10/dist-packages (from dgl) (5.9.5)\n",
            "Requirement already satisfied: charset-normalizer<4,>=2 in /usr/local/lib/python3.10/dist-packages (from requests>=2.19.0->dgl) (3.3.2)\n",
            "Requirement already satisfied: idna<4,>=2.5 in /usr/local/lib/python3.10/dist-packages (from requests>=2.19.0->dgl) (3.6)\n",
            "Requirement already satisfied: urllib3<3,>=1.21.1 in /usr/local/lib/python3.10/dist-packages (from requests>=2.19.0->dgl) (2.0.7)\n",
            "Requirement already satisfied: certifi>=2017.4.17 in /usr/local/lib/python3.10/dist-packages (from requests>=2.19.0->dgl) (2023.11.17)\n",
            "Installing collected packages: dgl\n",
            "Successfully installed dgl-1.1.3\n"
          ]
        }
      ],
      "source": [
        "!pip install dgl"
      ]
    },
    {
      "cell_type": "markdown",
      "source": [
        "## 1. A GraphSAGE graph neural network example for homogenious Graph's node classification"
      ],
      "metadata": {
        "id": "FuXVLOeXnXik"
      }
    },
    {
      "cell_type": "code",
      "source": [
        "import dgl\n",
        "\n",
        "dataset = dgl.data.CiteseerGraphDataset() ## get the Citerseer dataset\n",
        "graph = dataset[0]\n",
        "print(graph)"
      ],
      "metadata": {
        "colab": {
          "base_uri": "https://localhost:8080/"
        },
        "id": "AmnrcBkOmNbs",
        "outputId": "8814751a-d440-4df6-b1b6-d785ae196fea"
      },
      "execution_count": 3,
      "outputs": [
        {
          "output_type": "stream",
          "name": "stderr",
          "text": [
            "DGL backend not selected or invalid.  Assuming PyTorch for now.\n"
          ]
        },
        {
          "output_type": "stream",
          "name": "stdout",
          "text": [
            "Setting the default backend to \"pytorch\". You can change it in the ~/.dgl/config.json file or export the DGLBACKEND environment variable.  Valid options are: pytorch, mxnet, tensorflow (all lowercase)\n",
            "Downloading /root/.dgl/citeseer.zip from https://data.dgl.ai/dataset/citeseer.zip...\n",
            "Extracting file to /root/.dgl/citeseer_d6836239\n",
            "Finished data loading and preprocessing.\n",
            "  NumNodes: 3327\n",
            "  NumEdges: 9228\n",
            "  NumFeats: 3703\n",
            "  NumClasses: 6\n",
            "  NumTrainingSamples: 120\n",
            "  NumValidationSamples: 500\n",
            "  NumTestSamples: 1000\n",
            "Done saving data into cached files.\n",
            "Graph(num_nodes=3327, num_edges=9228,\n",
            "      ndata_schemes={'train_mask': Scheme(shape=(), dtype=torch.bool), 'val_mask': Scheme(shape=(), dtype=torch.bool), 'test_mask': Scheme(shape=(), dtype=torch.bool), 'label': Scheme(shape=(), dtype=torch.int64), 'feat': Scheme(shape=(3703,), dtype=torch.float32)}\n",
            "      edata_schemes={})\n"
          ]
        }
      ]
    },
    {
      "cell_type": "code",
      "source": [
        "print(type(graph))"
      ],
      "metadata": {
        "id": "zKG-2kw7gJyU",
        "outputId": "de976e6c-062c-4ab4-a180-aaae25f8f9e5",
        "colab": {
          "base_uri": "https://localhost:8080/"
        }
      },
      "execution_count": 4,
      "outputs": [
        {
          "output_type": "stream",
          "name": "stdout",
          "text": [
            "<class 'dgl.heterograph.DGLGraph'>\n"
          ]
        }
      ]
    },
    {
      "cell_type": "code",
      "source": [
        "# 构建一个2层的GNN模型\n",
        "import dgl.nn as dglnn\n",
        "import torch.nn as nn\n",
        "import torch.nn.functional as F\n",
        "class SAGE(nn.Module):\n",
        "    def __init__(self, in_feats, hid_feats, out_feats):\n",
        "        super().__init__()\n",
        "        # 实例化SAGEConve，in_feats是输入特征的维度，out_feats是输出特征的维度，aggregator_type是聚合函数的类型\n",
        "        self.conv1 = dglnn.SAGEConv(\n",
        "            in_feats=in_feats, out_feats=hid_feats, aggregator_type='mean')\n",
        "        self.conv2 = dglnn.SAGEConv(\n",
        "            in_feats=hid_feats, out_feats=out_feats, aggregator_type='mean')\n",
        "\n",
        "    def forward(self, graph, inputs):\n",
        "        # 输入是节点的特征\n",
        "        h = self.conv1(graph, inputs)\n",
        "        h = F.relu(h)\n",
        "        h = self.conv2(graph, h)\n",
        "        return h"
      ],
      "metadata": {
        "id": "96xcdr1SmU83"
      },
      "execution_count": 5,
      "outputs": []
    },
    {
      "cell_type": "code",
      "source": [
        "node_features = graph.ndata['feat']\n",
        "node_labels = graph.ndata['label']\n",
        "train_mask = graph.ndata['train_mask']\n",
        "valid_mask = graph.ndata['val_mask']\n",
        "test_mask = graph.ndata['test_mask']\n",
        "n_features = node_features.shape[1]\n",
        "n_labels = int(node_labels.max().item() + 1)"
      ],
      "metadata": {
        "id": "wfHXITxTmXnw"
      },
      "execution_count": 6,
      "outputs": []
    },
    {
      "cell_type": "code",
      "source": [
        "def evaluate(model, graph, features, labels, mask):\n",
        "    model.eval() # Sets the model to evaluation mode. In PyTorch, this is important because it disables operations like dropout,\n",
        "    # which are usually active during training but should be turned off during evaluation.\n",
        "    # This context manager ensures that during the following block of code, PyTorch won't track operations for gradient computation.\n",
        "    # This is done for efficiency during evaluation since gradients are not needed.\n",
        "    with torch.no_grad():\n",
        "        logits = model(graph, features)\n",
        "        logits = logits[mask]\n",
        "        labels = labels[mask]\n",
        "        _, indices = torch.max(logits, dim=1)\n",
        "        correct = torch.sum(indices == labels)\n",
        "        return correct.item() * 1.0 / len(labels)"
      ],
      "metadata": {
        "id": "wKRkirqnmZmJ"
      },
      "execution_count": 7,
      "outputs": []
    },
    {
      "cell_type": "code",
      "source": [
        "import torch\n",
        "model = SAGE(in_feats=n_features, hid_feats=100, out_feats=n_labels)\n",
        "opt = torch.optim.Adam(model.parameters())\n",
        "\n",
        "for epoch in range(20): ## For showing example, we set 20; user can set 300 for better performance\n",
        "  # Puts the model in training mode. This is necessary because some layers,\n",
        "  # like dropout or batch normalization, behave differently during training compared to evaluation.\n",
        "    model.train() # set model to training mode: compute the grad autoly for parameters\n",
        "    # 使用所有节点(全图)进行前向传播计算\n",
        "    logits = model(graph, node_features)\n",
        "    # 计算损失值\n",
        "    loss = F.cross_entropy(logits[train_mask], node_labels[train_mask])\n",
        "    # 计算验证集的准确度\n",
        "    acc = evaluate(model, graph, node_features, node_labels, valid_mask)\n",
        "    # 进行反向传播计算\n",
        "    # Clears the gradients of all optimized tensors. This is necessary before computing the gradients for the next minibatch.\n",
        "    opt.zero_grad()\n",
        "    # Backward pass to compute the gradients of the loss with respect to the model parameters.\n",
        "    loss.backward()\n",
        "    # Updates the model parameters based on the computed gradients using the optimization algorithm (assumed to be stored in the opt variable).\n",
        "    opt.step()\n",
        "    # Prints the value of the training loss for the current epoch.\n",
        "    if(epoch % 50 ==0):\n",
        "      print(loss.item())\n",
        "\n",
        "    # 如果需要的话，保存训练好的模型。本例中省略。\n"
      ],
      "metadata": {
        "id": "dEXhFRPdmb3g",
        "outputId": "9302bd5f-4741-4d11-b05d-e754e150f9d8",
        "colab": {
          "base_uri": "https://localhost:8080/"
        }
      },
      "execution_count": 8,
      "outputs": [
        {
          "output_type": "stream",
          "name": "stdout",
          "text": [
            "1.7959935665130615\n"
          ]
        }
      ]
    },
    {
      "cell_type": "code",
      "source": [
        "print(loss) #\n",
        "print(loss.item())\n",
        "print(evaluate(model, graph, node_features, node_labels, valid_mask))\n"
      ],
      "metadata": {
        "id": "XBZNGm0UmiYK",
        "outputId": "1aed5de0-6774-402c-d41a-a3d196c167ba",
        "colab": {
          "base_uri": "https://localhost:8080/"
        }
      },
      "execution_count": 9,
      "outputs": [
        {
          "output_type": "stream",
          "name": "stdout",
          "text": [
            "tensor(1.4707, grad_fn=<NllLossBackward0>)\n",
            "1.4707082509994507\n",
            "0.574\n"
          ]
        }
      ]
    },
    {
      "cell_type": "code",
      "source": [
        "## Test\n",
        "evaluate(model, graph, node_features, node_labels, test_mask)"
      ],
      "metadata": {
        "id": "uksx1PuvmpUg",
        "outputId": "98c14c58-5902-48c8-e380-5ef9d31afa49",
        "colab": {
          "base_uri": "https://localhost:8080/"
        }
      },
      "execution_count": 10,
      "outputs": [
        {
          "output_type": "execute_result",
          "data": {
            "text/plain": [
              "0.549"
            ]
          },
          "metadata": {},
          "execution_count": 10
        }
      ]
    },
    {
      "cell_type": "markdown",
      "source": [
        "Note: some problems:\n",
        "(1) how to increase the stacked layers with multiple SAGEConv layers\n",
        "(2) how to obtain the node embedding after training?\n",
        "(3) Add the output information for the loss on testing data\n"
      ],
      "metadata": {
        "id": "VVRJUmdlqhXO"
      }
    },
    {
      "cell_type": "markdown",
      "source": [
        "## 1.1 Increase stacked layers by designing new"
      ],
      "metadata": {
        "id": "dZ0R4CF5rC1l"
      }
    },
    {
      "cell_type": "markdown",
      "source": [
        "Note: some problems:\n",
        "(1) how to increase the stacked layers with multiple SAGEConv layers\n",
        "(2) how to obtain the node embedding after training?\n",
        "(3) Add the output information for the loss on testing data\n"
      ],
      "metadata": {
        "id": "wyw_jugJ0Fax"
      }
    },
    {
      "cell_type": "code",
      "source": [
        "class gnn_me(nn.Module):\n",
        "  def __init__(self, in_feats, hid_feats, out_feats, n_layers):\n",
        "    super().__init__()\n",
        "    self.n_layers = n_layers # The layers of NN\n",
        "    self.layers = nn.ModuleList()\n",
        "    self.layers.append(SAGE(in_feats=in_feats, out_feats=hid_feats, hid_feats=hid_feats))\n",
        "    ## Append layers\n",
        "    for _ in range(n_layers - 1): # Set the last n-1 layers, hide layers use the same number of nerons: n_hidden\n",
        "            self.layers.append(SAGE(in_feats=hid_feats, out_feats=hid_feats, hid_feats=hid_feats))\n",
        "    self.linear = nn.Linear(hid_feats, out_feats)\n",
        "  def forward(self, graph, inputs):\n",
        "        # 输入是节点的特征\n",
        "        h = inputs\n",
        "        for i, layer in enumerate(self.layers):\n",
        "          h = self.layers[i].forward(graph, h)\n",
        "        h = self.linear(h)\n",
        "        return h\n",
        "  def get_node_embed(self, graph, inputs):\n",
        "        # 输入是节点的特征\n",
        "        h = inputs\n",
        "        for i, layer in enumerate(self.layers):\n",
        "          h = self.layers[i].forward(graph, h)\n",
        "        return h"
      ],
      "metadata": {
        "id": "IBi5uEDarB_8"
      },
      "execution_count": 21,
      "outputs": []
    },
    {
      "cell_type": "code",
      "source": [
        "import torch\n",
        "model = gnn_me(in_feats=n_features, hid_feats=100, out_feats=n_labels, n_layers=2)\n",
        "opt = torch.optim.Adam(model.parameters())\n",
        "\n",
        "for epoch in range(20): ## For showing example, we set 20; user can set 300 for better performance\n",
        "  # Puts the model in training mode. This is necessary because some layers,\n",
        "  # like dropout or batch normalization, behave differently during training compared to evaluation.\n",
        "    model.train() # set model to training mode: compute the grad autoly for parameters\n",
        "    # 使用所有节点(全图)进行前向传播计算\n",
        "    logits = model(graph, node_features)\n",
        "    # 计算损失值\n",
        "    loss = F.cross_entropy(logits[train_mask], node_labels[train_mask])\n",
        "    # 计算验证集的准确度\n",
        "    acc = evaluate(model, graph, node_features, node_labels, valid_mask)\n",
        "    # 进行反向传播计算\n",
        "    # Clears the gradients of all optimized tensors. This is necessary before computing the gradients for the next minibatch.\n",
        "    opt.zero_grad()\n",
        "    # Backward pass to compute the gradients of the loss with respect to the model parameters.\n",
        "    loss.backward()\n",
        "    # Updates the model parameters based on the computed gradients using the optimization algorithm (assumed to be stored in the opt variable).\n",
        "    opt.step()\n",
        "    # Prints the value of the training loss for the current epoch.\n",
        "    if(epoch % 10 ==0):\n",
        "      print(loss.item())\n",
        "\n",
        "    # 如果需要的话，保存训练好的模型。本例中省略。\n"
      ],
      "metadata": {
        "id": "Y45orH-SfMx5",
        "outputId": "cdcd254d-fd74-4685-925c-be597c41e96a",
        "colab": {
          "base_uri": "https://localhost:8080/"
        }
      },
      "execution_count": 22,
      "outputs": [
        {
          "output_type": "stream",
          "name": "stdout",
          "text": [
            "1.803070068359375\n",
            "1.4888160228729248\n"
          ]
        }
      ]
    },
    {
      "cell_type": "code",
      "source": [
        "print(loss) #\n",
        "print(loss.item())\n",
        "print(evaluate(model, graph, node_features, node_labels, valid_mask))"
      ],
      "metadata": {
        "id": "zLRmKuOpfkKV",
        "outputId": "e372cdae-7a7b-4b94-9e64-61c86c882f10",
        "colab": {
          "base_uri": "https://localhost:8080/"
        }
      },
      "execution_count": 13,
      "outputs": [
        {
          "output_type": "stream",
          "name": "stdout",
          "text": [
            "tensor(0.0001, grad_fn=<NllLossBackward0>)\n",
            "0.00010966437548631802\n",
            "0.646\n"
          ]
        }
      ]
    },
    {
      "cell_type": "code",
      "source": [
        "## Test\n",
        "evaluate(model, graph, node_features, node_labels, test_mask)"
      ],
      "metadata": {
        "id": "2f4rFq44fqKn",
        "outputId": "c521d15d-cd0e-42a2-a9a6-528f814d9ddb",
        "colab": {
          "base_uri": "https://localhost:8080/"
        }
      },
      "execution_count": 15,
      "outputs": [
        {
          "output_type": "execute_result",
          "data": {
            "text/plain": [
              "0.624"
            ]
          },
          "metadata": {},
          "execution_count": 15
        }
      ]
    },
    {
      "cell_type": "code",
      "source": [
        "print(graph.ntypes)"
      ],
      "metadata": {
        "id": "DqCIinsYj18l",
        "outputId": "042ce03f-2583-40ff-9ebd-f6692fed17fc",
        "colab": {
          "base_uri": "https://localhost:8080/"
        }
      },
      "execution_count": 30,
      "outputs": [
        {
          "output_type": "stream",
          "name": "stdout",
          "text": [
            "['_N']\n"
          ]
        }
      ]
    },
    {
      "cell_type": "markdown",
      "source": [
        "## 1.2 Get the node embedding after training\n"
      ],
      "metadata": {
        "id": "v9Xf8HGK0QHW"
      }
    },
    {
      "cell_type": "code",
      "source": [
        "## We only add an attribute function in gnn_me class: get_node_embed()\n",
        "model(graph, node_features).shape"
      ],
      "metadata": {
        "id": "6gghtoPd0U1h",
        "outputId": "c4684e4f-47d2-4721-e4c8-51edac181d51",
        "colab": {
          "base_uri": "https://localhost:8080/"
        }
      },
      "execution_count": 17,
      "outputs": [
        {
          "output_type": "execute_result",
          "data": {
            "text/plain": [
              "torch.Size([3327, 6])"
            ]
          },
          "metadata": {},
          "execution_count": 17
        }
      ]
    },
    {
      "cell_type": "code",
      "source": [
        "model.get_node_embed(graph, node_features).shape"
      ],
      "metadata": {
        "id": "NtTCsPnl02Fx",
        "outputId": "9b6dc910-80c5-41a8-fdf1-0498a8183f2e",
        "colab": {
          "base_uri": "https://localhost:8080/"
        }
      },
      "execution_count": 24,
      "outputs": [
        {
          "output_type": "execute_result",
          "data": {
            "text/plain": [
              "torch.Size([3327, 100])"
            ]
          },
          "metadata": {},
          "execution_count": 24
        }
      ]
    },
    {
      "cell_type": "markdown",
      "source": [
        "## 1.1.1 Create graph from external sources\n"
      ],
      "metadata": {
        "id": "eAJfPrJChQZI"
      }
    },
    {
      "cell_type": "code",
      "source": [
        "import dgl\n",
        "import torch as th\n",
        "import scipy.sparse as sp\n",
        "spmat = sp.rand(100, 100, density=0.05) # 5%非零项\n",
        "g2 = dgl.from_scipy(spmat)\n",
        "print(g2)\n",
        "print(type(g2))\n",
        "print(g2.ntypes) # output is ['_N']：it is a homo graph"
      ],
      "metadata": {
        "id": "TjakLRAzfqqt",
        "outputId": "8ddc1243-d3bb-4d06-90ed-60573a322785",
        "colab": {
          "base_uri": "https://localhost:8080/"
        }
      },
      "execution_count": 29,
      "outputs": [
        {
          "output_type": "stream",
          "name": "stdout",
          "text": [
            "Graph(num_nodes=100, num_edges=500,\n",
            "      ndata_schemes={}\n",
            "      edata_schemes={})\n",
            "<class 'dgl.heterograph.DGLGraph'>\n",
            "['_N']\n"
          ]
        }
      ]
    },
    {
      "cell_type": "code",
      "source": [
        "print(sp.rand(10, 10, density=0.05))\n",
        "g2.ndata"
      ],
      "metadata": {
        "id": "mRXgIieKkM_f",
        "outputId": "df59cd8c-893a-41d8-918b-0b308b705a92",
        "colab": {
          "base_uri": "https://localhost:8080/"
        }
      },
      "execution_count": 32,
      "outputs": [
        {
          "output_type": "stream",
          "name": "stdout",
          "text": [
            "  (9, 7)\t0.11506039163704085\n",
            "  (3, 1)\t0.2061782611085241\n",
            "  (8, 2)\t0.009909055485174179\n",
            "  (2, 3)\t0.010557253855524196\n",
            "  (0, 9)\t0.6131552035770037\n"
          ]
        },
        {
          "output_type": "execute_result",
          "data": {
            "text/plain": [
              "{}"
            ]
          },
          "metadata": {},
          "execution_count": 32
        }
      ]
    },
    {
      "cell_type": "markdown",
      "source": [
        "### Problem: how to create the heter graph from sparse matrix and add edge features"
      ],
      "metadata": {
        "id": "yHNEizVqk1dk"
      }
    },
    {
      "cell_type": "code",
      "source": [
        "import dgl\n",
        "import torch as th\n",
        "\n",
        "# 创建一个具有3种节点类型和3种边类型的异构图\n",
        "graph_data = {\n",
        "   ('drug', 'interacts', 'drug'): (th.tensor([0, 1]), th.tensor([1, 2])),\n",
        "   ('drug', 'interacts', 'gene'): (th.tensor([0, 1]), th.tensor([2, 3])),\n",
        "   ('drug', 'treats', 'disease'): (th.tensor([1]), th.tensor([2]))\n",
        "}\n",
        "g = dgl.heterograph(graph_data)\n",
        "print(g.ntypes) # it is heter. graph\n",
        "print(type(g))"
      ],
      "metadata": {
        "id": "yVrYreM7hgPk",
        "outputId": "dcba3192-31c9-4bfa-f6ab-11cab03263df",
        "colab": {
          "base_uri": "https://localhost:8080/"
        }
      },
      "execution_count": 28,
      "outputs": [
        {
          "output_type": "stream",
          "name": "stdout",
          "text": [
            "['disease', 'drug', 'gene']\n",
            "<class 'dgl.heterograph.DGLGraph'>\n"
          ]
        }
      ]
    },
    {
      "cell_type": "code",
      "source": [],
      "metadata": {
        "id": "yxV75ZGsjkBt"
      },
      "execution_count": null,
      "outputs": []
    }
  ]
}